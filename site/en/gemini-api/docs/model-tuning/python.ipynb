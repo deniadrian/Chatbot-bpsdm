{
  "cells": [
    {
      "cell_type": "markdown",
      "metadata": {
        "id": "Tce3stUlHN0L"
      },
      "source": [
        "##### Copyright 2024 Google LLC."
      ]
    },
    {
      "cell_type": "code",
      "execution_count": null,
      "metadata": {
        "cellView": "form",
        "id": "tuOe1ymfHZPu"
      },
      "outputs": [],
      "source": [
        "#@title Licensed under the Apache License, Version 2.0 (the \"License\");\n",
        "# you may not use this file except in compliance with the License.\n",
        "# You may obtain a copy of the License at\n",
        "#\n",
        "# https://www.apache.org/licenses/LICENSE-2.0\n",
        "#\n",
        "# Unless required by applicable law or agreed to in writing, software\n",
        "# distributed under the License is distributed on an \"AS IS\" BASIS,\n",
        "# WITHOUT WARRANTIES OR CONDITIONS OF ANY KIND, either express or implied.\n",
        "# See the License for the specific language governing permissions and\n",
        "# limitations under the License."
      ]
    },
    {
      "cell_type": "markdown",
      "metadata": {
        "id": "yeadDkMiISin"
      },
      "source": [
        "# Gemini API: Model tuning with Python"
      ]
    },
    {
      "cell_type": "markdown",
      "metadata": {
        "id": "lEXQ3OwKIa-O"
      },
      "source": [
        "<table class=\"tfo-notebook-buttons\" align=\"left\">\n",
        "  <td>\n",
        "    <a target=\"_blank\" href=\"https://ai.google.dev/gemini-api/docs/model-tuning/python\"><img src=\"https://ai.google.dev/static/site-assets/images/docs/notebook-site-button.png\" height=\"32\" width=\"32\" />View on ai.google.dev</a>\n",
        "  </td>\n",
        "    <td>\n",
        "    <a target=\"_blank\" href=\"https://colab.research.google.com/github/google/generative-ai-docs/blob/main/site/en/gemini-api/docs/model-tuning/python.ipynb\"><img src=\"https://www.tensorflow.org/images/colab_logo_32px.png\" />Run in Google Colab</a>\n",
        "  </td>\n",
        "  <td>\n",
        "    <a target=\"_blank\" href=\"https://github.com/google/generative-ai-docs/blob/main/site/en/gemini-api/docs/model-tuning/python.ipynb\"><img src=\"https://www.tensorflow.org/images/GitHub-Mark-32px.png\" />View source on GitHub</a>\n",
        "  </td>\n",
        "</table>"
      ]
    },
    {
      "cell_type": "markdown",
      "metadata": {
        "id": "Jp_CKyzxUqx6"
      },
      "source": [
        "In this notebook, you'll learn how to get started with the tuning service using the Python client library for the Gemini API. Here, you'll learn how to tune the text model behind the Gemini API's text generation service."
      ]
    },
    {
      "cell_type": "markdown",
      "metadata": {
        "id": "sOz_wyZAlCuQ"
      },
      "source": [
        "## Setup"
      ]
    },
    {
      "cell_type": "markdown",
      "metadata": {
        "id": "aHimx8NGMWDj"
      },
      "source": [
        "### Install the client library"
      ]
    },
    {
      "cell_type": "code",
      "execution_count": 3,
      "metadata": {
        "id": "cbcf72bcb56d"
      },
      "outputs": [],
      "source": [
        "!pip install -q google-generativeai"
      ]
    },
    {
      "cell_type": "markdown",
      "metadata": {
        "id": "jdIYSl2kN0cq"
      },
      "source": [
        "### Import libraries"
      ]
    },
    {
      "cell_type": "code",
      "execution_count": 4,
      "metadata": {
        "id": "8enrppafJPCX"
      },
      "outputs": [],
      "source": [
        "import google.generativeai as genai"
      ]
    },
    {
      "cell_type": "code",
      "execution_count": 5,
      "metadata": {
        "id": "lhqVUjH7ZKUi"
      },
      "outputs": [],
      "source": [
        "from google.colab import userdata\n",
        "genai.configure(api_key=userdata.get('GOOGLE_API_KEY'))"
      ]
    },
    {
      "cell_type": "markdown",
      "metadata": {
        "id": "P-MYZECwlRCq"
      },
      "source": [
        "You can check you existing tuned models with the `genai.list_tuned_model` method."
      ]
    },
    {
      "cell_type": "code",
      "execution_count": 14,
      "metadata": {
        "id": "XyWzoYFxU4r6",
        "colab": {
          "base_uri": "https://localhost:8080/",
          "height": 53
        },
        "outputId": "c5d406f5-4983-4655-91b8-4cecd2bb5efb"
      },
      "outputs": [
        {
          "output_type": "stream",
          "name": "stdout",
          "text": [
            "tunedModels/generate-num-2632\n",
            "tunedModels/chatbot-num-61\n"
          ]
        }
      ],
      "source": [
        "for i, m in zip(range(5), genai.list_tuned_models()):\n",
        "  print(m.name)"
      ]
    },
    {
      "cell_type": "markdown",
      "metadata": {
        "id": "BhkXRzciv3Dp"
      },
      "source": [
        "## Create tuned model"
      ]
    },
    {
      "cell_type": "markdown",
      "metadata": {
        "id": "OO8VZYAinLWc"
      },
      "source": [
        "To create a tuned model, you need to pass your dataset to the model in the `genai.create_tuned_model` method. You can do this be directly defining the input and output values in the call or importing from a file into a dataframe to pass to the method.\n",
        "\n",
        "For this example, you will tune a model to generate the next number in the sequence. For example, if the input is `1`, the model should output `2`. If the input is `one hundred`, the output should be `one hundred one`."
      ]
    },
    {
      "cell_type": "code",
      "execution_count": 7,
      "metadata": {
        "id": "w-EBSe9wTbLB",
        "colab": {
          "base_uri": "https://localhost:8080/",
          "height": 253
        },
        "outputId": "c46516ea-ee2d-4c90-f945-b542da0c0c1d"
      },
      "outputs": [
        {
          "output_type": "execute_result",
          "data": {
            "text/plain": [
              "Model(name='models/gemini-1.5-flash-001-tuning',\n",
              "      base_model_id='',\n",
              "      version='001',\n",
              "      display_name='Gemini 1.5 Flash 001 Tuning',\n",
              "      description=('Version of Gemini 1.5 Flash that supports tuning, our fast and versatile '\n",
              "                   'multimodal model for scaling across diverse tasks, released in May of 2024.'),\n",
              "      input_token_limit=16384,\n",
              "      output_token_limit=8192,\n",
              "      supported_generation_methods=['generateContent', 'countTokens', 'createTunedModel'],\n",
              "      temperature=1.0,\n",
              "      max_temperature=2.0,\n",
              "      top_p=0.95,\n",
              "      top_k=64)"
            ]
          },
          "metadata": {},
          "execution_count": 7
        }
      ],
      "source": [
        "base_model = [\n",
        "    m for m in genai.list_models()\n",
        "    if \"createTunedModel\" in m.supported_generation_methods and\n",
        "    \"flash\" in m.name][0]\n",
        "base_model"
      ]
    },
    {
      "cell_type": "code",
      "execution_count": 8,
      "metadata": {
        "id": "baHjHh1oTTTC"
      },
      "outputs": [],
      "source": [
        "import random\n",
        "\n",
        "name = f'chatbot-num-{random.randint(0,10000)}'\n",
        "operation = genai.create_tuned_model(\n",
        "    # You can use a tuned model here too. Set `source_model=\"tunedModels/...\"`\n",
        "    source_model=base_model.name,\n",
        "    training_data=[\n",
        "        {\n",
        "             'text_input': 'Apakah program Digital Talent Scholarship dipungut biaya?',\n",
        "             'output': 'Seluruh proses seleksi untuk mengikuti Program Digital Talent Scholarship tidak dipungut biaya apapun atau gratis.',\n",
        "        },{\n",
        "             'text_input': 'Benefit apa yang didapatkan oleh peserta DTS yang sudah menyelesaikan pelatihan?',\n",
        "             'output': 'Peserta yang telah menyelesaikan pelatihan sampai selesai akan mendapatkan beberapa benefit:Sertifikat CompletionKesempatan Sertifikasi GlobalAkses materi Mentor Class di Platform DiployAkses Virtual Internship di Platform DiployPenggantian Uang Pulsa*benefit yang diberikan tergantung akademi pelatihan dan tema pelatihan yang dipilih',\n",
        "        },{\n",
        "             'text_input': 'Berapa banyak beasiswa yang diberikan dalam program Digital Talent Scholarship 2024?',\n",
        "             'output': 'Beasiswa yang akan diberikan kepada 100.000 talenta yang terpilih.',\n",
        "        },{\n",
        "             'text_input': 'Siapa saja yang bisa mengikuti program Digital Talent Scholarship?',\n",
        "             'output': 'Program Digital Talent Scholarship terbuka bagi seluruh lapisan masyarakat Indonesia dengan syarat memiliki NIK.',\n",
        "        },{\n",
        "             'text_input': 'Apakah bisa mendaftar 2 pelatihan sekaligus?',\n",
        "             'output': 'Tidak bisa mendaftar 2 pelatihan DTS sekaligus. Jika ingin mengikuti lebih dari 1 pelatihan, harus sudah menyelesaikan pelatihan sebelumnya sampai mendapat sertifikat.',\n",
        "        },{\n",
        "             'text_input': 'Apakah data identitas diri yang sudah disubmit bisa diedit kembali?',\n",
        "             'output': 'Perubahan data seperti nama, NIK, tangal lahir, dan jenis kelamin tidak bisa diubah kembali setelah proses input dalam akun. Sedangkan untuk data email dan No Handphone dapat diubah melalui akun masing-masing peserta.',\n",
        "        },{\n",
        "             'text_input': 'Apakah lulusan SMK, D3, D4, dan S1 membutuhkan surat rekomendasi dari guru/dosen untuk mendaftar?',\n",
        "             'output': 'Surat rekomendasi dibutuhkan jika ingin mendaftar pelatihan Talent Scouting Academy (TSA). Surat Rekomendasi ditanda tangani minimal oleh Kaprodi yang menyatakan kesediaan mengkonversi hasil program TSA kedalam SKS. Silahkan upload surat rekomendasi pada website pendaftaran. Silahkan mengunduh template Surat Rekomendasi pada tautan berikut: Template Surat Rekomendasi',\n",
        "        },{\n",
        "             'text_input': 'Apakah saya bisa membatalkan pelatihan walaupun sudah mengikuti test substansi?',\n",
        "             'output': 'Bisa, jika status pelatihan masih dalam tahap pendaftaran, namun riwayat Tes substansi yang sudah dikerjakan akan hilang. Peserta tidak dapat mendaftar kembali ke pelatihan tersebut jika sudah dibatalkan.',\n",
        "        },{\n",
        "             'text_input': 'Apakah yang dimaksud dengan peserta cadangan?',\n",
        "             'output': 'Peserta cadangan dapat diartikan sebagai peserta yang akan didahulukan untuk mengisi kuota pelatihan, jika peserta lolos ada yang mengundurkan diri.Namun jika tidak ada peserta yang mengundurkan diri sampai pelatihan berlangsung, beberapa hari kemudian status �Peserta Cadangan� akan diganti menjadi �Tidak Diterima�.',\n",
        "        },{\n",
        "             'text_input': 'Apa saja data yang wajib disiapkan untuk pendaftaran?',\n",
        "             'output': 'Email aktif, Nama lengkap sesuai KTP, NIK, Nomor HP aktif, dan data pribadi lengkap sesuai form pendaftaran karena setiap pelatihan membutuhkan data yang berbeda. Silahkan cek pada silabus pelatihan.',\n",
        "        },{\n",
        "             'text_input': 'Apa yang harus dilakukan ketika kode OTP tidak masuk ke E-mail atau nomor handphone?',\n",
        "             'output': 'Periksa kembali email dan nomor handphone, dan pastikan keduanya aktif. Lapor ke helpdesk untuk cek alamat email dan nomor handphone.',\n",
        "        },{\n",
        "             'text_input': 'Bagaimana cara melihat pengumuman hasil seleksi pendaftaran?',\n",
        "             'output': 'Hi digiers, setelah selesai mendaftar pelatihan dan mengerjakan tes substansi, selanjutnya mohon untuk menunggu informasi pengumuman diterima pelatihan ya.Terkait pengumuman peserta diterima pelatihan mohon disimak secara detail beberapa informasi berikut:Informasi pengumuman terkait pelatihan akan selalu diupdate secara berkala dan dapat kamu lihat melalui menu notifikasi di akun DTS. Informasi pengumuman akan dikirimkan juga melalui email yang telah kamu daftarkan pada saat membuat akun DTS, silahkan bisa cek folder kotak masuk, spam, atau promosi pada email.Informasi pengumuman ada juga yang dikirimkan melalui nomor telepon yang didaftarkan dan terhubung dengan Whatsapp.Beberapa pelatihan juga diinformasikan pada website DTS yang dapat kamu lihat melalui tautan berikut: https://digitalent.kominfo.go.id/informasiPengumuman peserta diterima pelatihan akan diinformasikan setelah batas waktu pendaftaran selesai (bisa dicek pada halaman detail pelatihan). CATATAN: Beberapa pelatihan ada yang hanya menginformasikan pengumuman kepada peserta yang diterima saja, terkait hal ini merupakan kebijakan masing-masing dari tim penyelenggara setiap akademi pelatihan.',\n",
        "        },{\n",
        "             'text_input': 'Bagaimana cara membuat Akun Digital Talent Scholarship?',\n",
        "             'output': 'Kunjungi link https://digitalent.kominfo.go.id/register untuk membuat akun dan ikuti tahapan berikut:Masukkan email aktif, password, dan konfirmasi password, kemudian klik daftarSistem akan mengirim kode OTP ke email kamu untuk proses verifikasiMasukkan kode OTP pada form yang telah disediakanSelanjutnya, kamu akan diminta untuk melengkapi data pokok untuk keperluan pelatihan. Lengkapi form yang telah disediakan, lalu klik SimpanYeay, akun kamu telah terdaftar. Selanjutnya kamu dapat melakukan pendaftaran pelatihan yg kamu minati Panduan lebih lanjut dapat dilihat pada Video Berikut ini.Penting:Nama dan NIK akan dipadankan secara otomatis dengan data Dukcapil. Pastikan kamu memasukan data sesuai dengan yang tertera pada KTPDengan membuat akun, maka kamu dianggap telah menyetujui Syarat Ketentuan dan Kebijakan Privasi yang berlaku.',\n",
        "        },{\n",
        "             'text_input': 'Bagaimana teknis pembelajaran DTS?',\n",
        "             'output': 'Peserta akan melakukan pembelajaran melalui LMS (Learning Management System). Cara pembelajaran dari setiap pelatihan dapat berbeda namun mencakup:Pelatihan offline (untuk pelatihan offline)Pelatihan onlineSesi pembelajaran live melalui ZoomSesi tanya jawabTugasPre-test dan post-testUjian akhir',\n",
        "        },{\n",
        "             'text_input': 'Bagaimana cara mendaftar pelatihan?',\n",
        "             'output': 'Silahkan cari pelatihan yang diminati, selanjutnya dapat mengikuti tahapan berikut:Pilih pelatihan yang diminatiKlik tombol Daftar Sekarang pada halaman detail pelatihanLengakapi form pendaftaran pelatihan yang telah disediakan dengan benarSelanjutnya, baca ketetuan pelatihan dan checklist pada pernyataan jika telah menyetujuiKlik tombol Submit Pendaftaran Panduan lebih lanjut dapat dilihat pada Video Berikut ini.',\n",
        "        },{\n",
        "             'text_input': 'Bagaimana cara mengatasi permasalahan Login?',\n",
        "             'output': 'Silahkan memperhatikan beberapa hal berikut ini:Jika ada notifikasi \\\"reset password\\\", silahkan melengkapi data serta melakukan validasi NIKJika ada notifikasi \\\"Email atau password salah\\\", pastikan kembali email serta password yang didaftarkan sebelumnya sudah betul dan sesuai. Jika tidak berhasil silahkan pilih �Reset Password�Jika notifikasi \\\"Email tidak ditemukan\\\", silahkan mencoba untuk membuat akun baru atau mendaftar ulang kembali.Untuk informasi lebih detail dapat dilihat di video ini.',\n",
        "        },{\n",
        "             'text_input': 'Bagaimana caranya Peserta DTS 2019 s.d 2023 yang ingin kembali mendaftar pelatihan di DTS 2024?',\n",
        "             'output': 'Silahkan mengikuti langkah berikut:Peserta yang sudah pernah mengikuti pelatihan DTS periode 2019 s.d 2023 dapat Login kembali menggunakan Email yang digunakan terakhir kali saat mengikuti pelatihan DTS.Jika Email kamu terdaftar, link update password akan dikirimkan ke Email tersebut.Update Password baru.Login kembali menggunakan Email dan Password terbaru.Setelah berhasil Login, silahkan mengupdate data diri.Jika telah mengupdate data diri, sekarang kamu bisa memilih Pelatihan Digital yang kamu inginkan.',\n",
        "        },{\n",
        "             'text_input': 'Bagaimana jika NIK/E-mail/No. HP saya sudah terdaftar?',\n",
        "             'output': 'Silahkan menghubungi Helpdesk untuk dilakukan pengecekan.',\n",
        "        },{\n",
        "             'text_input': 'Bagaimana jika peserta sudah daftar tapi lupa unduh bukti pendaftaran?',\n",
        "             'output': 'Silahkan cek kembali dimasing-masing profil peserta pelatihan, lalu pilih �Pelatihan� dan nanti akan muncul tombol �Download Bukti Pendaftaran� di masing-masing pelatihan yang sudah terselesaikan.',\n",
        "        },{\n",
        "             'text_input': 'Bagaimana jika saya lupa password akun DTS?',\n",
        "             'output': 'Hi digiers, jika mengalami lupa password silahkan pilih �Lupa Password� pada halaman sign-in atau melalui tautan berikut: https://digitalent.kominfo.go.id/forgot-pass. Panduan lebih lanjut dapat dilihat di https://www.youtube.com/watch?v=oizTxctoDaU',\n",
        "        },{\n",
        "             'text_input': 'Bagaimana jika terjadi kendala saat upload dokumen dan foto?',\n",
        "             'output': 'Pastikan ukuran dokumen dan foto nya sesuai dengan ketentuan. Jika masih gagal harap hubungi helpdesk untuk melakukan pengecekan lebih lanjut',\n",
        "        },{\n",
        "             'text_input': 'Jika masih belum memiliki KTP, nomor identitas apa yang bisa di submit untuk mendaftar Digital Talent Scholarship 2023?',\n",
        "             'output': 'Bagi yang belum memiliki KTP, bisa menggunakan Nomor Induk Kependudukan yang tertera dalam Kartu Keluarga.',\n",
        "        },{\n",
        "             'text_input': 'Peserta yang sudah pernah ikut DTS apakah bisa ikut lagi? Kalau bisa, harus menggunakan akun sebelumnya atau membuat akun baru?',\n",
        "             'output': 'Peserta yang sudah pernah mengikuti Program DTS sebelumnya dapat kembali mengikuti DTS 2023, dan dapat login menggunakan akun sebelumnya yang sudah terdaftar. Bagi peserta baru, dapat membuat akun DTS terlebih dahulu.',\n",
        "        },{\n",
        "             'text_input': 'Apa itu tes substansi dan kenapa harus melakukannya?',\n",
        "             'output': 'Tes substansi merupakan tes yang mengukur kemampuan dasar peserta dalam memahami topik pembelajaran. Tes ini harus dilakukan sebelum mengikuti pelatihan untuk memastikan calon peserta mampu mengikuti pembelajaran dengan baik.',\n",
        "        },{\n",
        "             'text_input': 'Apa yang harus dilakukan jika gagal dalam tes substansi?',\n",
        "             'output': 'Peserta yang gagal dalam mengerjakan tes substansi berarti tidak lolos dalam pendaftaran pelatihan.',\n",
        "        },{\n",
        "             'text_input': 'Bagaimana cara mengetahui hasil tes substansi?',\n",
        "             'output': 'Pengumuman bagi Peserta yang lulus dalam tes substansi dan dapat mengikuti pelatihan dapat dilihat pada halama Informasi pada WEB DTS. Pengumuman juga disampaikan melalui email masing-masing peserta.',\n",
        "        },{\n",
        "             'text_input': 'Bagaimana jika terjadi kendala jaringan / server pada saat mengerjakan tes substansi?',\n",
        "             'output': 'Dalam mengerjakan tes substansi, Peserta dapat memperhatikan penduan berikut:Pastikan koneksi internet stabil dan pengaturan browser dengan �Javascript Enabled�.Disarankan menggunakan browser versi terbaru.Disarankan untuk menonaktifkan add-on pihak ketiga pada browser sebelum mengerjakan Tes Substansi.Jika masih terdapat kendala pada jaringan atau server, Peserta bisa melanjutkan pengerjan dengan waktu pengerjaan yang masih tersisa. Jika waktunya sudah habis jawaban akan otomatis tersubmit.',\n",
        "        },{\n",
        "             'text_input': 'Berapa lama waktu pengerjaan tes substansi?',\n",
        "             'output': 'Lama waktu pengerjaan tes substansi disesuaikan dengan banyak nya soal dan tingkat kesulitan.',\n",
        "        },{\n",
        "             'text_input': 'Kenapa status tes substansi belum/ tidak berubah?',\n",
        "             'output': 'Status tes substansi belum/tidak berubah bisa disebabkan oleh admin akademi yang belum merubah status tersebut. Mohon untuk dicek secara berkala perubahan status tersebut. Jika, status tes substansi masih belum berubah dalan jangka waktu yang lama, silahkan menghubungi helpdesk DTS untuk bantuan lebih lanjut.',\n",
        "        },{\n",
        "             'text_input': 'Seberapa sulit tes substansi?',\n",
        "             'output': 'Tingkat kesulitan tes substansi disesuaikan dengan masing masing pelatihan.',\n",
        "        },{\n",
        "             'text_input': 'Apakah ikut pelatihan wajib tidak bekerja?',\n",
        "             'output': 'Tidak, persyaratan setiap pelatihan dapat berbeda sesuai dengan kebijakan akademi.',\n",
        "        },{\n",
        "             'text_input': 'Apakah pelatihan DTS ini hanya bisa diikuti secara online saja?',\n",
        "             'output': 'Pelatihan DTS dapat diikuti secara online dan offline sesuai ketentuan pada tema pelatihan, untuk mencari tema pelatihan sesuai metode pelatihan tertentu silahkan menggunakan fitur filter.',\n",
        "        },{\n",
        "             'text_input': 'Apakah semua peserta mendapatkan biaya komunikasi?',\n",
        "             'output': 'Tidak semua peserta mendapatkan biaya komunikasi. Biaya komunikasi diberikan sesuai dengan kebijakan dan ketentuan dari masing-masing akademi.',\n",
        "        },{\n",
        "             'text_input': 'Bagaimana cara mencari pelatihan yang sesuai dengan domisili saat ini?',\n",
        "             'output': 'Peserta dapat mencari tema pelatihan yang sesuai dengan domisili melalui menu filter, lalu memilih domisili yang diinginkan. Tutorial selengkapnya dapat dilihat pada tautan berikut Tutorial Cari Pelatihan Sesuai Kota',\n",
        "        },{\n",
        "             'text_input': 'Bagaimana Jadwal dan Jam Pelatihan Digital Talent Scholarship 2023?',\n",
        "             'output': 'Jadwal dan jam pelatihan mengacu pada Silabus tema pelatihan yang tersedia pada website DTS. Informasi lebih detail akan disampaikan oleh panitia pada saat Pendaftar sudah dinyatakan diterima di pelatihan tersebut. Peserta juga akan mendapat notifikasi pada akun masing-masing.',\n",
        "        },{\n",
        "             'text_input': 'Bagaimana jika ingin mengikuti satu pelatihan namun sudah terdaftar di pelatihan lain?',\n",
        "             'output': 'Pelatihan sebelumnya dapat dibatalkan jika status pendaftaran masih dalam tahap pendaftaran, lalu daftar ke pelatihan yang diinginkan. Jika pelatihan sudah mulai, silahkan selesaikan pelatihannya terlebih dahulu, atau request mengundurkan diri kepada admin pelatihan.',\n",
        "        },{\n",
        "             'text_input': 'Bagaimana jika peserta mengundurkan diri pada saat pelatihan berjalan?',\n",
        "             'output': 'Peserta tidak akan lulus pelatihan dan tidak akan mendapatkan sertifikat.',\n",
        "        },{\n",
        "             'text_input': 'Kenapa status pelatihan tidak langsung terupdate pada website setelah pelatihan sudah selesai?',\n",
        "             'output': 'Karena setelah pelatihan selesai akan ada proses rekapitulasi nilai terlebih dahulu oleh panitia penyelenggara.Setelah proses ini selesai, maka status pelatihan pada website akan terupdate menjadi �Lulus� atau �Tidak Lulus�, kemudian peserta dapat mengunduh sertifikat jika dinyatakan lulus serta dapat mendaftar pada pelatihan lainnya.Estimasi proses rekapitulasi nilai berbeda-beda, karena setiap tema pelatihan memiliki jumlah peserta yang berbeda.',\n",
        "        },{\n",
        "             'text_input': 'Spesifikasi komputer seperti apa yang dibutuhkan untuk ikut setiap pelatihan?',\n",
        "             'output': 'Spesifikasi Komputer dapat dilihat di dalam Silabus pada setiap tema pelatihan yang terdapat pada website DTS.',\n",
        "        },{\n",
        "             'text_input': 'Apakah sertifikat dari DTS cukup kuat untuk melamar pekerjaan?',\n",
        "             'output': 'Sertifikat DTS bisa digunakan untuk melamar pekerjaan sebagai pendukung portofolio peserta. Jika pelatihan terdapat program sertifikasi keahlian, sertifikasi dapat membantu peserta dalam melamar pekerjaan.',\n",
        "        },{\n",
        "             'text_input': 'Bagaimana cara download sertifikat DTS?',\n",
        "             'output': 'Hi digiers, sertifikat pelatihan akan muncul pada dashboard profil setelah peserta mengisi survey ya.Tutorial unduh sertifikat pelatihan dapat dilihat pada video berikut ini https://youtu.be/RHoUuujve9UTutorial cek survey pelatihan dapat dilihat pada video berikut ini https://youtu.be/Hze3QluAd3s',\n",
        "        },{\n",
        "             'text_input': 'Bagaimana caranya mendownload sertifikat yang tahun lalu sudah diikuti?',\n",
        "             'output': 'Silahkan login ke halaman website DTS menggunakan akun DTS pada website sebelumnya, lalu cari sertifikat pelatihan tahun sebelumnya. Silahkan download Sertifikat pada laman tersebut.',\n",
        "        },{\n",
        "             'text_input': 'Bagaimana ketika setelah mengikuti pelatihan tetapi sertifikat tidak kunjung keluar /didapatkan?',\n",
        "             'output': 'Silahkan melapor ke admin pelatihan dan pastikan juga sudah memenuhi syarat kelulusan (contoh: lulus tes substansi, kehadiran, nilai mid tes, dan sudah isi survey evaluasi)',\n",
        "        },{\n",
        "             'text_input': 'Info Sertifikat DTS',\n",
        "             'output': 'Sertifikat tahun 2023 dan tahun sebelumnya, hanya dapat diunduh hingga bulan maret 2023, sesuai pada pengumuman berikut: Info Sertifikat DTS.Sertifikat pelatihan DTS hanya bisa diunduh selama 6 bulan sampai 1 tahun setelah dirilis, peserta disarankan segera mengunduh dan menyimpan sertifikat pelatihan yang diterima.',\n",
        "        },{\n",
        "             'text_input': 'Apakah Digital Talent Scholarship ini menyediakan lapangan pekerjaan setelah selesai pelatihan?',\n",
        "             'output': 'Program DTS tidak menjamin peserta untuk mendapatkan pekerjaan, namun para alumni DTS memiliki kesempatan untuk magang dan direkomendasikan untuk bekerja melalui Platform Diploy (Digital Employment). Diploy dapat diakses melalui link berikut: https://diploy.id/. Platform Diploy (Digital Employment) akan mempertemukan alumni DTS yang sudah tersertifikasi ke Industri yang sedang mencari tenaga kerja handal dan bersertifikat. Diploy juga memiliki fitur terbaru yaitu Virtual Internship.',\n",
        "        },{\n",
        "             'text_input': 'Bagaimana cara alumni DTS membuat akun di Platform Diploy?',\n",
        "             'output': 'Peserta dapat login ke Diploy.id dengan akun DTS karena kedua platform tersebut terintegrasi dengan single sign on',\n",
        "        },{\n",
        "             'text_input': 'Bisakah Platform Diploy diakses oleh umum atau yang belum registrasi dan mengikuti Pelatihan di DTS?',\n",
        "             'output': 'Tidak bisa. Peserta harus lulus dari minimal 1 pelatihan DTS untuk dapat menggunakan platform Diploy',\n",
        "        },{\n",
        "             'text_input': 'Setelah mengikuti pelatihan DTS apakah yang harus saya lakukan?',\n",
        "             'output': 'Peserta dapat melampirkan sertifikat pelatihan DTS dalam curriculum vitae dan juga dapat membuat akun pada portal lowongan pekerjaan seperti Diploy (Digital Employment), agar dapat mengapply lowongan dan bisa mengikuti program VIX.',\n",
        "        },{\n",
        "             'text_input': 'Apa itu Digital Talent Scholarship?',\n",
        "             'output': 'Digital Talent Scholarship (DTS) adalah program pelatihan pengembangan kompetensi yang telah diberikan kepada talenta digital Indonesia sejak tahun 2018. Program ini ditujukan untuk meningkatkan keterampilan dan daya saing, produktivitas, profesionalisme SDM bidang teknologi informasi dan komunikasi bagi angkatan kerja muda Indonesia, masyarakat umum, dan aparatur sipil negaradi bidang Komunikasi dan Informatika sehingga dapat meningkatkan produktivitas dan daya saing bangsa di era Industri 4.0, serta mampu memenuhi kebutuhan tenaga terampil di bidang teknologi. Program DTS secara garis besar dibagi menjadi delapan Akademi, yaitu: 1. Fresh Graduate Academy (FGA) - Lulusan Baru 2. Vocational School Graduate Academy (VSGA) - Lulusan Vokasi 3. Thematic Academy (TA) - Pelatihan Tematik 4. Professional Academy (ProA) - Pekerja Terampil 5. Government Transformation Academy (GTA) - Aparatur Sipil Negara 6. Digital Entrepreneurship Academy (DEA) - Wirausaha & UMKM 7. Digital Leadership Academy (DLA) - Pimpinan Digital 8. Talent Scouting Academy (TSA) - MahasiswaKementerian Komunikasi dan Informatika Republik Indonesia dalam hal ini berupaya untuk menciptakan ekosistem seimbang untuk memaksimalkan peran pentahelix (pemerintah, komunitas/masyarakat, institusi pendidikan tinggi, dunia usaha, dan media) untuk menjadi fasilitator dan akselerator pendukung ekonomi digital.',\n",
        "        },{\n",
        "             'text_input': 'Selamat pagi',\n",
        "             'output': 'Hai, selamat pagi! Semoga hari Anda menyenangkan. Digeris, silahkan tanya pertanyaanmu di bawah ya...',\n",
        "        },{\n",
        "             'text_input': 'Pagi, bagaimana kabarnya?',\n",
        "             'output': 'Hai, selamat pagi! Semoga hari Anda menyenangkan. Digeris, silahkan tanya pertanyaanmu di bawah ya...',\n",
        "        },{\n",
        "             'text_input': 'Selamat pagi semuanya!',\n",
        "             'output': 'Hai, selamat pagi! Semoga hari Anda menyenangkan. Digeris, silahkan tanya pertanyaanmu di bawah ya...',\n",
        "        },{\n",
        "             'text_input': 'Halo, selamat pagi!',\n",
        "             'output': 'Hai, selamat pagi! Semoga hari Anda menyenangkan. Digeris, silahkan tanya pertanyaanmu di bawah ya...',\n",
        "        },{\n",
        "             'text_input': 'Pagi!',\n",
        "             'output': 'Hai, selamat pagi! Semoga hari Anda menyenangkan. Digeris, silahkan tanya pertanyaanmu di bawah ya...',\n",
        "        },{\n",
        "             'text_input': 'Hai, pagi!',\n",
        "             'output': 'Hai, selamat pagi! Semoga hari Anda menyenangkan. Digeris, silahkan tanya pertanyaanmu di bawah ya...',\n",
        "        },{\n",
        "             'text_input': 'Selamat siang!',\n",
        "             'output': 'Hai, selamat siang! Semoga Anda tetap bersemangat sepanjang hari. Digeris, silahkan tanya pertanyaanmu di bawah ya...',\n",
        "        },{\n",
        "             'text_input': 'Selamat sore',\n",
        "             'output': 'Hai, selamat sore! Semoga hari Anda tetap menyenangkan sampai akhir. Digeris, silahkan tanya pertanyaanmu di bawah ya...',\n",
        "        },{\n",
        "             'text_input': 'Selamat malam',\n",
        "             'output': 'Hai, selamat malam! Semoga tidur Anda nyenyak dan penuh mimpi indah. Digeris, silahkan tanya pertanyaanmu di bawah ya...',\n",
        "        },{\n",
        "             'text_input': 'Kriteria peserta seperti apa yang dapat mengikuti program Digital Talent Scholarship?',\n",
        "             'output': 'Program Digital Talent Scholarship terbuka bagi seluruh lapisan masyarakat Indonesia dengan syarat memiliki NIK.',\n",
        "        },{\n",
        "             'text_input': 'Apakah bisa mendaftar 2 pelatihan sekaligus?',\n",
        "             'output': 'Tidak bisa mendaftar 2 pelatihan DTS sekaligus. Jika ingin mengikuti lebih dari 1 pelatihan, harus sudah menyelesaikan pelatihan sebelumnya sampai mendapat sertifikat.',\n",
        "        },{\n",
        "             'text_input': 'Apakah peserta dapat mendaftar dua pelatihan sekaligus?',\n",
        "             'output': 'Tidak bisa mendaftar 2 pelatihan DTS sekaligus. Jika ingin mengikuti lebih dari 1 pelatihan, harus sudah menyelesaikan pelatihan sebelumnya sampai mendapat sertifikat.',\n",
        "        },{\n",
        "             'text_input': 'Apakah mungkin untuk mengikuti dua pelatihan sekaligus?',\n",
        "             'output': 'Tidak bisa mendaftar 2 pelatihan DTS sekaligus. Jika ingin mengikuti lebih dari 1 pelatihan, harus sudah menyelesaikan pelatihan sebelumnya sampai mendapat sertifikat.',\n",
        "        },{\n",
        "             'text_input': 'Siang!',\n",
        "             'output': 'Hai, selamat siang! Semoga Anda tetap bersemangat sepanjang hari. Digeris, silahkan tanya pertanyaanmu di bawah ya...',\n",
        "        },{\n",
        "             'text_input': 'Pagi',\n",
        "             'output': 'Hai, selamat pagi! Semoga hari Anda menyenangkan. Digeris, silahkan tanya pertanyaanmu di bawah ya...',\n",
        "        },{\n",
        "             'text_input': 'Hai, selamat siang!',\n",
        "             'output': 'Hai, selamat siang! Semoga Anda tetap bersemangat sepanjang hari. Digeris, silahkan tanya pertanyaanmu di bawah ya...',\n",
        "        },{\n",
        "             'text_input': 'Selamat siang admin',\n",
        "             'output': 'Hai, selamat siang! Semoga Anda tetap bersemangat sepanjang hari. Digeris, silahkan tanya pertanyaanmu di bawah ya...',\n",
        "        },{\n",
        "             'text_input': 'Hai, selamat siang',\n",
        "             'output': 'Hai, selamat siang! Semoga Anda tetap bersemangat sepanjang hari. Digeris, silahkan tanya pertanyaanmu di bawah ya...',\n",
        "        },{\n",
        "             'text_input': 'Siang kak',\n",
        "             'output': 'Hai, selamat siang! Semoga Anda tetap bersemangat sepanjang hari. Digeris, silahkan tanya pertanyaanmu di bawah ya...',\n",
        "        },{\n",
        "             'text_input': 'halo Selamat siang!',\n",
        "             'output': 'Hai, selamat siang! Semoga Anda tetap bersemangat sepanjang hari. Digeris, silahkan tanya pertanyaanmu di bawah ya...',\n",
        "        },{\n",
        "             'text_input': 'Sore!',\n",
        "             'output': 'Hai, selamat sore! Semoga hari Anda tetap menyenangkan sampai akhir. Digeris, silahkan tanya pertanyaanmu di bawah ya...',\n",
        "        },{\n",
        "             'text_input': 'Halo, selamat sore!',\n",
        "             'output': 'Hai, selamat sore! Semoga hari Anda tetap menyenangkan sampai akhir. Digeris, silahkan tanya pertanyaanmu di bawah ya...',\n",
        "        },{\n",
        "             'text_input': 'Hai, selamat sore!',\n",
        "             'output': 'Hai, selamat sore! Semoga hari Anda tetap menyenangkan sampai akhir. Digeris, silahkan tanya pertanyaanmu di bawah ya...',\n",
        "        },{\n",
        "             'text_input': 'Sore mas',\n",
        "             'output': 'Hai, selamat sore! Semoga hari Anda tetap menyenangkan sampai akhir. Digeris, silahkan tanya pertanyaanmu di bawah ya...',\n",
        "        },{\n",
        "             'text_input': 'Malam!',\n",
        "             'output': 'Hai, selamat malam! Semoga tidur Anda nyenyak dan penuh mimpi indah. Digeris, silahkan tanya pertanyaanmu di bawah ya...',\n",
        "        },{\n",
        "             'text_input': 'Selamat sore teman!',\n",
        "             'output': 'Hai, selamat sore! Semoga hari Anda tetap menyenangkan sampai akhir. Digeris, silahkan tanya pertanyaanmu di bawah ya...',\n",
        "        },{\n",
        "             'text_input': 'Halo, selamat sore!',\n",
        "             'output': 'Hai, selamat sore! Semoga hari Anda tetap menyenangkan sampai akhir. Digeris, silahkan tanya pertanyaanmu di bawah ya...',\n",
        "        },{\n",
        "             'text_input': 'Selamat sore, admin!',\n",
        "             'output': 'Hai, selamat sore! Semoga hari Anda tetap menyenangkan sampai akhir. Digeris, silahkan tanya pertanyaanmu di bawah ya...',\n",
        "        },{\n",
        "             'text_input': 'Selamat malam semuanya!',\n",
        "             'output': 'Hai, selamat malam! Semoga tidur Anda nyenyak dan penuh mimpi indah. Digeris, silahkan tanya pertanyaanmu di bawah ya...',\n",
        "        },{\n",
        "             'text_input': 'Halo, selamat malam!',\n",
        "             'output': 'Hai, selamat malam! Semoga tidur Anda nyenyak dan penuh mimpi indah. Digeris, silahkan tanya pertanyaanmu di bawah ya...',\n",
        "        },{\n",
        "             'text_input': 'Selamat malam kak!',\n",
        "             'output': 'Hai, selamat malam! Semoga malam Anda penuh dengan kedamaian. Digeris, silahkan tanya pertanyaanmu di bawah ya...',\n",
        "        },{\n",
        "             'text_input': 'Malam min!',\n",
        "             'output': 'Hai, selamat malam! Semoga tidur Anda nyenyak dan penuh mimpi indah. Digeris, silahkan tanya pertanyaanmu di bawah ya...',\n",
        "        },{\n",
        "             'text_input': 'Selamat malam min!',\n",
        "             'output': 'Hai, selamat malam! Semoga tidur Anda nyenyak dan penuh mimpi indah. Digeris, silahkan tanya pertanyaanmu di bawah ya...',\n",
        "        },{\n",
        "             'text_input': 'Malam admin',\n",
        "             'output': 'Hai, selamat malam! Semoga tidur Anda nyenyak dan penuh mimpi indah. Digeris, silahkan tanya pertanyaanmu di bawah ya...',\n",
        "        },{\n",
        "             'text_input': 'Malam mas!',\n",
        "             'output': 'Hai, selamat malam! Semoga tidur Anda penuh ketenangan dan kenyamanan. Digeris, silahkan tanya pertanyaanmu di bawah ya...',\n",
        "        },{\n",
        "             'text_input': 'Selamat malam mas!',\n",
        "             'output': 'Hai, selamat malam! Semoga Anda memiliki malam yang penuh kedamaian. Digeris, silahkan tanya pertanyaanmu di bawah ya...',\n",
        "        },{\n",
        "             'text_input': 'Apa itu Digital Talent Scholarship?',\n",
        "             'output': 'Digital Talent Scholarship (DTS) adalah program pelatihan pengembangan kompetensi yang telah diberikan kepada talenta digital Indonesia sejak tahun 2018. Program ini ditujukan untuk meningkatkan keterampilan dan daya saing, produktivitas, profesionalisme SDM bidang teknologi informasi dan komunikasi bagi angkatan kerja muda Indonesia, masyarakat umum, dan aparatur sipil negaradi bidang Komunikasi dan Informatika sehingga dapat meningkatkan produktivitas dan daya saing bangsa di era Industri 4.0, serta mampu memenuhi kebutuhan tenaga terampil di bidang teknologi. Program DTS secara garis besar dibagi menjadi delapan Akademi, yaitu: 1. Fresh Graduate Academy (FGA) - Lulusan Baru2. Vocational School Graduate Academy (VSGA) - Lulusan Vokasi3. Thematic Academy (TA) - Pelatihan Tematik4. Professional Academy (ProA) - Pekerja Terampil5. Government Transformation Academy (GTA) - Aparatur Sipil Negara6. Digital Entrepreneurship Academy (DEA) - Wirausaha & UMKM7. Digital Leadership Academy (DLA) - Pimpinan Digital8. Talent Scouting Academy (TSA) - MahasiswaKementerian Komunikasi dan Informatika Republik Indonesia dalam hal ini berupaya untuk menciptakan ekosistem seimbang untuk memaksimalkan peran pentahelix (pemerintah, komunitas/masyarakat, institusi pendidikan tinggi, dunia usaha, dan media) untuk menjadi fasilitator dan akselerator pendukung ekonomi digital.',\n",
        "        },{\n",
        "             'text_input': 'Apa yang dimaksud dengan Digital Talent Scholarship?',\n",
        "             'output': 'Digital Talent Scholarship (DTS) adalah program pelatihan pengembangan kompetensi yang telah diberikan kepada talenta digital Indonesia sejak tahun 2018. Program ini ditujukan untuk meningkatkan keterampilan dan daya saing, produktivitas, profesionalisme SDM bidang teknologi informasi dan komunikasi bagi angkatan kerja muda Indonesia, masyarakat umum, dan aparatur sipil negaradi bidang Komunikasi dan Informatika sehingga dapat meningkatkan produktivitas dan daya saing bangsa di era Industri 4.0, serta mampu memenuhi kebutuhan tenaga terampil di bidang teknologi. Program DTS secara garis besar dibagi menjadi delapan Akademi, yaitu: 1. Fresh Graduate Academy (FGA) - Lulusan Baru2. Vocational School Graduate Academy (VSGA) - Lulusan Vokasi3. Thematic Academy (TA) - Pelatihan Tematik4. Professional Academy (ProA) - Pekerja Terampil5. Government Transformation Academy (GTA) - Aparatur Sipil Negara6. Digital Entrepreneurship Academy (DEA) - Wirausaha & UMKM7. Digital Leadership Academy (DLA) - Pimpinan Digital8. Talent Scouting Academy (TSA) - MahasiswaKementerian Komunikasi dan Informatika Republik Indonesia dalam hal ini berupaya untuk menciptakan ekosistem seimbang untuk memaksimalkan peran pentahelix (pemerintah, komunitas/masyarakat, institusi pendidikan tinggi, dunia usaha, dan media) untuk menjadi fasilitator dan akselerator pendukung ekonomi digital.',\n",
        "        },{\n",
        "             'text_input': 'Apa yang disebut sebagai Digital Talent Scholarship?',\n",
        "             'output': 'Digital Talent Scholarship (DTS) adalah program pelatihan pengembangan kompetensi yang telah diberikan kepada talenta digital Indonesia sejak tahun 2018. Program ini ditujukan untuk meningkatkan keterampilan dan daya saing, produktivitas, profesionalisme SDM bidang teknologi informasi dan komunikasi bagi angkatan kerja muda Indonesia, masyarakat umum, dan aparatur sipil negaradi bidang Komunikasi dan Informatika sehingga dapat meningkatkan produktivitas dan daya saing bangsa di era Industri 4.0, serta mampu memenuhi kebutuhan tenaga terampil di bidang teknologi. Program DTS secara garis besar dibagi menjadi delapan Akademi, yaitu: 1. Fresh Graduate Academy (FGA) - Lulusan Baru2. Vocational School Graduate Academy (VSGA) - Lulusan Vokasi3. Thematic Academy (TA) - Pelatihan Tematik4. Professional Academy (ProA) - Pekerja Terampil5. Government Transformation Academy (GTA) - Aparatur Sipil Negara6. Digital Entrepreneurship Academy (DEA) - Wirausaha & UMKM7. Digital Leadership Academy (DLA) - Pimpinan Digital8. Talent Scouting Academy (TSA) - MahasiswaKementerian Komunikasi dan Informatika Republik Indonesia dalam hal ini berupaya untuk menciptakan ekosistem seimbang untuk memaksimalkan peran pentahelix (pemerintah, komunitas/masyarakat, institusi pendidikan tinggi, dunia usaha, dan media) untuk menjadi fasilitator dan akselerator pendukung ekonomi digital.',\n",
        "        },{\n",
        "             'text_input': 'Apa saja benefit yang diperoleh peserta yang telah menuntaskan pelatihan DTS?',\n",
        "             'output': 'Peserta yang telah menyelesaikan pelatihan sampai selesai akan mendapatkan beberapa benefit:Sertifikat CompletionKesempatan Sertifikasi GlobalAkses materi Mentor Class di Platform DiployAkses Virtual Internship di Platform DiployPenggantian Uang Pulsa*benefit yang diberikan tergantung akademi pelatihan dan tema pelatihan yang dipilih',\n",
        "        },{\n",
        "             'text_input': 'Manfaat apa yang bisa didapatkan oleh peserta setelah menyelesaikan pelatihan DTS?',\n",
        "             'output': 'Peserta yang telah menyelesaikan pelatihan sampai selesai akan mendapatkan beberapa benefit:Sertifikat CompletionKesempatan Sertifikasi GlobalAkses materi Mentor Class di Platform DiployAkses Virtual Internship di Platform DiployPenggantian Uang Pulsa*benefit yang diberikan tergantung akademi pelatihan dan tema pelatihan yang dipilih',\n",
        "        },{\n",
        "             'text_input': 'Apakah yang dimaksud dengan program Digital Talent Scholarship?',\n",
        "             'output': 'Digital Talent Scholarship (DTS) adalah program pelatihan pengembangan kompetensi yang telah diberikan kepada talenta digital Indonesia sejak tahun 2018. Program ini ditujukan untuk meningkatkan keterampilan dan daya saing, produktivitas, profesionalisme SDM bidang teknologi informasi dan komunikasi bagi angkatan kerja muda Indonesia, masyarakat umum, dan aparatur sipil negaradi bidang Komunikasi dan Informatika sehingga dapat meningkatkan produktivitas dan daya saing bangsa di era Industri 4.0, serta mampu memenuhi kebutuhan tenaga terampil di bidang teknologi. Program DTS secara garis besar dibagi menjadi delapan Akademi, yaitu: 1. Fresh Graduate Academy (FGA) - Lulusan Baru2. Vocational School Graduate Academy (VSGA) - Lulusan Vokasi3. Thematic Academy (TA) - Pelatihan Tematik4. Professional Academy (ProA) - Pekerja Terampil5. Government Transformation Academy (GTA) - Aparatur Sipil Negara6. Digital Entrepreneurship Academy (DEA) - Wirausaha & UMKM7. Digital Leadership Academy (DLA) - Pimpinan Digital8. Talent Scouting Academy (TSA) - MahasiswaKementerian Komunikasi dan Informatika Republik Indonesia dalam hal ini berupaya untuk menciptakan ekosistem seimbang untuk memaksimalkan peran pentahelix (pemerintah, komunitas/masyarakat, institusi pendidikan tinggi, dunia usaha, dan media) untuk menjadi fasilitator dan akselerator pendukung ekonomi digital.',\n",
        "        },{\n",
        "             'text_input': 'Bagaimana penjelasan mengenai Digital Talent Scholarship?',\n",
        "             'output': 'Digital Talent Scholarship (DTS) adalah program pelatihan pengembangan kompetensi yang telah diberikan kepada talenta digital Indonesia sejak tahun 2018. Program ini ditujukan untuk meningkatkan keterampilan dan daya saing, produktivitas, profesionalisme SDM bidang teknologi informasi dan komunikasi bagi angkatan kerja muda Indonesia, masyarakat umum, dan aparatur sipil negaradi bidang Komunikasi dan Informatika sehingga dapat meningkatkan produktivitas dan daya saing bangsa di era Industri 4.0, serta mampu memenuhi kebutuhan tenaga terampil di bidang teknologi. Program DTS secara garis besar dibagi menjadi delapan Akademi, yaitu: 1. Fresh Graduate Academy (FGA) - Lulusan Baru2. Vocational School Graduate Academy (VSGA) - Lulusan Vokasi3. Thematic Academy (TA) - Pelatihan Tematik4. Professional Academy (ProA) - Pekerja Terampil5. Government Transformation Academy (GTA) - Aparatur Sipil Negara6. Digital Entrepreneurship Academy (DEA) - Wirausaha & UMKM7. Digital Leadership Academy (DLA) - Pimpinan Digital8. Talent Scouting Academy (TSA) - MahasiswaKementerian Komunikasi dan Informatika Republik Indonesia dalam hal ini berupaya untuk menciptakan ekosistem seimbang untuk memaksimalkan peran pentahelix (pemerintah, komunitas/masyarakat, institusi pendidikan tinggi, dunia usaha, dan media) untuk menjadi fasilitator dan akselerator pendukung ekonomi digital.',\n",
        "        },{\n",
        "             'text_input': 'Bisakah mendaftar lebih dari satu pelatihan dalam waktu yang sama?',\n",
        "             'output': 'Tidak bisa mendaftar 2 pelatihan DTS sekaligus. Jika ingin mengikuti lebih dari 1 pelatihan, harus sudah menyelesaikan pelatihan sebelumnya sampai mendapat sertifikat.',\n",
        "        },{\n",
        "             'text_input': 'Apakah diperbolehkan mengambil dua pelatihan secara bersamaan?',\n",
        "             'output': 'Tidak bisa mendaftar 2 pelatihan DTS sekaligus. Jika ingin mengikuti lebih dari 1 pelatihan, harus sudah menyelesaikan pelatihan sebelumnya sampai mendapat sertifikat.',\n",
        "        },{\n",
        "             'text_input': 'Apa yang dimaksud oleh Digital Talent Scholarship?',\n",
        "             'output': 'Digital Talent Scholarship (DTS) adalah program pelatihan pengembangan kompetensi yang telah diberikan kepada talenta digital Indonesia sejak tahun 2018. Program ini ditujukan untuk meningkatkan keterampilan dan daya saing, produktivitas, profesionalisme SDM bidang teknologi informasi dan komunikasi bagi angkatan kerja muda Indonesia, masyarakat umum, dan aparatur sipil negaradi bidang Komunikasi dan Informatika sehingga dapat meningkatkan produktivitas dan daya saing bangsa di era Industri 4.0, serta mampu memenuhi kebutuhan tenaga terampil di bidang teknologi. Program DTS secara garis besar dibagi menjadi delapan Akademi, yaitu: 1. Fresh Graduate Academy (FGA) - Lulusan Baru2. Vocational School Graduate Academy (VSGA) - Lulusan Vokasi3. Thematic Academy (TA) - Pelatihan Tematik4. Professional Academy (ProA) - Pekerja Terampil5. Government Transformation Academy (GTA) - Aparatur Sipil Negara6. Digital Entrepreneurship Academy (DEA) - Wirausaha & UMKM7. Digital Leadership Academy (DLA) - Pimpinan Digital8. Talent Scouting Academy (TSA) - MahasiswaKementerian Komunikasi dan Informatika Republik Indonesia dalam hal ini berupaya untuk menciptakan ekosistem seimbang untuk memaksimalkan peran pentahelix (pemerintah, komunitas/masyarakat, institusi pendidikan tinggi, dunia usaha, dan media) untuk menjadi fasilitator dan akselerator pendukung ekonomi digital.',\n",
        "        },{\n",
        "             'text_input': 'Apakah ada biaya untuk mengikuti program Digital Talent Scholarship?',\n",
        "             'output': 'Seluruh proses seleksi untuk mengikuti Program Digital Talent Scholarship tidak dipungut biaya apapun atau gratis.',\n",
        "        },{\n",
        "             'text_input': 'Apakah peserta perlu membayar untuk mengikuti Digital Talent Scholarship?',\n",
        "             'output': 'Seluruh proses seleksi untuk mengikuti Program Digital Talent Scholarship tidak dipungut biaya apapun atau gratis.',\n",
        "        },{\n",
        "             'text_input': 'Apakah program Digital Talent Scholarship gratis?',\n",
        "             'output': 'Seluruh proses seleksi untuk mengikuti Program Digital Talent Scholarship tidak dipungut biaya apapun atau gratis.',\n",
        "        },{\n",
        "             'text_input': 'Apakah mengikuti Digital Talent Scholarship memerlukan biaya?',\n",
        "             'output': 'Seluruh proses seleksi untuk mengikuti Program Digital Talent Scholarship tidak dipungut biaya apapun atau gratis.',\n",
        "        },{\n",
        "             'text_input': 'Apakah ada pungutan biaya untuk program Digital Talent Scholarship?',\n",
        "             'output': 'Seluruh proses seleksi untuk mengikuti Program Digital Talent Scholarship tidak dipungut biaya apapun atau gratis.',\n",
        "        },{\n",
        "             'text_input': 'Apakah program Digital Talent Scholarship dipungut biaya?',\n",
        "             'output': 'Seluruh proses seleksi untuk mengikuti Program Digital Talent Scholarship tidak dipungut biaya apapun atau gratis.',\n",
        "        },{\n",
        "             'text_input': 'Benefit apa yang didapatkan oleh peserta DTS yang sudah menyelesaikan pelatihan?',\n",
        "             'output': 'Peserta yang telah menyelesaikan pelatihan sampai selesai akan mendapatkan beberapa benefit:Sertifikat CompletionKesempatan Sertifikasi GlobalAkses materi Mentor Class di Platform DiployAkses Virtual Internship di Platform DiployPenggantian Uang Pulsa*benefit yang diberikan tergantung akademi pelatihan dan tema pelatihan yang dipilih',\n",
        "        },{\n",
        "             'text_input': 'Apa saja manfaat yang diperoleh peserta DTS setelah menyelesaikan pelatihan?',\n",
        "             'output': 'Peserta yang telah menyelesaikan pelatihan sampai selesai akan mendapatkan beberapa benefit:Sertifikat CompletionKesempatan Sertifikasi GlobalAkses materi Mentor Class di Platform DiployAkses Virtual Internship di Platform DiployPenggantian Uang Pulsa*benefit yang diberikan tergantung akademi pelatihan dan tema pelatihan yang dipilih',\n",
        "        },{\n",
        "             'text_input': 'Apa keuntungan yang didapatkan peserta DTS setelah mengikuti pelatihan?',\n",
        "             'output': 'Peserta yang telah menyelesaikan pelatihan sampai selesai akan mendapatkan beberapa benefit:Sertifikat CompletionKesempatan Sertifikasi GlobalAkses materi Mentor Class di Platform DiployAkses Virtual Internship di Platform DiployPenggantian Uang Pulsa*benefit yang diberikan tergantung akademi pelatihan dan tema pelatihan yang dipilih',\n",
        "        },{\n",
        "             'text_input': 'Apa tindakan yang perlu diambil jika tes substansi tidak berhasil dilalui?',\n",
        "             'output': 'Peserta yang gagal dalam mengerjakan tes substansi berarti tidak lolos dalam pendaftaran pelatihan.',\n",
        "        },{\n",
        "             'text_input': 'Apa saja keuntungan bagi peserta yang telah menyelesaikan pelatihan dalam program D',\n",
        "             'output': 'Peserta yang telah menyelesaikan pelatihan sampai selesai akan mendapatkan beberapa benefit:Sertifikat CompletionKesempatan Sertifikasi GlobalAkses materi Mentor Class di Platform DiployAkses Virtual Internship di Platform DiployPenggantian Uang Pulsa*benefit yang diberikan tergantung akademi pelatihan dan tema pelatihan yang dipilih',\n",
        "        },{\n",
        "             'text_input': 'Berapa banyak beasiswa yang diberikan dalam program Digital Talent Scholarship 2024?',\n",
        "             'output': 'Beasiswa yang akan diberikan kepada 100.000 talenta yang terpilih.',\n",
        "        },{\n",
        "             'text_input': 'Ada berapa banyak beasiswa yang ditawarkan dalam Digital Talent Scholarship 2024?',\n",
        "             'output': 'Beasiswa yang akan diberikan kepada 100.000 talenta yang terpilih.',\n",
        "        },{\n",
        "             'text_input': 'Berapa kuota beasiswa yang disediakan dalam program Digital Talent Scholarship 2024?',\n",
        "             'output': 'Beasiswa yang akan diberikan kepada 100.000 talenta yang terpilih.',\n",
        "        },{\n",
        "             'text_input': 'Berapa banyak penerima beasiswa di program Digital Talent Scholarship 2024?',\n",
        "             'output': 'Beasiswa yang akan diberikan kepada 100.000 talenta yang terpilih.',\n",
        "        },{\n",
        "             'text_input': 'Berapa total beasiswa yang diberikan melalui Digital Talent Scholarship 2024?',\n",
        "             'output': 'Beasiswa yang akan diberikan kepada 100.000 talenta yang terpilih.',\n",
        "        },{\n",
        "             'text_input': 'Siapa saja yang bisa mengikuti program Digital Talent Scholarship?',\n",
        "             'output': 'Program Digital Talent Scholarship terbuka bagi seluruh lapisan masyarakat Indonesia dengan syarat memiliki NIK.',\n",
        "        },{\n",
        "             'text_input': 'Siapa yang memenuhi syarat untuk mengikuti program Digital Talent Scholarship?',\n",
        "             'output': 'Program Digital Talent Scholarship terbuka bagi seluruh lapisan masyarakat Indonesia dengan syarat memiliki NIK.',\n",
        "        },{\n",
        "             'text_input': 'Siapa saja yang berhak mendaftar dalam program Digital Talent Scholarship?',\n",
        "             'output': 'Program Digital Talent Scholarship terbuka bagi seluruh lapisan masyarakat Indonesia dengan syarat memiliki NIK.',\n",
        "        },{\n",
        "             'text_input': 'Siapa yang dapat berpartisipasi di program Digital Talent Scholarship?',\n",
        "             'output': 'Program Digital Talent Scholarship terbuka bagi seluruh lapisan masyarakat Indonesia dengan syarat memiliki NIK.',\n",
        "        },{\n",
        "             'text_input': 'Siapa yang bisa menjadi peserta program Digital Talent Scholarship?',\n",
        "             'output': 'Program Digital Talent Scholarship terbuka bagi seluruh lapisan masyarakat Indonesia dengan syarat memiliki NIK.',\n",
        "        },{\n",
        "             'text_input': 'Apakah peserta bisa mengikuti dua program pelatihan sekaligus?',\n",
        "             'output': 'Tidak bisa mendaftar 2 pelatihan DTS sekaligus. Jika ingin mengikuti lebih dari 1 pelatihan, harus sudah menyelesaikan pelatihan sebelumnya sampai mendapat sertifikat.',\n",
        "        },{\n",
        "             'text_input': 'Apakah data identitas diri yang sudah disubmit bisa diedit kembali?',\n",
        "             'output': 'Perubahan data seperti nama, NIK, tangal lahir, dan jenis kelamin tidak bisa diubah kembali setelah proses input dalam akun. Sedangkan untuk data email dan No Handphone dapat diubah melalui akun masing-masing peserta.',\n",
        "        },{\n",
        "             'text_input': 'Apakah data identitas yang telah dikirim dapat diubah lagi?',\n",
        "             'output': 'Perubahan data seperti nama, NIK, tangal lahir, dan jenis kelamin tidak bisa diubah kembali setelah proses input dalam akun. Sedangkan untuk data email dan No Handphone dapat diubah melalui akun masing-masing peserta.',\n",
        "        },{\n",
        "             'text_input': 'Apakah mungkin untuk mengedit kembali data diri yang sudah disubmit?',\n",
        "             'output': 'Perubahan data seperti nama, NIK, tangal lahir, dan jenis kelamin tidak bisa diubah kembali setelah proses input dalam akun. Sedangkan untuk data email dan No Handphone dapat diubah melalui akun masing-masing peserta.',\n",
        "        },{\n",
        "             'text_input': 'Bisakah data identitas yang sudah diunggah diperbarui?',\n",
        "             'output': 'Perubahan data seperti nama, NIK, tangal lahir, dan jenis kelamin tidak bisa diubah kembali setelah proses input dalam akun. Sedangkan untuk data email dan No Handphone dapat diubah melalui akun masing-masing peserta.',\n",
        "        },{\n",
        "             'text_input': 'Apakah data diri yang sudah diisi bisa diubah setelah disubmit?',\n",
        "             'output': 'Perubahan data seperti nama, NIK, tangal lahir, dan jenis kelamin tidak bisa diubah kembali setelah proses input dalam akun. Sedangkan untuk data email dan No Handphone dapat diubah melalui akun masing-masing peserta.',\n",
        "        },{\n",
        "             'text_input': 'Apakah ada opsi untuk mengedit data identitas setelah pengiriman?',\n",
        "             'output': 'Perubahan data seperti nama, NIK, tangal lahir, dan jenis kelamin tidak bisa diubah kembali setelah proses input dalam akun. Sedangkan untuk data email dan No Handphone dapat diubah melalui akun masing-masing peserta.',\n",
        "        },{\n",
        "             'text_input': 'Apakah lulusan SMK, D3, D4, dan S1 membutuhkan surat rekomendasi dari guru/dosen untuk mendaftar?',\n",
        "             'output': 'Surat rekomendasi dibutuhkan jika ingin mendaftar pelatihan Talent Scouting Academy (TSA). Surat Rekomendasi ditanda tangani minimal oleh Kaprodi yang menyatakan kesediaan mengkonversi hasil program TSA kedalam SKS. Silahkan upload surat rekomendasi pada website pendaftaran. Silahkan mengunduh template Surat Rekomendasi pada tautan berikut: Template Surat Rekomendasi',\n",
        "        },{\n",
        "             'text_input': 'Apakah lulusan SMK, D3, D4, dan S1 perlu surat rekomendasi dari guru atau dosen untuk mendaftar?',\n",
        "             'output': 'Surat rekomendasi dibutuhkan jika ingin mendaftar pelatihan Talent Scouting Academy (TSA). Surat Rekomendasi ditanda tangani minimal oleh Kaprodi yang menyatakan kesediaan mengkonversi hasil program TSA kedalam SKS. Silahkan upload surat rekomendasi pada website pendaftaran. Silahkan mengunduh template Surat Rekomendasi pada tautan berikut: Template Surat Rekomendasi',\n",
        "        },{\n",
        "             'text_input': 'Apakah pendaftar dengan latar belakang SMK, D3, D4, dan S1 harus menyertakan surat rekomendasi dari guru atau dosen?',\n",
        "             'output': 'Surat rekomendasi dibutuhkan jika ingin mendaftar pelatihan Talent Scouting Academy (TSA). Surat Rekomendasi ditanda tangani minimal oleh Kaprodi yang menyatakan kesediaan mengkonversi hasil program TSA kedalam SKS. Silahkan upload surat rekomendasi pada website pendaftaran. Silahkan mengunduh template Surat Rekomendasi pada tautan berikut: Template Surat Rekomendasi',\n",
        "        },{\n",
        "             'text_input': 'Apakah lulusan SMK, D3, D4, dan S1 wajib memiliki surat rekomendasi dari guru atau dosen untuk mendaftar?',\n",
        "             'output': 'Surat rekomendasi dibutuhkan jika ingin mendaftar pelatihan Talent Scouting Academy (TSA). Surat Rekomendasi ditanda tangani minimal oleh Kaprodi yang menyatakan kesediaan mengkonversi hasil program TSA kedalam SKS. Silahkan upload surat rekomendasi pada website pendaftaran. Silahkan mengunduh template Surat Rekomendasi pada tautan berikut: Template Surat Rekomendasi',\n",
        "        },{\n",
        "             'text_input': 'Apakah calon peserta lulusan SMK, D3, D4, dan S1 memerlukan surat rekomendasi dari guru/dosen untuk pendaftaran?',\n",
        "             'output': 'Surat rekomendasi dibutuhkan jika ingin mendaftar pelatihan Talent Scouting Academy (TSA). Surat Rekomendasi ditanda tangani minimal oleh Kaprodi yang menyatakan kesediaan mengkonversi hasil program TSA kedalam SKS. Silahkan upload surat rekomendasi pada website pendaftaran. Silahkan mengunduh template Surat Rekomendasi pada tautan berikut: Template Surat Rekomendasi',\n",
        "        },{\n",
        "             'text_input': 'Bagaimana cara mengatasi jika kode OTP tidak masuk ke E-mail atau nomor handphone?',\n",
        "             'output': 'Periksa kembali email dan nomor handphone, dan pastikan keduanya aktif. Lapor ke helpdesk untuk cek alamat email dan nomor handphone.',\n",
        "        },{\n",
        "             'text_input': 'Apakah lulusan jenjang SMK, D3, D4, dan S1 membutuhkan rekomendasi dari guru atau dosen saat mendaftar?',\n",
        "             'output': 'Surat rekomendasi dibutuhkan jika ingin mendaftar pelatihan Talent Scouting Academy (TSA). Surat Rekomendasi ditanda tangani minimal oleh Kaprodi yang menyatakan kesediaan mengkonversi hasil program TSA kedalam SKS. Silahkan upload surat rekomendasi pada website pendaftaran. Silahkan mengunduh template Surat Rekomendasi pada tautan berikut: Template Surat Rekomendasi',\n",
        "        },{\n",
        "             'text_input': 'Apakah saya bisa membatalkan pelatihan walaupun sudah mengikuti test substansi?',\n",
        "             'output': 'Bisa, jika status pelatihan masih dalam tahap pendaftaran, namun riwayat Tes substansi yang sudah dikerjakan akan hilang. Peserta tidak dapat mendaftar kembali ke pelatihan tersebut jika sudah dibatalkan.',\n",
        "        },{\n",
        "             'text_input': 'Apakah saya dapat membatalkan pelatihan meskipun sudah mengikuti tes substansi?',\n",
        "             'output': 'Bisa, jika status pelatihan masih dalam tahap pendaftaran, namun riwayat Tes substansi yang sudah dikerjakan akan hilang. Peserta tidak dapat mendaftar kembali ke pelatihan tersebut jika sudah dibatalkan.',\n",
        "        },{\n",
        "             'text_input': 'Apakah ada opsi untuk membatalkan pelatihan setelah mengikuti tes substansi?',\n",
        "             'output': 'Bisa, jika status pelatihan masih dalam tahap pendaftaran, namun riwayat Tes substansi yang sudah dikerjakan akan hilang. Peserta tidak dapat mendaftar kembali ke pelatihan tersebut jika sudah dibatalkan.',\n",
        "        },{\n",
        "             'text_input': 'Bisakah saya berhenti dari pelatihan walaupun sudah menjalani tes substansi?',\n",
        "             'output': 'Bisa, jika status pelatihan masih dalam tahap pendaftaran, namun riwayat Tes substansi yang sudah dikerjakan akan hilang. Peserta tidak dapat mendaftar kembali ke pelatihan tersebut jika sudah dibatalkan.',\n",
        "        },{\n",
        "             'text_input': 'Apakah mungkin untuk membatalkan pelatihan setelah tes substansi selesai diikuti?',\n",
        "             'output': 'Bisa, jika status pelatihan masih dalam tahap pendaftaran, namun riwayat Tes substansi yang sudah dikerjakan akan hilang. Peserta tidak dapat mendaftar kembali ke pelatihan tersebut jika sudah dibatalkan.',\n",
        "        },{\n",
        "             'text_input': 'Apakah saya masih bisa membatalkan pelatihan jika sudah mengikuti tes substansi?',\n",
        "             'output': 'Bisa, jika status pelatihan masih dalam tahap pendaftaran, namun riwayat Tes substansi yang sudah dikerjakan akan hilang. Peserta tidak dapat mendaftar kembali ke pelatihan tersebut jika sudah dibatalkan.',\n",
        "        },{\n",
        "             'text_input': 'Apakah yang dimaksud dengan peserta cadangan?',\n",
        "             'output': 'Peserta cadangan dapat diartikan sebagai peserta yang akan didahulukan untuk mengisi kuota pelatihan, jika peserta lolos ada yang mengundurkan diri.Namun jika tidak ada peserta yang mengundurkan diri sampai pelatihan berlangsung, beberapa hari kemudian status �Peserta Cadangan� akan diganti menjadi �Tidak Diterima�.',\n",
        "        },{\n",
        "             'text_input': 'Apa yang dimaksud dengan istilah peserta cadangan?',\n",
        "             'output': 'Peserta cadangan dapat diartikan sebagai peserta yang akan didahulukan untuk mengisi kuota pelatihan, jika peserta lolos ada yang mengundurkan diri.Namun jika tidak ada peserta yang mengundurkan diri sampai pelatihan berlangsung, beberapa hari kemudian status �Peserta Cadangan� akan diganti menjadi �Tidak Diterima�.',\n",
        "        },{\n",
        "             'text_input': 'Apa pengertian dari peserta cadangan?',\n",
        "             'output': 'Peserta cadangan dapat diartikan sebagai peserta yang akan didahulukan untuk mengisi kuota pelatihan, jika peserta lolos ada yang mengundurkan diri.Namun jika tidak ada peserta yang mengundurkan diri sampai pelatihan berlangsung, beberapa hari kemudian status �Peserta Cadangan� akan diganti menjadi �Tidak Diterima�.',\n",
        "        },{\n",
        "             'text_input': 'Siapa yang disebut sebagai peserta cadangan?',\n",
        "             'output': 'Peserta cadangan dapat diartikan sebagai peserta yang akan didahulukan untuk mengisi kuota pelatihan, jika peserta lolos ada yang mengundurkan diri.Namun jika tidak ada peserta yang mengundurkan diri sampai pelatihan berlangsung, beberapa hari kemudian status �Peserta Cadangan� akan diganti menjadi �Tidak Diterima�.',\n",
        "        },{\n",
        "             'text_input': 'Apa yang dimaksud dengan status peserta cadangan?',\n",
        "             'output': 'Peserta cadangan dapat diartikan sebagai peserta yang akan didahulukan untuk mengisi kuota pelatihan, jika peserta lolos ada yang mengundurkan diri.Namun jika tidak ada peserta yang mengundurkan diri sampai pelatihan berlangsung, beberapa hari kemudian status �Peserta Cadangan� akan diganti menjadi �Tidak Diterima�.',\n",
        "        },{\n",
        "             'text_input': 'Apa arti dari peserta cadangan dalam program ini?',\n",
        "             'output': 'Peserta cadangan dapat diartikan sebagai peserta yang akan didahulukan untuk mengisi kuota pelatihan, jika peserta lolos ada yang mengundurkan diri.Namun jika tidak ada peserta yang mengundurkan diri sampai pelatihan berlangsung, beberapa hari kemudian status �Peserta Cadangan� akan diganti menjadi �Tidak Diterima�.',\n",
        "        },{\n",
        "             'text_input': 'Apa saja data yang wajib disiapkan untuk pendaftaran?',\n",
        "             'output': 'Email aktif, Nama lengkap sesuai KTP, NIK, Nomor HP aktif, dan data pribadi lengkap sesuai form pendaftaran karena setiap pelatihan membutuhkan data yang berbeda. Silahkan cek pada silabus pelatihan.',\n",
        "        },{\n",
        "             'text_input': 'Data apa saja yang harus disiapkan untuk pendaftaran?',\n",
        "             'output': 'Email aktif, Nama lengkap sesuai KTP, NIK, Nomor HP aktif, dan data pribadi lengkap sesuai form pendaftaran karena setiap pelatihan membutuhkan data yang berbeda. Silahkan cek pada silabus pelatihan.',\n",
        "        },{\n",
        "             'text_input': 'Apa saja informasi yang diperlukan untuk mendaftar?',\n",
        "             'output': 'Email aktif, Nama lengkap sesuai KTP, NIK, Nomor HP aktif, dan data pribadi lengkap sesuai form pendaftaran karena setiap pelatihan membutuhkan data yang berbeda. Silahkan cek pada silabus pelatihan.',\n",
        "        },{\n",
        "             'text_input': 'Data apa yang wajib disertakan saat pendaftaran?',\n",
        "             'output': 'Email aktif, Nama lengkap sesuai KTP, NIK, Nomor HP aktif, dan data pribadi lengkap sesuai form pendaftaran karena setiap pelatihan membutuhkan data yang berbeda. Silahkan cek pada silabus pelatihan.',\n",
        "        },{\n",
        "             'text_input': 'Apa saja persyaratan data yang perlu disiapkan untuk pendaftaran?',\n",
        "             'output': 'Email aktif, Nama lengkap sesuai KTP, NIK, Nomor HP aktif, dan data pribadi lengkap sesuai form pendaftaran karena setiap pelatihan membutuhkan data yang berbeda. Silahkan cek pada silabus pelatihan.',\n",
        "        },{\n",
        "             'text_input': 'Informasi apa saja yang harus dipersiapkan untuk mendaftar?',\n",
        "             'output': 'Email aktif, Nama lengkap sesuai KTP, NIK, Nomor HP aktif, dan data pribadi lengkap sesuai form pendaftaran karena setiap pelatihan membutuhkan data yang berbeda. Silahkan cek pada silabus pelatihan.',\n",
        "        },{\n",
        "             'text_input': 'Apa yang harus dilakukan ketika kode OTP tidak masuk ke E-mail atau nomor handphone?',\n",
        "             'output': 'Periksa kembali email dan nomor handphone, dan pastikan keduanya aktif. Lapor ke helpdesk untuk cek alamat email dan nomor handphone.',\n",
        "        },{\n",
        "             'text_input': 'Apa yang harus dilakukan jika kode OTP tidak terkirim ke E-mail atau nomor handphone?',\n",
        "             'output': 'Periksa kembali email dan nomor handphone, dan pastikan keduanya aktif. Lapor ke helpdesk untuk cek alamat email dan nomor handphone.',\n",
        "        },{\n",
        "             'text_input': 'Apa langkah yang perlu diambil jika kode OTP tidak diterima di E-mail atau handphone?',\n",
        "             'output': 'Periksa kembali email dan nomor handphone, dan pastikan keduanya aktif. Lapor ke helpdesk untuk cek alamat email dan nomor handphone.',\n",
        "        },{\n",
        "             'text_input': 'Bagaimana prosedur jika peserta gagal pada tes substansi?',\n",
        "             'output': 'Peserta yang gagal dalam mengerjakan tes substansi berarti tidak lolos dalam pendaftaran pelatihan.',\n",
        "        },{\n",
        "             'text_input': 'Apa yang sebaiknya dilakukan ketika kode OTP tidak diterima di E-mail atau handphone?',\n",
        "             'output': 'Periksa kembali email dan nomor handphone, dan pastikan keduanya aktif. Lapor ke helpdesk untuk cek alamat email dan nomor handphone.',\n",
        "        },{\n",
        "             'text_input': 'Apa yang harus dilakukan jika kode OTP tidak sampai ke E-mail atau nomor handphone?',\n",
        "             'output': 'Periksa kembali email dan nomor handphone, dan pastikan keduanya aktif. Lapor ke helpdesk untuk cek alamat email dan nomor handphone.',\n",
        "        },{\n",
        "             'text_input': 'Bagaimana cara melihat pengumuman hasil seleksi pendaftaran?',\n",
        "             'output': 'Hi digiers, setelah selesai mendaftar pelatihan dan mengerjakan tes substansi, selanjutnya mohon untuk menunggu informasi pengumuman diterima pelatihan ya.Terkait pengumuman peserta diterima pelatihan mohon disimak secara detail beberapa informasi berikut:Informasi pengumuman terkait pelatihan akan selalu diupdate secara berkala dan dapat kamu lihat melalui menu notifikasi di akun DTS. Informasi pengumuman akan dikirimkan juga melalui email yang telah kamu daftarkan pada saat membuat akun DTS, silahkan bisa cek folder kotak masuk, spam, atau promosi pada email.Informasi pengumuman ada juga yang dikirimkan melalui nomor telepon yang didaftarkan dan terhubung dengan Whatsapp.Beberapa pelatihan juga diinformasikan pada website DTS yang dapat kamu lihat melalui tautan berikut: https://digitalent.kominfo.go.id/informasiPengumuman peserta diterima pelatihan akan diinformasikan setelah batas waktu pendaftaran selesai (bisa dicek pada halaman detail pelatihan). CATATAN: Beberapa pelatihan ada yang hanya menginformasikan pengumuman kepada peserta yang diterima saja, terkait hal ini merupakan kebijakan masing-masing dari tim penyelenggara setiap akademi pelatihan.',\n",
        "        },{\n",
        "             'text_input': 'Apa langkah-langkah untuk membuat akun Digital Talent Scholarship?',\n",
        "             'output': 'Kunjungi link https://digitalent.kominfo.go.id/register untuk membuat akun dan ikuti tahapan berikut:Masukkan email aktif, password, dan konfirmasi password, kemudian klik daftarSistem akan mengirim kode OTP ke email kamu untuk proses verifikasiMasukkan kode OTP pada form yang telah disediakanSelanjutnya, kamu akan diminta untuk melengkapi data pokok untuk keperluan pelatihan. Lengkapi form yang telah disediakan, lalu klik SimpanYeay, akun kamu telah terdaftar. Selanjutnya kamu dapat melakukan pendaftaran pelatihan yg kamu minati Panduan lebih lanjut dapat dilihat pada Video Berikut ini.Penting:Nama dan NIK akan dipadankan secara otomatis dengan data Dukcapil. Pastikan kamu memasukan data sesuai dengan yang tertera pada KTPDengan membuat akun, maka kamu dianggap telah menyetujui Syarat Ketentuan dan Kebijakan Privasi yang berlaku.',\n",
        "        },{\n",
        "             'text_input': 'Bagaimana cara mengecek pengumuman hasil seleksi pendaftaran?',\n",
        "             'output': 'Hi digiers, setelah selesai mendaftar pelatihan dan mengerjakan tes substansi, selanjutnya mohon untuk menunggu informasi pengumuman diterima pelatihan ya.Terkait pengumuman peserta diterima pelatihan mohon disimak secara detail beberapa informasi berikut:Informasi pengumuman terkait pelatihan akan selalu diupdate secara berkala dan dapat kamu lihat melalui menu notifikasi di akun DTS. Informasi pengumuman akan dikirimkan juga melalui email yang telah kamu daftarkan pada saat membuat akun DTS, silahkan bisa cek folder kotak masuk, spam, atau promosi pada email.Informasi pengumuman ada juga yang dikirimkan melalui nomor telepon yang didaftarkan dan terhubung dengan Whatsapp.Beberapa pelatihan juga diinformasikan pada website DTS yang dapat kamu lihat melalui tautan berikut: https://digitalent.kominfo.go.id/informasiPengumuman peserta diterima pelatihan akan diinformasikan setelah batas waktu pendaftaran selesai (bisa dicek pada halaman detail pelatihan). CATATAN: Beberapa pelatihan ada yang hanya menginformasikan pengumuman kepada peserta yang diterima saja, terkait hal ini merupakan kebijakan masing-masing dari tim penyelenggara setiap akademi pelatihan.',\n",
        "        },{\n",
        "             'text_input': 'Di mana saya bisa melihat pengumuman hasil seleksi pendaftaran?',\n",
        "             'output': 'Hi digiers, setelah selesai mendaftar pelatihan dan mengerjakan tes substansi, selanjutnya mohon untuk menunggu informasi pengumuman diterima pelatihan ya.Terkait pengumuman peserta diterima pelatihan mohon disimak secara detail beberapa informasi berikut:Informasi pengumuman terkait pelatihan akan selalu diupdate secara berkala dan dapat kamu lihat melalui menu notifikasi di akun DTS. Informasi pengumuman akan dikirimkan juga melalui email yang telah kamu daftarkan pada saat membuat akun DTS, silahkan bisa cek folder kotak masuk, spam, atau promosi pada email.Informasi pengumuman ada juga yang dikirimkan melalui nomor telepon yang didaftarkan dan terhubung dengan Whatsapp.Beberapa pelatihan juga diinformasikan pada website DTS yang dapat kamu lihat melalui tautan berikut: https://digitalent.kominfo.go.id/informasiPengumuman peserta diterima pelatihan akan diinformasikan setelah batas waktu pendaftaran selesai (bisa dicek pada halaman detail pelatihan). CATATAN: Beberapa pelatihan ada yang hanya menginformasikan pengumuman kepada peserta yang diterima saja, terkait hal ini merupakan kebijakan masing-masing dari tim penyelenggara setiap akademi pelatihan.',\n",
        "        },{\n",
        "             'text_input': 'Apa langkah untuk melihat hasil pengumuman seleksi pendaftaran?',\n",
        "             'output': 'Hi digiers, setelah selesai mendaftar pelatihan dan mengerjakan tes substansi, selanjutnya mohon untuk menunggu informasi pengumuman diterima pelatihan ya.Terkait pengumuman peserta diterima pelatihan mohon disimak secara detail beberapa informasi berikut:Informasi pengumuman terkait pelatihan akan selalu diupdate secara berkala dan dapat kamu lihat melalui menu notifikasi di akun DTS. Informasi pengumuman akan dikirimkan juga melalui email yang telah kamu daftarkan pada saat membuat akun DTS, silahkan bisa cek folder kotak masuk, spam, atau promosi pada email.Informasi pengumuman ada juga yang dikirimkan melalui nomor telepon yang didaftarkan dan terhubung dengan Whatsapp.Beberapa pelatihan juga diinformasikan pada website DTS yang dapat kamu lihat melalui tautan berikut: https://digitalent.kominfo.go.id/informasiPengumuman peserta diterima pelatihan akan diinformasikan setelah batas waktu pendaftaran selesai (bisa dicek pada halaman detail pelatihan). CATATAN: Beberapa pelatihan ada yang hanya menginformasikan pengumuman kepada peserta yang diterima saja, terkait hal ini merupakan kebijakan masing-masing dari tim penyelenggara setiap akademi pelatihan.',\n",
        "        },{\n",
        "             'text_input': 'Bagaimana cara mengakses pengumuman hasil seleksi pendaftaran?',\n",
        "             'output': 'Hi digiers, setelah selesai mendaftar pelatihan dan mengerjakan tes substansi, selanjutnya mohon untuk menunggu informasi pengumuman diterima pelatihan ya.Terkait pengumuman peserta diterima pelatihan mohon disimak secara detail beberapa informasi berikut:Informasi pengumuman terkait pelatihan akan selalu diupdate secara berkala dan dapat kamu lihat melalui menu notifikasi di akun DTS. Informasi pengumuman akan dikirimkan juga melalui email yang telah kamu daftarkan pada saat membuat akun DTS, silahkan bisa cek folder kotak masuk, spam, atau promosi pada email.Informasi pengumuman ada juga yang dikirimkan melalui nomor telepon yang didaftarkan dan terhubung dengan Whatsapp.Beberapa pelatihan juga diinformasikan pada website DTS yang dapat kamu lihat melalui tautan berikut: https://digitalent.kominfo.go.id/informasiPengumuman peserta diterima pelatihan akan diinformasikan setelah batas waktu pendaftaran selesai (bisa dicek pada halaman detail pelatihan). CATATAN: Beberapa pelatihan ada yang hanya menginformasikan pengumuman kepada peserta yang diterima saja, terkait hal ini merupakan kebijakan masing-masing dari tim penyelenggara setiap akademi pelatihan.',\n",
        "        },{\n",
        "             'text_input': 'Di mana pengumuman hasil seleksi pendaftaran dapat dilihat?',\n",
        "             'output': 'Hi digiers, setelah selesai mendaftar pelatihan dan mengerjakan tes substansi, selanjutnya mohon untuk menunggu informasi pengumuman diterima pelatihan ya.Terkait pengumuman peserta diterima pelatihan mohon disimak secara detail beberapa informasi berikut:Informasi pengumuman terkait pelatihan akan selalu diupdate secara berkala dan dapat kamu lihat melalui menu notifikasi di akun DTS. Informasi pengumuman akan dikirimkan juga melalui email yang telah kamu daftarkan pada saat membuat akun DTS, silahkan bisa cek folder kotak masuk, spam, atau promosi pada email.Informasi pengumuman ada juga yang dikirimkan melalui nomor telepon yang didaftarkan dan terhubung dengan Whatsapp.Beberapa pelatihan juga diinformasikan pada website DTS yang dapat kamu lihat melalui tautan berikut: https://digitalent.kominfo.go.id/informasiPengumuman peserta diterima pelatihan akan diinformasikan setelah batas waktu pendaftaran selesai (bisa dicek pada halaman detail pelatihan). CATATAN: Beberapa pelatihan ada yang hanya menginformasikan pengumuman kepada peserta yang diterima saja, terkait hal ini merupakan kebijakan masing-masing dari tim penyelenggara setiap akademi pelatihan.',\n",
        "        },{\n",
        "             'text_input': 'Bagaimana cara membuat Akun Digital Talent Scholarship?',\n",
        "             'output': 'Kunjungi link https://digitalent.kominfo.go.id/register untuk membuat akun dan ikuti tahapan berikut:Masukkan email aktif, password, dan konfirmasi password, kemudian klik daftarSistem akan mengirim kode OTP ke email kamu untuk proses verifikasiMasukkan kode OTP pada form yang telah disediakanSelanjutnya, kamu akan diminta untuk melengkapi data pokok untuk keperluan pelatihan. Lengkapi form yang telah disediakan, lalu klik SimpanYeay, akun kamu telah terdaftar. Selanjutnya kamu dapat melakukan pendaftaran pelatihan yg kamu minati Panduan lebih lanjut dapat dilihat pada Video Berikut ini.Penting:Nama dan NIK akan dipadankan secara otomatis dengan data Dukcapil. Pastikan kamu memasukan data sesuai dengan yang tertera pada KTPDengan membuat akun, maka kamu dianggap telah menyetujui Syarat Ketentuan dan Kebijakan Privasi yang berlaku.',\n",
        "        },{\n",
        "             'text_input': 'Apa yang harus dilakukan jika mengalami masalah saat login?',\n",
        "             'output': 'Silahkan memperhatikan beberapa hal berikut ini:Jika ada notifikasi \\\"reset password\\\", silahkan melengkapi data serta melakukan validasi NIKJika ada notifikasi \\\"Email atau password salah\\\", pastikan kembali email serta password yang didaftarkan sebelumnya sudah betul dan sesuai. Jika tidak berhasil silahkan pilih �Reset Password�Jika notifikasi \\\"Email tidak ditemukan\\\", silahkan mencoba untuk membuat akun baru atau mendaftar ulang kembali.Untuk informasi lebih detail dapat dilihat di video ini.',\n",
        "        },{\n",
        "             'text_input': 'Bagaimana proses pendaftaran akun Digital Talent Scholarship?',\n",
        "             'output': 'Kunjungi link https://digitalent.kominfo.go.id/register untuk membuat akun dan ikuti tahapan berikut:Masukkan email aktif, password, dan konfirmasi password, kemudian klik daftarSistem akan mengirim kode OTP ke email kamu untuk proses verifikasiMasukkan kode OTP pada form yang telah disediakanSelanjutnya, kamu akan diminta untuk melengkapi data pokok untuk keperluan pelatihan. Lengkapi form yang telah disediakan, lalu klik SimpanYeay, akun kamu telah terdaftar. Selanjutnya kamu dapat melakukan pendaftaran pelatihan yg kamu minati Panduan lebih lanjut dapat dilihat pada Video Berikut ini.Penting:Nama dan NIK akan dipadankan secara otomatis dengan data Dukcapil. Pastikan kamu memasukan data sesuai dengan yang tertera pada KTPDengan membuat akun, maka kamu dianggap telah menyetujui Syarat Ketentuan dan Kebijakan Privasi yang berlaku.',\n",
        "        },{\n",
        "             'text_input': 'Apa yang perlu dilakukan untuk membuat akun Digital Talent Scholarship?',\n",
        "             'output': 'Kunjungi link https://digitalent.kominfo.go.id/register untuk membuat akun dan ikuti tahapan berikut:Masukkan email aktif, password, dan konfirmasi password, kemudian klik daftarSistem akan mengirim kode OTP ke email kamu untuk proses verifikasiMasukkan kode OTP pada form yang telah disediakanSelanjutnya, kamu akan diminta untuk melengkapi data pokok untuk keperluan pelatihan. Lengkapi form yang telah disediakan, lalu klik SimpanYeay, akun kamu telah terdaftar. Selanjutnya kamu dapat melakukan pendaftaran pelatihan yg kamu minati Panduan lebih lanjut dapat dilihat pada Video Berikut ini.Penting:Nama dan NIK akan dipadankan secara otomatis dengan data Dukcapil. Pastikan kamu memasukan data sesuai dengan yang tertera pada KTPDengan membuat akun, maka kamu dianggap telah menyetujui Syarat Ketentuan dan Kebijakan Privasi yang berlaku.',\n",
        "        },{\n",
        "             'text_input': 'Bagaimana cara mendaftar dan membuat akun di Digital Talent Scholarship?',\n",
        "             'output': 'Kunjungi link https://digitalent.kominfo.go.id/register untuk membuat akun dan ikuti tahapan berikut:Masukkan email aktif, password, dan konfirmasi password, kemudian klik daftarSistem akan mengirim kode OTP ke email kamu untuk proses verifikasiMasukkan kode OTP pada form yang telah disediakanSelanjutnya, kamu akan diminta untuk melengkapi data pokok untuk keperluan pelatihan. Lengkapi form yang telah disediakan, lalu klik SimpanYeay, akun kamu telah terdaftar. Selanjutnya kamu dapat melakukan pendaftaran pelatihan yg kamu minati Panduan lebih lanjut dapat dilihat pada Video Berikut ini.Penting:Nama dan NIK akan dipadankan secara otomatis dengan data Dukcapil. Pastikan kamu memasukan data sesuai dengan yang tertera pada KTPDengan membuat akun, maka kamu dianggap telah menyetujui Syarat Ketentuan dan Kebijakan Privasi yang berlaku.',\n",
        "        },{\n",
        "             'text_input': 'Apa cara yang tepat untuk membuat akun Digital Talent Scholarship?',\n",
        "             'output': 'Kunjungi link https://digitalent.kominfo.go.id/register untuk membuat akun dan ikuti tahapan berikut:Masukkan email aktif, password, dan konfirmasi password, kemudian klik daftarSistem akan mengirim kode OTP ke email kamu untuk proses verifikasiMasukkan kode OTP pada form yang telah disediakanSelanjutnya, kamu akan diminta untuk melengkapi data pokok untuk keperluan pelatihan. Lengkapi form yang telah disediakan, lalu klik SimpanYeay, akun kamu telah terdaftar. Selanjutnya kamu dapat melakukan pendaftaran pelatihan yg kamu minati Panduan lebih lanjut dapat dilihat pada Video Berikut ini.Penting:Nama dan NIK akan dipadankan secara otomatis dengan data Dukcapil. Pastikan kamu memasukan data sesuai dengan yang tertera pada KTPDengan membuat akun, maka kamu dianggap telah menyetujui Syarat Ketentuan dan Kebijakan Privasi yang berlaku.',\n",
        "        },{\n",
        "             'text_input': 'Bagaimana cara mendaftar pelatihan?',\n",
        "             'output': 'Silahkan cari pelatihan yang diminati, selanjutnya dapat mengikuti tahapan berikut:Pilih pelatihan yang diminatiKlik tombol Daftar Sekarang pada halaman detail pelatihanLengakapi form pendaftaran pelatihan yang telah disediakan dengan benarSelanjutnya, baca ketetuan pelatihan dan checklist pada pernyataan jika telah menyetujuiKlik tombol Submit Pendaftaran Panduan lebih lanjut dapat dilihat pada Video Berikut ini.',\n",
        "        },{\n",
        "             'text_input': 'Apa langkah-langkah untuk mendaftar pelatihan?',\n",
        "             'output': 'Silahkan cari pelatihan yang diminati, selanjutnya dapat mengikuti tahapan berikut:Pilih pelatihan yang diminatiKlik tombol Daftar Sekarang pada halaman detail pelatihanLengakapi form pendaftaran pelatihan yang telah disediakan dengan benarSelanjutnya, baca ketetuan pelatihan dan checklist pada pernyataan jika telah menyetujuiKlik tombol Submit Pendaftaran Panduan lebih lanjut dapat dilihat pada Video Berikut ini.',\n",
        "        },{\n",
        "             'text_input': 'Apa langkah yang perlu diambil jika ada masalah saat upload dokumen dan foto?',\n",
        "             'output': 'Pastikan ukuran dokumen dan foto nya sesuai dengan ketentuan. Jika masih gagal harap hubungi helpdesk untuk melakukan pengecekan lebih lanjut',\n",
        "        },{\n",
        "             'text_input': 'Bagaimana prosedur pendaftaran pelatihan?',\n",
        "             'output': 'Silahkan cari pelatihan yang diminati, selanjutnya dapat mengikuti tahapan berikut:Pilih pelatihan yang diminatiKlik tombol Daftar Sekarang pada halaman detail pelatihanLengakapi form pendaftaran pelatihan yang telah disediakan dengan benarSelanjutnya, baca ketetuan pelatihan dan checklist pada pernyataan jika telah menyetujuiKlik tombol Submit Pendaftaran Panduan lebih lanjut dapat dilihat pada Video Berikut ini.',\n",
        "        },{\n",
        "             'text_input': 'Apa yang perlu dilakukan untuk mendaftar pelatihan?',\n",
        "             'output': 'Silahkan cari pelatihan yang diminati, selanjutnya dapat mengikuti tahapan berikut:Pilih pelatihan yang diminatiKlik tombol Daftar Sekarang pada halaman detail pelatihanLengakapi form pendaftaran pelatihan yang telah disediakan dengan benarSelanjutnya, baca ketetuan pelatihan dan checklist pada pernyataan jika telah menyetujuiKlik tombol Submit Pendaftaran Panduan lebih lanjut dapat dilihat pada Video Berikut ini.',\n",
        "        },{\n",
        "             'text_input': 'Bagaimana cara mengikuti pendaftaran pelatihan?',\n",
        "             'output': 'Silahkan cari pelatihan yang diminati, selanjutnya dapat mengikuti tahapan berikut:Pilih pelatihan yang diminatiKlik tombol Daftar Sekarang pada halaman detail pelatihanLengakapi form pendaftaran pelatihan yang telah disediakan dengan benarSelanjutnya, baca ketetuan pelatihan dan checklist pada pernyataan jika telah menyetujuiKlik tombol Submit Pendaftaran Panduan lebih lanjut dapat dilihat pada Video Berikut ini.',\n",
        "        },{\n",
        "             'text_input': 'Apa cara yang tepat untuk mendaftar pelatihan?',\n",
        "             'output': 'Silahkan cari pelatihan yang diminati, selanjutnya dapat mengikuti tahapan berikut:Pilih pelatihan yang diminatiKlik tombol Daftar Sekarang pada halaman detail pelatihanLengakapi form pendaftaran pelatihan yang telah disediakan dengan benarSelanjutnya, baca ketetuan pelatihan dan checklist pada pernyataan jika telah menyetujuiKlik tombol Submit Pendaftaran Panduan lebih lanjut dapat dilihat pada Video Berikut ini.',\n",
        "        },{\n",
        "             'text_input': 'Bagaimana cara mengatasi permasalahan Login?',\n",
        "             'output': 'Silahkan memperhatikan beberapa hal berikut ini:Jika ada notifikasi \\\"reset password\\\", silahkan melengkapi data serta melakukan validasi NIKJika ada notifikasi \\\"Email atau password salah\\\", pastikan kembali email serta password yang didaftarkan sebelumnya sudah betul dan sesuai. Jika tidak berhasil silahkan pilih �Reset Password�Jika notifikasi \\\"Email tidak ditemukan\\\", silahkan mencoba untuk membuat akun baru atau mendaftar ulang kembali.Untuk informasi lebih detail dapat dilihat di video ini.',\n",
        "        },{\n",
        "             'text_input': 'Apa yang harus dilakukan jika peserta sudah mendaftar tetapi lupa mengunduh bukti pendaftaran?',\n",
        "             'output': 'Silahkan cek kembali dimasing-masing profil peserta pelatihan, lalu pilih �Pelatihan� dan nanti akan muncul tombol �Download Bukti Pendaftaran� di masing-masing pelatihan yang sudah terselesaikan.',\n",
        "        },{\n",
        "             'text_input': 'Bagaimana cara menyelesaikan masalah login?',\n",
        "             'output': 'Silahkan memperhatikan beberapa hal berikut ini:Jika ada notifikasi \\\"reset password\\\", silahkan melengkapi data serta melakukan validasi NIKJika ada notifikasi \\\"Email atau password salah\\\", pastikan kembali email serta password yang didaftarkan sebelumnya sudah betul dan sesuai. Jika tidak berhasil silahkan pilih �Reset Password�Jika notifikasi \\\"Email tidak ditemukan\\\", silahkan mencoba untuk membuat akun baru atau mendaftar ulang kembali.Untuk informasi lebih detail dapat dilihat di video ini.',\n",
        "        },{\n",
        "             'text_input': 'Apa langkah yang perlu diambil jika tidak bisa login?',\n",
        "             'output': 'Silahkan memperhatikan beberapa hal berikut ini:Jika ada notifikasi \\\"reset password\\\", silahkan melengkapi data serta melakukan validasi NIKJika ada notifikasi \\\"Email atau password salah\\\", pastikan kembali email serta password yang didaftarkan sebelumnya sudah betul dan sesuai. Jika tidak berhasil silahkan pilih �Reset Password�Jika notifikasi \\\"Email tidak ditemukan\\\", silahkan mencoba untuk membuat akun baru atau mendaftar ulang kembali.Untuk informasi lebih detail dapat dilihat di video ini.',\n",
        "        },{\n",
        "             'text_input': 'Bagaimana cara mengatasi kendala saat login?',\n",
        "             'output': 'Silahkan memperhatikan beberapa hal berikut ini:Jika ada notifikasi \\\"reset password\\\", silahkan melengkapi data serta melakukan validasi NIKJika ada notifikasi \\\"Email atau password salah\\\", pastikan kembali email serta password yang didaftarkan sebelumnya sudah betul dan sesuai. Jika tidak berhasil silahkan pilih �Reset Password�Jika notifikasi \\\"Email tidak ditemukan\\\", silahkan mencoba untuk membuat akun baru atau mendaftar ulang kembali.Untuk informasi lebih detail dapat dilihat di video ini.',\n",
        "        },{\n",
        "             'text_input': 'Apa yang harus dilakukan ketika mengalami kesulitan login?',\n",
        "             'output': 'Silahkan memperhatikan beberapa hal berikut ini:Jika ada notifikasi \\\"reset password\\\", silahkan melengkapi data serta melakukan validasi NIKJika ada notifikasi \\\"Email atau password salah\\\", pastikan kembali email serta password yang didaftarkan sebelumnya sudah betul dan sesuai. Jika tidak berhasil silahkan pilih �Reset Password�Jika notifikasi \\\"Email tidak ditemukan\\\", silahkan mencoba untuk membuat akun baru atau mendaftar ulang kembali.Untuk informasi lebih detail dapat dilihat di video ini.',\n",
        "        },{\n",
        "             'text_input': 'Bagaimana caranya Peserta DTS 2019 s.d 2023 yang ingin kembali mendaftar pelatihan di DTS 2024?',\n",
        "             'output': 'Silahkan mengikuti langkah berikut:Peserta yang sudah pernah mengikuti pelatihan DTS periode 2019 s.d 2023 dapat Login kembali menggunakan Email yang digunakan terakhir kali saat mengikuti pelatihan DTS.Jika Email kamu terdaftar, link update password akan dikirimkan ke Email tersebut.Update Password baru.Login kembali menggunakan Email dan Password terbaru.Setelah berhasil Login, silahkan mengupdate data diri.Jika telah mengupdate data diri, sekarang kamu bisa memilih Pelatihan Digital yang kamu inginkan.',\n",
        "        },{\n",
        "             'text_input': 'Apa yang harus dilakukan oleh peserta DTS 2019 hingga 2023 untuk mendaftar kembali pelatihan di DTS 2024?',\n",
        "             'output': 'Silahkan mengikuti langkah berikut:Peserta yang sudah pernah mengikuti pelatihan DTS periode 2019 s.d 2023 dapat Login kembali menggunakan Email yang digunakan terakhir kali saat mengikuti pelatihan DTS.Jika Email kamu terdaftar, link update password akan dikirimkan ke Email tersebut.Update Password baru.Login kembali menggunakan Email dan Password terbaru.Setelah berhasil Login, silahkan mengupdate data diri.Jika telah mengupdate data diri, sekarang kamu bisa memilih Pelatihan Digital yang kamu inginkan.',\n",
        "        },{\n",
        "             'text_input': 'Bagaimana cara peserta DTS 2019 sampai 2023 yang ingin mengikuti pelatihan lagi di DTS 2024?',\n",
        "             'output': 'Silahkan mengikuti langkah berikut:Peserta yang sudah pernah mengikuti pelatihan DTS periode 2019 s.d 2023 dapat Login kembali menggunakan Email yang digunakan terakhir kali saat mengikuti pelatihan DTS.Jika Email kamu terdaftar, link update password akan dikirimkan ke Email tersebut.Update Password baru.Login kembali menggunakan Email dan Password terbaru.Setelah berhasil Login, silahkan mengupdate data diri.Jika telah mengupdate data diri, sekarang kamu bisa memilih Pelatihan Digital yang kamu inginkan.',\n",
        "        },{\n",
        "             'text_input': 'Apa yang sebaiknya dilakukan jika dokumen dan foto gagal diunggah?',\n",
        "             'output': 'Pastikan ukuran dokumen dan foto nya sesuai dengan ketentuan. Jika masih gagal harap hubungi helpdesk untuk melakukan pengecekan lebih lanjut',\n",
        "        },{\n",
        "             'text_input': 'Bagaimana cara mengatasi masalah ketika dokumen dan foto tidak berhasil diupload?',\n",
        "             'output': 'Pastikan ukuran dokumen dan foto nya sesuai dengan ketentuan. Jika masih gagal harap hubungi helpdesk untuk melakukan pengecekan lebih lanjut',\n",
        "        },{\n",
        "             'text_input': 'Apa langkah yang perlu diambil oleh peserta DTS 2019-2023 untuk mendaftar pelatihan DTS 2024?',\n",
        "             'output': 'Silahkan mengikuti langkah berikut:Peserta yang sudah pernah mengikuti pelatihan DTS periode 2019 s.d 2023 dapat Login kembali menggunakan Email yang digunakan terakhir kali saat mengikuti pelatihan DTS.Jika Email kamu terdaftar, link update password akan dikirimkan ke Email tersebut.Update Password baru.Login kembali menggunakan Email dan Password terbaru.Setelah berhasil Login, silahkan mengupdate data diri.Jika telah mengupdate data diri, sekarang kamu bisa memilih Pelatihan Digital yang kamu inginkan.',\n",
        "        },{\n",
        "             'text_input': 'Bagaimana peserta DTS 2019-2023 dapat mendaftar ulang untuk pelatihan di DTS 2024?',\n",
        "             'output': 'Silahkan mengikuti langkah berikut:Peserta yang sudah pernah mengikuti pelatihan DTS periode 2019 s.d 2023 dapat Login kembali menggunakan Email yang digunakan terakhir kali saat mengikuti pelatihan DTS.Jika Email kamu terdaftar, link update password akan dikirimkan ke Email tersebut.Update Password baru.Login kembali menggunakan Email dan Password terbaru.Setelah berhasil Login, silahkan mengupdate data diri.Jika telah mengupdate data diri, sekarang kamu bisa memilih Pelatihan Digital yang kamu inginkan.',\n",
        "        },{\n",
        "             'text_input': 'Apa prosedur bagi peserta DTS 2019 sampai 2023 untuk kembali mendaftar di DTS 2024?',\n",
        "             'output': 'Silahkan mengikuti langkah berikut:Peserta yang sudah pernah mengikuti pelatihan DTS periode 2019 s.d 2023 dapat Login kembali menggunakan Email yang digunakan terakhir kali saat mengikuti pelatihan DTS.Jika Email kamu terdaftar, link update password akan dikirimkan ke Email tersebut.Update Password baru.Login kembali menggunakan Email dan Password terbaru.Setelah berhasil Login, silahkan mengupdate data diri.Jika telah mengupdate data diri, sekarang kamu bisa memilih Pelatihan Digital yang kamu inginkan.',\n",
        "        },{\n",
        "             'text_input': 'Bagaimana jika NIK/E-mail/No. HP saya sudah terdaftar?',\n",
        "             'output': 'Silahkan menghubungi Helpdesk untuk dilakukan pengecekan.',\n",
        "        },{\n",
        "             'text_input': 'Apa yang harus dilakukan jika NIK/E-mail/No. HP saya sudah terdaftar?',\n",
        "             'output': 'Silahkan menghubungi Helpdesk untuk dilakukan pengecekan.',\n",
        "        },{\n",
        "             'text_input': 'Bagaimana cara mengatasi jika NIK/E-mail/No. HP saya sudah terdaftar sebelumnya?',\n",
        "             'output': 'Silahkan menghubungi Helpdesk untuk dilakukan pengecekan.',\n",
        "        },{\n",
        "             'text_input': 'Apa langkah yang perlu diambil jika NIK/E-mail/No. HP saya sudah tercatat?',\n",
        "             'output': 'Silahkan menghubungi Helpdesk untuk dilakukan pengecekan.',\n",
        "        },{\n",
        "             'text_input': 'Bagaimana jika saya mencoba mendaftar tetapi NIK/E-mail/No. HP sudah terdaftar?',\n",
        "             'output': 'Silahkan menghubungi Helpdesk untuk dilakukan pengecekan.',\n",
        "        },{\n",
        "             'text_input': 'Apa yang harus dilakukan jika saya sudah terdaftar dengan NIK/E-mail/No. HP saya?',\n",
        "             'output': 'Silahkan menghubungi Helpdesk untuk dilakukan pengecekan.',\n",
        "        },{\n",
        "             'text_input': 'Bagaimana jika peserta sudah daftar tapi lupa unduh bukti pendaftaran?',\n",
        "             'output': 'Silahkan cek kembali dimasing-masing profil peserta pelatihan, lalu pilih �Pelatihan� dan nanti akan muncul tombol �Download Bukti Pendaftaran� di masing-masing pelatihan yang sudah terselesaikan.',\n",
        "        },{\n",
        "             'text_input': 'Apakah persyaratan pelatihan ini melarang peserta yang sudah bekerja?',\n",
        "             'output': 'Tidak, persyaratan setiap pelatihan dapat berbeda sesuai dengan kebijakan akademi.',\n",
        "        },{\n",
        "             'text_input': 'Bagaimana cara mendapatkan bukti pendaftaran jika terlupa mengunduh setelah mendaftar?',\n",
        "             'output': 'Silahkan cek kembali dimasing-masing profil peserta pelatihan, lalu pilih �Pelatihan� dan nanti akan muncul tombol �Download Bukti Pendaftaran� di masing-masing pelatihan yang sudah terselesaikan.',\n",
        "        },{\n",
        "             'text_input': 'Apa langkah yang perlu diambil jika bukti pendaftaran tidak terunduh setelah pendaftaran?',\n",
        "             'output': 'Silahkan cek kembali dimasing-masing profil peserta pelatihan, lalu pilih �Pelatihan� dan nanti akan muncul tombol �Download Bukti Pendaftaran� di masing-masing pelatihan yang sudah terselesaikan.',\n",
        "        },{\n",
        "             'text_input': 'Apa yang harus dilakukan jika bukti pendaftaran belum diunduh meskipun sudah mendaftar?',\n",
        "             'output': 'Silahkan cek kembali dimasing-masing profil peserta pelatihan, lalu pilih �Pelatihan� dan nanti akan muncul tombol �Download Bukti Pendaftaran� di masing-masing pelatihan yang sudah terselesaikan.',\n",
        "        },{\n",
        "             'text_input': 'Bagaimana cara mengakses bukti pendaftaran jika lupa mengunduhnya setelah pendaftaran?',\n",
        "             'output': 'Silahkan cek kembali dimasing-masing profil peserta pelatihan, lalu pilih �Pelatihan� dan nanti akan muncul tombol �Download Bukti Pendaftaran� di masing-masing pelatihan yang sudah terselesaikan.',\n",
        "        },{\n",
        "             'text_input': 'Bagaimana jika saya lupa password akun DTS?',\n",
        "             'output': 'Hi digiers, jika mengalami lupa password silahkan pilih �Lupa Password� pada halaman sign-in atau melalui tautan berikut: https://digitalent.kominfo.go.id/forgot-pass. Panduan lebih lanjut dapat dilihat di https://www.youtube.com/watch?v=oizTxctoDaU',\n",
        "        },{\n",
        "             'text_input': 'Apa yang harus dilakukan jika saya lupa kata sandi akun DTS?',\n",
        "             'output': 'Hi digiers, jika mengalami lupa password silahkan pilih �Lupa Password� pada halaman sign-in atau melalui tautan berikut: https://digitalent.kominfo.go.id/forgot-pass. Panduan lebih lanjut dapat dilihat di https://www.youtube.com/watch?v=oizTxctoDaU',\n",
        "        },{\n",
        "             'text_input': 'Bagaimana cara mengatasi jika saya tidak ingat password akun DTS?',\n",
        "             'output': 'Hi digiers, jika mengalami lupa password silahkan pilih �Lupa Password� pada halaman sign-in atau melalui tautan berikut: https://digitalent.kominfo.go.id/forgot-pass. Panduan lebih lanjut dapat dilihat di https://www.youtube.com/watch?v=oizTxctoDaU',\n",
        "        },{\n",
        "             'text_input': 'Apa langkah yang perlu diambil jika saya kehilangan akses ke akun DTS karena lupa password?',\n",
        "             'output': 'Hi digiers, jika mengalami lupa password silahkan pilih �Lupa Password� pada halaman sign-in atau melalui tautan berikut: https://digitalent.kominfo.go.id/forgot-pass. Panduan lebih lanjut dapat dilihat di https://www.youtube.com/watch?v=oizTxctoDaU',\n",
        "        },{\n",
        "             'text_input': 'Apa yang sebaiknya dilakukan jika saya lupa password untuk akun DTS?',\n",
        "             'output': 'Hi digiers, jika mengalami lupa password silahkan pilih �Lupa Password� pada halaman sign-in atau melalui tautan berikut: https://digitalent.kominfo.go.id/forgot-pass. Panduan lebih lanjut dapat dilihat di https://www.youtube.com/watch?v=oizTxctoDaU',\n",
        "        },{\n",
        "             'text_input': 'Bagaimana cara mereset password akun DTS jika saya lupa?',\n",
        "             'output': 'Hi digiers, jika mengalami lupa password silahkan pilih �Lupa Password� pada halaman sign-in atau melalui tautan berikut: https://digitalent.kominfo.go.id/forgot-pass. Panduan lebih lanjut dapat dilihat di https://www.youtube.com/watch?v=oizTxctoDaU',\n",
        "        },{\n",
        "             'text_input': 'Bagaimana jika terjadi kendala saat upload dokumen dan foto?',\n",
        "             'output': 'Pastikan ukuran dokumen dan foto nya sesuai dengan ketentuan. Jika masih gagal harap hubungi helpdesk untuk melakukan pengecekan lebih lanjut',\n",
        "        },{\n",
        "             'text_input': 'Apa yang harus dilakukan jika mengalami masalah saat mengunggah dokumen dan foto?',\n",
        "             'output': 'Pastikan ukuran dokumen dan foto nya sesuai dengan ketentuan. Jika masih gagal harap hubungi helpdesk untuk melakukan pengecekan lebih lanjut',\n",
        "        },{\n",
        "             'text_input': 'Bagaimana cara mengatasi kendala saat mengupload dokumen dan foto?',\n",
        "             'output': 'Pastikan ukuran dokumen dan foto nya sesuai dengan ketentuan. Jika masih gagal harap hubungi helpdesk untuk melakukan pengecekan lebih lanjut',\n",
        "        },{\n",
        "             'text_input': 'Jika masih belum memiliki KTP, nomor identitas apa yang bisa di submit untuk mendaftar Digital Talent Scholarship 2023?',\n",
        "             'output': 'Bagi yang belum memiliki KTP, bisa menggunakan Nomor Induk Kependudukan yang tertera dalam Kartu Keluarga.',\n",
        "        },{\n",
        "             'text_input': 'Jika saya belum memiliki KTP, nomor identitas apa yang bisa digunakan untuk mendaftar Digital Talent Scholarship 2023?',\n",
        "             'output': 'Bagi yang belum memiliki KTP, bisa menggunakan Nomor Induk Kependudukan yang tertera dalam Kartu Keluarga.',\n",
        "        },{\n",
        "             'text_input': 'Apa nomor identitas yang bisa disubmit jika peserta belum memiliki KTP untuk pendaftaran Digital Talent Scholarship 2023?',\n",
        "             'output': 'Bagi yang belum memiliki KTP, bisa menggunakan Nomor Induk Kependudukan yang tertera dalam Kartu Keluarga.',\n",
        "        },{\n",
        "             'text_input': 'Jika belum memiliki KTP, nomor identitas alternatif apa yang bisa diajukan untuk mendaftar Digital Talent Scholarship 2023?',\n",
        "             'output': 'Bagi yang belum memiliki KTP, bisa menggunakan Nomor Induk Kependudukan yang tertera dalam Kartu Keluarga.',\n",
        "        },{\n",
        "             'text_input': 'Apa yang bisa diajukan sebagai pengganti KTP untuk mendaftar Digital Talent Scholarship 2023?',\n",
        "             'output': 'Bagi yang belum memiliki KTP, bisa menggunakan Nomor Induk Kependudukan yang tertera dalam Kartu Keluarga.',\n",
        "        },{\n",
        "             'text_input': 'Jika belum memiliki KTP, nomor identitas apa yang dapat digunakan dalam pendaftaran Digital Talent Scholarship 2023?',\n",
        "             'output': 'Bagi yang belum memiliki KTP, bisa menggunakan Nomor Induk Kependudukan yang tertera dalam Kartu Keluarga.',\n",
        "        },{\n",
        "             'text_input': 'Peserta yang sudah pernah ikut DTS apakah bisa ikut lagi? Kalau bisa, harus menggunakan akun sebelumnya atau membuat akun baru?',\n",
        "             'output': 'Peserta yang sudah pernah mengikuti Program DTS sebelumnya dapat kembali mengikuti DTS 2023, dan dapat login menggunakan akun sebelumnya yang sudah terdaftar. Bagi peserta baru, dapat membuat akun DTS terlebih dahulu.',\n",
        "        },{\n",
        "             'text_input': 'Apakah peserta yang sudah pernah mengikuti DTS dapat mendaftar lagi? Jika iya, apakah harus menggunakan akun lama atau membuat akun baru?',\n",
        "             'output': 'Peserta yang sudah pernah mengikuti Program DTS sebelumnya dapat kembali mengikuti DTS 2023, dan dapat login menggunakan akun sebelumnya yang sudah terdaftar. Bagi peserta baru, dapat membuat akun DTS terlebih dahulu.',\n",
        "        },{\n",
        "             'text_input': 'Apakah program DTS ini hanya tersedia dalam format online?',\n",
        "             'output': 'Pelatihan DTS dapat diikuti secara online dan offline sesuai ketentuan pada tema pelatihan, untuk mencari tema pelatihan sesuai metode pelatihan tertentu silahkan menggunakan fitur filter.',\n",
        "        },{\n",
        "             'text_input': 'Bisakah peserta yang sudah mengikuti DTS sebelumnya ikut lagi? Haruskah menggunakan akun yang sama atau membuat akun baru?',\n",
        "             'output': 'Peserta yang sudah pernah mengikuti Program DTS sebelumnya dapat kembali mengikuti DTS 2023, dan dapat login menggunakan akun sebelumnya yang sudah terdaftar. Bagi peserta baru, dapat membuat akun DTS terlebih dahulu.',\n",
        "        },{\n",
        "             'text_input': 'Apakah peserta yang pernah ikut DTS bisa mendaftar kembali? Jika bisa, apakah perlu memakai akun lama atau membuat akun baru?',\n",
        "             'output': 'Peserta yang sudah pernah mengikuti Program DTS sebelumnya dapat kembali mengikuti DTS 2023, dan dapat login menggunakan akun sebelumnya yang sudah terdaftar. Bagi peserta baru, dapat membuat akun DTS terlebih dahulu.',\n",
        "        },{\n",
        "             'text_input': 'Apakah peserta yang sudah berpartisipasi dalam DTS bisa mengikuti pelatihan lagi? Haruskah menggunakan akun lama atau membuat akun baru?',\n",
        "             'output': 'Peserta yang sudah pernah mengikuti Program DTS sebelumnya dapat kembali mengikuti DTS 2023, dan dapat login menggunakan akun sebelumnya yang sudah terdaftar. Bagi peserta baru, dapat membuat akun DTS terlebih dahulu.',\n",
        "        },{\n",
        "             'text_input': 'Jika sudah pernah mengikuti DTS, apakah peserta bisa mendaftar lagi? Perlukah menggunakan akun sebelumnya atau membuat akun baru?',\n",
        "             'output': 'Peserta yang sudah pernah mengikuti Program DTS sebelumnya dapat kembali mengikuti DTS 2023, dan dapat login menggunakan akun sebelumnya yang sudah terdaftar. Bagi peserta baru, dapat membuat akun DTS terlebih dahulu.',\n",
        "        },{\n",
        "             'text_input': 'Apa itu tes substansi dan kenapa harus melakukannya?',\n",
        "             'output': 'Tes substansi merupakan tes yang mengukur kemampuan dasar peserta dalam memahami topik pembelajaran. Tes ini harus dilakukan sebelum mengikuti pelatihan untuk memastikan calon peserta mampu mengikuti pembelajaran dengan baik.',\n",
        "        },{\n",
        "             'text_input': 'Apa yang dimaksud dengan tes substansi dan mengapa tes ini perlu dilakukan?',\n",
        "             'output': 'Tes substansi merupakan tes yang mengukur kemampuan dasar peserta dalam memahami topik pembelajaran. Tes ini harus dilakukan sebelum mengikuti pelatihan untuk memastikan calon peserta mampu mengikuti pembelajaran dengan baik.',\n",
        "        },{\n",
        "             'text_input': 'Apa tujuan dari tes substansi dan mengapa peserta harus mengikutinya?',\n",
        "             'output': 'Tes substansi merupakan tes yang mengukur kemampuan dasar peserta dalam memahami topik pembelajaran. Tes ini harus dilakukan sebelum mengikuti pelatihan untuk memastikan calon peserta mampu mengikuti pembelajaran dengan baik.',\n",
        "        },{\n",
        "             'text_input': 'Apa itu tes substansi dan apa alasan peserta harus melaksanakan tes tersebut?',\n",
        "             'output': 'Tes substansi merupakan tes yang mengukur kemampuan dasar peserta dalam memahami topik pembelajaran. Tes ini harus dilakukan sebelum mengikuti pelatihan untuk memastikan calon peserta mampu mengikuti pembelajaran dengan baik.',\n",
        "        },{\n",
        "             'text_input': 'Mengapa tes substansi perlu dilakukan dan apa sebenarnya tes substansi itu?',\n",
        "             'output': 'Tes substansi merupakan tes yang mengukur kemampuan dasar peserta dalam memahami topik pembelajaran. Tes ini harus dilakukan sebelum mengikuti pelatihan untuk memastikan calon peserta mampu mengikuti pembelajaran dengan baik.',\n",
        "        },{\n",
        "             'text_input': 'Apa fungsi tes substansi dan kenapa tes ini penting untuk dilakukan?',\n",
        "             'output': 'Tes substansi merupakan tes yang mengukur kemampuan dasar peserta dalam memahami topik pembelajaran. Tes ini harus dilakukan sebelum mengikuti pelatihan untuk memastikan calon peserta mampu mengikuti pembelajaran dengan baik.',\n",
        "        },{\n",
        "             'text_input': 'Apa yang harus dilakukan jika gagal dalam tes substansi?',\n",
        "             'output': 'Peserta yang gagal dalam mengerjakan tes substansi berarti tidak lolos dalam pendaftaran pelatihan.',\n",
        "        },{\n",
        "             'text_input': 'Apa yang perlu dilakukan jika peserta gagal dalam tes substansi?',\n",
        "             'output': 'Peserta yang gagal dalam mengerjakan tes substansi berarti tidak lolos dalam pendaftaran pelatihan.',\n",
        "        },{\n",
        "             'text_input': 'Bagaimana cara mengatasi jika gagal dalam tes substansi?',\n",
        "             'output': 'Peserta yang gagal dalam mengerjakan tes substansi berarti tidak lolos dalam pendaftaran pelatihan.',\n",
        "        },{\n",
        "             'text_input': 'Apa langkah yang harus diambil jika tidak lulus tes substansi?',\n",
        "             'output': 'Peserta yang gagal dalam mengerjakan tes substansi berarti tidak lolos dalam pendaftaran pelatihan.',\n",
        "        },{\n",
        "             'text_input': 'Apa yang sebaiknya dilakukan jika tes substansi gagal?',\n",
        "             'output': 'Peserta yang gagal dalam mengerjakan tes substansi berarti tidak lolos dalam pendaftaran pelatihan.',\n",
        "        },{\n",
        "             'text_input': 'Apa yang harus dilakukan jika tidak berhasil dalam tes substansi?',\n",
        "             'output': 'Peserta yang gagal dalam mengerjakan tes substansi berarti tidak lolos dalam pendaftaran pelatihan.',\n",
        "        },{\n",
        "             'text_input': 'Langkah apa yang sebaiknya diambil jika tidak lolos dalam tes substansi?',\n",
        "             'output': 'Peserta yang gagal dalam mengerjakan tes substansi berarti tidak lolos dalam pendaftaran pelatihan.',\n",
        "        },{\n",
        "             'text_input': 'Apa yang harus dilakukan apabila hasil tes substansi tidak memenuhi syarat?',\n",
        "             'output': 'Peserta yang gagal dalam mengerjakan tes substansi berarti tidak lolos dalam pendaftaran pelatihan.',\n",
        "        },{\n",
        "             'text_input': 'Jika hasil tes substansi tidak sesuai harapan, apa langkah selanjutnya?',\n",
        "             'output': 'Peserta yang gagal dalam mengerjakan tes substansi berarti tidak lolos dalam pendaftaran pelatihan.',\n",
        "        },{\n",
        "             'text_input': 'Apa metode untuk mengetahui hasil dari tes substansi?',\n",
        "             'output': 'Pengumuman bagi Peserta yang lulus dalam tes substansi dan dapat mengikuti pelatihan dapat dilihat pada halama Informasi pada WEB DTS. Pengumuman juga disampaikan melalui email masing-masing peserta.',\n",
        "        },{\n",
        "             'text_input': 'Bagaimana peserta bisa melihat hasil tes substansi?',\n",
        "             'output': 'Pengumuman bagi Peserta yang lulus dalam tes substansi dan dapat mengikuti pelatihan dapat dilihat pada halama Informasi pada WEB DTS. Pengumuman juga disampaikan melalui email masing-masing peserta.',\n",
        "        },{\n",
        "             'text_input': 'Apa cara untuk mendapatkan hasil dari tes substansi?',\n",
        "             'output': 'Pengumuman bagi Peserta yang lulus dalam tes substansi dan dapat mengikuti pelatihan dapat dilihat pada halama Informasi pada WEB DTS. Pengumuman juga disampaikan melalui email masing-masing peserta.',\n",
        "        },{\n",
        "             'text_input': 'Di mana bisa dicek hasil dari tes substansi?',\n",
        "             'output': 'Pengumuman bagi Peserta yang lulus dalam tes substansi dan dapat mengikuti pelatihan dapat dilihat pada halama Informasi pada WEB DTS. Pengumuman juga disampaikan melalui email masing-masing peserta.',\n",
        "        },{\n",
        "             'text_input': 'Bagaimana cara memeriksa hasil tes substansi?',\n",
        "             'output': 'Pengumuman bagi Peserta yang lulus dalam tes substansi dan dapat mengikuti pelatihan dapat dilihat pada halama Informasi pada WEB DTS. Pengumuman juga disampaikan melalui email masing-masing peserta.',\n",
        "        },{\n",
        "             'text_input': 'Apakah pelatihan DTS hanya bisa dilakukan melalui daring?',\n",
        "             'output': 'Pelatihan DTS dapat diikuti secara online dan offline sesuai ketentuan pada tema pelatihan, untuk mencari tema pelatihan sesuai metode pelatihan tertentu silahkan menggunakan fitur filter.',\n",
        "        },{\n",
        "             'text_input': 'Apa yang harus dilakukan jika ada gangguan jaringan atau server saat mengerjakan tes substansi?',\n",
        "             'output': 'Dalam mengerjakan tes substansi, Peserta dapat memperhatikan penduan berikut:Pastikan koneksi internet stabil dan pengaturan browser dengan ���Javascript Enabled�۝.Disarankan menggunakan browser versi terbaru.Disarankan untuk menonaktifkan add-on pihak ketiga pada browser sebelum mengerjakan Tes Substansi.Jika masih terdapat kendala pada jaringan atau server, Peserta bisa melanjutkan pengerjan dengan waktu pengerjaan yang masih tersisa. Jika waktunya sudah habis jawaban akan otomatis tersubmit.',\n",
        "        },{\n",
        "             'text_input': 'Bagaimana solusi jika ada kendala koneksi atau server selama pelaksanaan tes substansi?',\n",
        "             'output': 'Dalam mengerjakan tes substansi, Peserta dapat memperhatikan penduan berikut:Pastikan koneksi internet stabil dan pengaturan browser dengan ���Javascript Enabled�۝.Disarankan menggunakan browser versi terbaru.Disarankan untuk menonaktifkan add-on pihak ketiga pada browser sebelum mengerjakan Tes Substansi.Jika masih terdapat kendala pada jaringan atau server, Peserta bisa melanjutkan pengerjan dengan waktu pengerjaan yang masih tersisa. Jika waktunya sudah habis jawaban akan otomatis tersubmit.',\n",
        "        },{\n",
        "             'text_input': 'Apa tindakan yang perlu diambil jika mengalami masalah server atau jaringan saat tes substansi?',\n",
        "             'output': 'Dalam mengerjakan tes substansi, Peserta dapat memperhatikan penduan berikut:Pastikan koneksi internet stabil dan pengaturan browser dengan ���Javascript Enabled�۝.Disarankan menggunakan browser versi terbaru.Disarankan untuk menonaktifkan add-on pihak ketiga pada browser sebelum mengerjakan Tes Substansi.Jika masih terdapat kendala pada jaringan atau server, Peserta bisa melanjutkan pengerjan dengan waktu pengerjaan yang masih tersisa. Jika waktunya sudah habis jawaban akan otomatis tersubmit.',\n",
        "        },{\n",
        "             'text_input': 'Apa yang harus dilakukan jika jaringan atau server bermasalah ketika tes substansi berlangsung?',\n",
        "             'output': 'Dalam mengerjakan tes substansi, Peserta dapat memperhatikan penduan berikut:Pastikan koneksi internet stabil dan pengaturan browser dengan ���Javascript Enabled�۝.Disarankan menggunakan browser versi terbaru.Disarankan untuk menonaktifkan add-on pihak ketiga pada browser sebelum mengerjakan Tes Substansi.Jika masih terdapat kendala pada jaringan atau server, Peserta bisa melanjutkan pengerjan dengan waktu pengerjaan yang masih tersisa. Jika waktunya sudah habis jawaban akan otomatis tersubmit.',\n",
        "        },{\n",
        "             'text_input': 'Bagaimana cara mengatasi kendala koneksi atau server saat mengerjakan tes substansi?',\n",
        "             'output': 'Dalam mengerjakan tes substansi, Peserta dapat memperhatikan penduan berikut:Pastikan koneksi internet stabil dan pengaturan browser dengan ���Javascript Enabled�۝.Disarankan menggunakan browser versi terbaru.Disarankan untuk menonaktifkan add-on pihak ketiga pada browser sebelum mengerjakan Tes Substansi.Jika masih terdapat kendala pada jaringan atau server, Peserta bisa melanjutkan pengerjan dengan waktu pengerjaan yang masih tersisa. Jika waktunya sudah habis jawaban akan otomatis tersubmit.',\n",
        "        },{\n",
        "             'text_input': 'Berapa durasi waktu yang diberikan untuk tes substansi?',\n",
        "             'output': 'Lama waktu pengerjaan tes substansi disesuaikan dengan banyak nya soal dan tingkat kesulitan.',\n",
        "        },{\n",
        "             'text_input': 'Berapa lama waktu yang dibutuhkan untuk menyelesaikan tes substansi?',\n",
        "             'output': 'Lama waktu pengerjaan tes substansi disesuaikan dengan banyak nya soal dan tingkat kesulitan.',\n",
        "        },{\n",
        "             'text_input': 'Berapa alokasi waktu untuk pelaksanaan tes substansi?',\n",
        "             'output': 'Lama waktu pengerjaan tes substansi disesuaikan dengan banyak nya soal dan tingkat kesulitan.',\n",
        "        },{\n",
        "             'text_input': 'Waktu yang disediakan untuk tes substansi berapa lama?',\n",
        "             'output': 'Lama waktu pengerjaan tes substansi disesuaikan dengan banyak nya soal dan tingkat kesulitan.',\n",
        "        },{\n",
        "             'text_input': 'Berapa total waktu yang diizinkan untuk menyelesaikan tes substansi?',\n",
        "             'output': 'Lama waktu pengerjaan tes substansi disesuaikan dengan banyak nya soal dan tingkat kesulitan.',\n",
        "        },{\n",
        "             'text_input': 'Mengapa status tes substansi belum mengalami perubahan?',\n",
        "             'output': 'Status tes substansi belum/tidak berubah bisa disebabkan oleh admin akademi yang belum merubah status tersebut. Mohon untuk dicek secara berkala perubahan status tersebut. Jika, status tes substansi masih belum berubah dalan jangka waktu yang lama, silahkan menghubungi helpdesk DTS untuk bantuan lebih lanjut.',\n",
        "        },{\n",
        "             'text_input': 'Apa alasan status tes substansi masih tetap sama?',\n",
        "             'output': 'Status tes substansi belum/tidak berubah bisa disebabkan oleh admin akademi yang belum merubah status tersebut. Mohon untuk dicek secara berkala perubahan status tersebut. Jika, status tes substansi masih belum berubah dalan jangka waktu yang lama, silahkan menghubungi helpdesk DTS untuk bantuan lebih lanjut.',\n",
        "        },{\n",
        "             'text_input': 'Kenapa status tes substansi tidak menunjukkan perubahan?',\n",
        "             'output': 'Status tes substansi belum/tidak berubah bisa disebabkan oleh admin akademi yang belum merubah status tersebut. Mohon untuk dicek secara berkala perubahan status tersebut. Jika, status tes substansi masih belum berubah dalan jangka waktu yang lama, silahkan menghubungi helpdesk DTS untuk bantuan lebih lanjut.',\n",
        "        },{\n",
        "             'text_input': 'Apakah akses ke Platform Diploy terbatas hanya untuk alumni DTS?',\n",
        "             'output': 'Tidak bisa. Peserta harus lulus dari minimal 1 pelatihan DTS untuk dapat menggunakan platform Diploy',\n",
        "        },{\n",
        "             'text_input': 'Apa penyebab status tes substansi tidak berganti?',\n",
        "             'output': 'Status tes substansi belum/tidak berubah bisa disebabkan oleh admin akademi yang belum merubah status tersebut. Mohon untuk dicek secara berkala perubahan status tersebut. Jika, status tes substansi masih belum berubah dalan jangka waktu yang lama, silahkan menghubungi helpdesk DTS untuk bantuan lebih lanjut.',\n",
        "        },{\n",
        "             'text_input': 'Mengapa status hasil tes substansi belum diperbarui?',\n",
        "             'output': 'Status tes substansi belum/tidak berubah bisa disebabkan oleh admin akademi yang belum merubah status tersebut. Mohon untuk dicek secara berkala perubahan status tersebut. Jika, status tes substansi masih belum berubah dalan jangka waktu yang lama, silahkan menghubungi helpdesk DTS untuk bantuan lebih lanjut.',\n",
        "        },{\n",
        "             'text_input': 'Seperti apa tingkat kesulitan dari tes substansi?',\n",
        "             'output': 'Tingkat kesulitan tes substansi disesuaikan dengan masing masing pelatihan.',\n",
        "        },{\n",
        "             'text_input': 'Apakah tes substansi tergolong mudah atau sulit?',\n",
        "             'output': 'Tingkat kesulitan tes substansi disesuaikan dengan masing masing pelatihan.',\n",
        "        },{\n",
        "             'text_input': 'Bagaimana tingkat kesulitan tes substansi?',\n",
        "             'output': 'Tingkat kesulitan tes substansi disesuaikan dengan masing masing pelatihan.',\n",
        "        },{\n",
        "             'text_input': 'Seberapa menantang tes substansi ini?',\n",
        "             'output': 'Tingkat kesulitan tes substansi disesuaikan dengan masing masing pelatihan.',\n",
        "        },{\n",
        "             'text_input': 'Tes substansi ini sulit atau tidak?',\n",
        "             'output': 'Tingkat kesulitan tes substansi disesuaikan dengan masing masing pelatihan.',\n",
        "        },{\n",
        "             'text_input': 'Apakah peserta pelatihan harus dalam kondisi tidak bekerja?',\n",
        "             'output': 'Tidak, persyaratan setiap pelatihan dapat berbeda sesuai dengan kebijakan akademi.',\n",
        "        },{\n",
        "             'text_input': 'Apakah mengikuti pelatihan mengharuskan peserta tidak memiliki pekerjaan?',\n",
        "             'output': 'Tidak, persyaratan setiap pelatihan dapat berbeda sesuai dengan kebijakan akademi.',\n",
        "        },{\n",
        "             'text_input': 'Haruskah peserta menganggur untuk bisa mengikuti pelatihan ini?',\n",
        "             'output': 'Tidak, persyaratan setiap pelatihan dapat berbeda sesuai dengan kebijakan akademi.',\n",
        "        },{\n",
        "             'text_input': 'Apakah pelatihan ini ditujukan hanya untuk yang belum bekerja?',\n",
        "             'output': 'Tidak, persyaratan setiap pelatihan dapat berbeda sesuai dengan kebijakan akademi.',\n",
        "        },{\n",
        "             'text_input': 'Adakah opsi offline atau semuanya harus online di pelatihan DTS?',\n",
        "             'output': 'Pelatihan DTS dapat diikuti secara online dan offline sesuai ketentuan pada tema pelatihan, untuk mencari tema pelatihan sesuai metode pelatihan tertentu silahkan menggunakan fitur filter.',\n",
        "        },{\n",
        "             'text_input': 'Apakah semua kegiatan pelatihan DTS dilaksanakan secara online?',\n",
        "             'output': 'Pelatihan DTS dapat diikuti secara online dan offline sesuai ketentuan pada tema pelatihan, untuk mencari tema pelatihan sesuai metode pelatihan tertentu silahkan menggunakan fitur filter.',\n",
        "        },{\n",
        "             'text_input': 'Apakah pelatihan ini sepenuhnya berbasis online?',\n",
        "             'output': 'Pelatihan DTS dapat diikuti secara online dan offline sesuai ketentuan pada tema pelatihan, untuk mencari tema pelatihan sesuai metode pelatihan tertentu silahkan menggunakan fitur filter.',\n",
        "        },{\n",
        "             'text_input': 'Apakah semua peserta menerima tunjangan untuk biaya komunikasi?',\n",
        "             'output': 'Tidak semua peserta mendapatkan biaya komunikasi. Biaya komunikasi diberikan sesuai dengan kebijakan dan ketentuan dari masing-masing akademi.',\n",
        "        },{\n",
        "             'text_input': 'Apakah biaya komunikasi diberikan kepada setiap peserta?',\n",
        "             'output': 'Tidak semua peserta mendapatkan biaya komunikasi. Biaya komunikasi diberikan sesuai dengan kebijakan dan ketentuan dari masing-masing akademi.',\n",
        "        },{\n",
        "             'text_input': 'Apakah ada bantuan biaya komunikasi untuk setiap peserta?',\n",
        "             'output': 'Tidak semua peserta mendapatkan biaya komunikasi. Biaya komunikasi diberikan sesuai dengan kebijakan dan ketentuan dari masing-masing akademi.',\n",
        "        },{\n",
        "             'text_input': 'Apakah semua peserta pelatihan mendapat subsidi komunikasi?',\n",
        "             'output': 'Tidak semua peserta mendapatkan biaya komunikasi. Biaya komunikasi diberikan sesuai dengan kebijakan dan ketentuan dari masing-masing akademi.',\n",
        "        },{\n",
        "             'text_input': 'Apakah ada dukungan biaya komunikasi bagi seluruh peserta?',\n",
        "             'output': 'Tidak semua peserta mendapatkan biaya komunikasi. Biaya komunikasi diberikan sesuai dengan kebijakan dan ketentuan dari masing-masing akademi.',\n",
        "        },{\n",
        "             'text_input': 'Bagaimana metode mencari pelatihan yang sesuai dengan lokasi tinggal?',\n",
        "             'output': 'Peserta dapat mencar tema pelatihan yang sesuai dengan domisili melalui menu filter, lalu memilih domisili yang diinginkan. Tutorial selengkapnya dapat dilihat pada tautan berikut Tutorial Cari Pelatihan Sesuai Kota',\n",
        "        },{\n",
        "             'text_input': 'Apa cara menemukan pelatihan yang cocok dengan tempat tinggal sekarang?',\n",
        "             'output': 'Peserta dapat mencar tema pelatihan yang sesuai dengan domisili melalui menu filter, lalu memilih domisili yang diinginkan. Tutorial selengkapnya dapat dilihat pada tautan berikut Tutorial Cari Pelatihan Sesuai Kota',\n",
        "        },{\n",
        "             'text_input': 'Bagaimana menemukan pelatihan yang tersedia di daerah tempat tinggal saat ini?',\n",
        "             'output': 'Peserta dapat mencar tema pelatihan yang sesuai dengan domisili melalui menu filter, lalu memilih domisili yang diinginkan. Tutorial selengkapnya dapat dilihat pada tautan berikut Tutorial Cari Pelatihan Sesuai Kota',\n",
        "        },{\n",
        "             'text_input': 'Apa langkah untuk menemukan pelatihan yang berlokasi sesuai domisili?',\n",
        "             'output': 'Peserta dapat mencar tema pelatihan yang sesuai dengan domisili melalui menu filter, lalu memilih domisili yang diinginkan. Tutorial selengkapnya dapat dilihat pada tautan berikut Tutorial Cari Pelatihan Sesuai Kota',\n",
        "        },{\n",
        "             'text_input': 'Bagaimana mencari program pelatihan sesuai dengan lokasi domisili saat ini?',\n",
        "             'output': 'Peserta dapat mencar tema pelatihan yang sesuai dengan domisili melalui menu filter, lalu memilih domisili yang diinginkan. Tutorial selengkapnya dapat dilihat pada tautan berikut Tutorial Cari Pelatihan Sesuai Kota',\n",
        "        },{\n",
        "             'text_input': 'Seperti apa jadwal dan waktu pelaksanaan untuk Pelatihan Digital Talent Scholarship 2023?',\n",
        "             'output': 'Jadwal dan jam pelatihan mengacu pada Silabus tema pelatihan yang tersedia pada website DTS. Informasi lebih detail akan disampaikan oleh panitia pada saat Pendaftar sudah dinyatakan diterima di pelatihan tersebut. Peserta juga akan mendapat notifikasi pada akun masing-masing.',\n",
        "        },{\n",
        "             'text_input': 'Kapan jadwal dan jam pelatihan Digital Talent Scholarship akan berlangsung di tahun 2023?',\n",
        "             'output': 'Jadwal dan jam pelatihan mengacu pada Silabus tema pelatihan yang tersedia pada website DTS. Informasi lebih detail akan disampaikan oleh panitia pada saat Pendaftar sudah dinyatakan diterima di pelatihan tersebut. Peserta juga akan mendapat notifikasi pada akun masing-masing.',\n",
        "        },{\n",
        "             'text_input': 'Bagaimana rincian jadwal serta jam belajar untuk pelatihan DTS 2023?',\n",
        "             'output': 'Jadwal dan jam pelatihan mengacu pada Silabus tema pelatihan yang tersedia pada website DTS. Informasi lebih detail akan disampaikan oleh panitia pada saat Pendaftar sudah dinyatakan diterima di pelatihan tersebut. Peserta juga akan mendapat notifikasi pada akun masing-masing.',\n",
        "        },{\n",
        "             'text_input': 'Apa yang harus dilakukan jika sertifikat tidak juga diterima setelah pelatihan selesai?',\n",
        "             'output': 'Silahkan melapor ke admin pelatihan dan pastikan juga sudah memenuhi syarat kelulusan (contoh: lulus tes substansi, kehadiran, nilai mid tes, dan sudah isi survey evaluasi)',\n",
        "        },{\n",
        "             'text_input': 'Apa saja jadwal dan waktu yang telah ditetapkan untuk pelatihan DTS 2023?',\n",
        "             'output': 'Jadwal dan jam pelatihan mengacu pada Silabus tema pelatihan yang tersedia pada website DTS. Informasi lebih detail akan disampaikan oleh panitia pada saat Pendaftar sudah dinyatakan diterima di pelatihan tersebut. Peserta juga akan mendapat notifikasi pada akun masing-masing.',\n",
        "        },{\n",
        "             'text_input': 'Kapan waktu dan jadwal pelatihan Digital Talent Scholarship pada tahun 2023?',\n",
        "             'output': 'Jadwal dan jam pelatihan mengacu pada Silabus tema pelatihan yang tersedia pada website DTS. Informasi lebih detail akan disampaikan oleh panitia pada saat Pendaftar sudah dinyatakan diterima di pelatihan tersebut. Peserta juga akan mendapat notifikasi pada akun masing-masing.',\n",
        "        },{\n",
        "             'text_input': 'Apa yang harus dilakukan jika ingin mengikuti pelatihan lain tetapi sudah terdaftar di pelatihan yang berbeda?',\n",
        "             'output': 'Pelatihan sebelumnya dapat dibatalkan jika status pendaftaran masih dalam tahap pendaftaran, lalu daftar ke pelatihan yang diinginkan. Jika pelatihan sudah mulai, silahkan selesaikan pelatihannya terlebih dahulu, atau request mengundurkan diri kepada admin pelatihan.',\n",
        "        },{\n",
        "             'text_input': 'Bagaimana prosedur jika peserta tertarik pada pelatihan lain, sementara sudah terdaftar di pelatihan yang berbeda?',\n",
        "             'output': 'Pelatihan sebelumnya dapat dibatalkan jika status pendaftaran masih dalam tahap pendaftaran, lalu daftar ke pelatihan yang diinginkan. Jika pelatihan sudah mulai, silahkan selesaikan pelatihannya terlebih dahulu, atau request mengundurkan diri kepada admin pelatihan.',\n",
        "        },{\n",
        "             'text_input': 'Apa yang bisa dilakukan jika ingin pindah ke pelatihan lain meski sudah terdaftar di pelatihan saat ini?',\n",
        "             'output': 'Pelatihan sebelumnya dapat dibatalkan jika status pendaftaran masih dalam tahap pendaftaran, lalu daftar ke pelatihan yang diinginkan. Jika pelatihan sudah mulai, silahkan selesaikan pelatihannya terlebih dahulu, atau request mengundurkan diri kepada admin pelatihan.',\n",
        "        },{\n",
        "             'text_input': 'Bagaimana cara mengikuti pelatihan yang diinginkan ketika sudah mendaftar di pelatihan lainnya?',\n",
        "             'output': 'Pelatihan sebelumnya dapat dibatalkan jika status pendaftaran masih dalam tahap pendaftaran, lalu daftar ke pelatihan yang diinginkan. Jika pelatihan sudah mulai, silahkan selesaikan pelatihannya terlebih dahulu, atau request mengundurkan diri kepada admin pelatihan.',\n",
        "        },{\n",
        "             'text_input': 'Apa yang bisa dilakukan apabila ingin mengikuti pelatihan lain namun pendaftaran sudah ada di pelatihan lain?',\n",
        "             'output': 'Pelatihan sebelumnya dapat dibatalkan jika status pendaftaran masih dalam tahap pendaftaran, lalu daftar ke pelatihan yang diinginkan. Jika pelatihan sudah mulai, silahkan selesaikan pelatihannya terlebih dahulu, atau request mengundurkan diri kepada admin pelatihan.',\n",
        "        },{\n",
        "             'text_input': 'Apa yang terjadi jika peserta memutuskan untuk mundur ketika pelatihan sedang berlangsung?',\n",
        "             'output': 'Peserta tidak akan lulus pelatihan dan tidak akan mendapatkan sertifikat.',\n",
        "        },{\n",
        "             'text_input': 'Apa prosedur untuk peserta yang ingin mengundurkan diri di tengah pelatihan?',\n",
        "             'output': 'Peserta tidak akan lulus pelatihan dan tidak akan mendapatkan sertifikat.',\n",
        "        },{\n",
        "             'text_input': 'Bagaimana ketentuan jika peserta ingin berhenti saat pelatihan sudah berjalan?',\n",
        "             'output': 'Peserta tidak akan lulus pelatihan dan tidak akan mendapatkan sertifikat.',\n",
        "        },{\n",
        "             'text_input': 'Apa langkah yang harus diambil jika seorang peserta mundur di tengah jalannya pelatihan?',\n",
        "             'output': 'Peserta tidak akan lulus pelatihan dan tidak akan mendapatkan sertifikat.',\n",
        "        },{\n",
        "             'text_input': 'Apa konsekuensinya jika peserta berhenti mengikuti pelatihan setelah dimulai?',\n",
        "             'output': 'Peserta tidak akan lulus pelatihan dan tidak akan mendapatkan sertifikat.',\n",
        "        },{\n",
        "             'text_input': 'Seperti apa metode atau sistem pembelajaran dalam program DTS?',\n",
        "             'output': 'Peserta akan melakukan pembelajaran melalui LMS (Learning Management System). Cara pembelajaran dari setiap pelatihan dapat berbeda namun mencakup:Pelatihan offline (untuk pelatihan offline)Pelatihan onlineSesi pembelajaran live melalui ZoomSesi tanya jawabTugasPre-test dan post-testUjian akhir',\n",
        "        },{\n",
        "             'text_input': 'Bagaimana proses dan cara pelaksanaan pembelajaran DTS?',\n",
        "             'output': 'Peserta akan melakukan pembelajaran melalui LMS (Learning Management System). Cara pembelajaran dari setiap pelatihan dapat berbeda namun mencakup:Pelatihan offline (untuk pelatihan offline)Pelatihan onlineSesi pembelajaran live melalui ZoomSesi tanya jawabTugasPre-test dan post-testUjian akhir',\n",
        "        },{\n",
        "             'text_input': 'Apa saja metode yang digunakan untuk pembelajaran dalam program DTS?',\n",
        "             'output': 'Peserta akan melakukan pembelajaran melalui LMS (Learning Management System). Cara pembelajaran dari setiap pelatihan dapat berbeda namun mencakup:Pelatihan offline (untuk pelatihan offline)Pelatihan onlineSesi pembelajaran live melalui ZoomSesi tanya jawabTugasPre-test dan post-testUjian akhir',\n",
        "        },{\n",
        "             'text_input': 'Bagaimana mekanisme atau sistem pembelajaran pada program DTS?',\n",
        "             'output': 'Peserta akan melakukan pembelajaran melalui LMS (Learning Management System). Cara pembelajaran dari setiap pelatihan dapat berbeda namun mencakup:Pelatihan offline (untuk pelatihan offline)Pelatihan onlineSesi pembelajaran live melalui ZoomSesi tanya jawabTugasPre-test dan post-testUjian akhir',\n",
        "        },{\n",
        "             'text_input': 'Bagaimana cara pembelajaran DTS diatur atau dilaksanakan?',\n",
        "             'output': 'Peserta akan melakukan pembelajaran melalui LMS (Learning Management System). Cara pembelajaran dari setiap pelatihan dapat berbeda namun mencakup:Pelatihan offline (untuk pelatihan offline)Pelatihan onlineSesi pembelajaran live melalui ZoomSesi tanya jawabTugasPre-test dan post-testUjian akhir',\n",
        "        },{\n",
        "             'text_input': 'Mengapa status pelatihan di website tidak segera berubah setelah pelatihan selesai?',\n",
        "             'output': 'Karena setelah pelatihan selesai akan ada proses rekapitulasi nilai terlebih dahulu oleh panitia penyelenggara.Setelah proses ini selesai, maka status pelatihan pada website akan terupdate menjadi ���Lulus�۝ atau ���Tidak Lulus�۝, kemudian peserta dapat mengunduh sertifikat jika dinyatakan lulus serta dapat mendaftar pada pelatihan lainnya.Estimasi proses rekapitulasi nilai berbeda-beda, karena setiap tema pelatihan memiliki jumlah peserta yang berbeda.',\n",
        "        },{\n",
        "             'text_input': 'Apa penyebab status pelatihan tidak langsung diperbarui di website begitu pelatihan selesai?',\n",
        "             'output': 'Karena setelah pelatihan selesai akan ada proses rekapitulasi nilai terlebih dahulu oleh panitia penyelenggara.Setelah proses ini selesai, maka status pelatihan pada website akan terupdate menjadi ���Lulus�۝ atau ���Tidak Lulus�۝, kemudian peserta dapat mengunduh sertifikat jika dinyatakan lulus serta dapat mendaftar pada pelatihan lainnya.Estimasi proses rekapitulasi nilai berbeda-beda, karena setiap tema pelatihan memiliki jumlah peserta yang berbeda.',\n",
        "        },{\n",
        "             'text_input': 'Kenapa update status pelatihan tidak langsung muncul di website setelah berakhir?',\n",
        "             'output': 'Karena setelah pelatihan selesai akan ada proses rekapitulasi nilai terlebih dahulu oleh panitia penyelenggara.Setelah proses ini selesai, maka status pelatihan pada website akan terupdate menjadi ���Lulus�۝ atau ���Tidak Lulus�۝, kemudian peserta dapat mengunduh sertifikat jika dinyatakan lulus serta dapat mendaftar pada pelatihan lainnya.Estimasi proses rekapitulasi nilai berbeda-beda, karena setiap tema pelatihan memiliki jumlah peserta yang berbeda.',\n",
        "        },{\n",
        "             'text_input': 'Apa alasan status pelatihan belum berubah di website meskipun pelatihan telah selesai?',\n",
        "             'output': 'Karena setelah pelatihan selesai akan ada proses rekapitulasi nilai terlebih dahulu oleh panitia penyelenggara.Setelah proses ini selesai, maka status pelatihan pada website akan terupdate menjadi ���Lulus�۝ atau ���Tidak Lulus�۝, kemudian peserta dapat mengunduh sertifikat jika dinyatakan lulus serta dapat mendaftar pada pelatihan lainnya.Estimasi proses rekapitulasi nilai berbeda-beda, karena setiap tema pelatihan memiliki jumlah peserta yang berbeda.',\n",
        "        },{\n",
        "             'text_input': 'Mengapa status pelatihan di website tidak otomatis diperbarui setelah pelatihan selesai?',\n",
        "             'output': 'Karena setelah pelatihan selesai akan ada proses rekapitulasi nilai terlebih dahulu oleh panitia penyelenggara.Setelah proses ini selesai, maka status pelatihan pada website akan terupdate menjadi ���Lulus�۝ atau ���Tidak Lulus�۝, kemudian peserta dapat mengunduh sertifikat jika dinyatakan lulus serta dapat mendaftar pada pelatihan lainnya.Estimasi proses rekapitulasi nilai berbeda-beda, karena setiap tema pelatihan memiliki jumlah peserta yang berbeda.',\n",
        "        },{\n",
        "             'text_input': 'Apa spesifikasi minimum komputer yang diperlukan untuk mengikuti pelatihan?',\n",
        "             'output': 'Spesifikasi Komputer dapat dilihat di dalam Silabus pada setiap tema pelatihan yang terdapat pada website DTS.',\n",
        "        },{\n",
        "             'text_input': 'Seperti apa spesifikasi komputer yang disarankan untuk tiap pelatihan?',\n",
        "             'output': 'Spesifikasi Komputer dapat dilihat di dalam Silabus pada setiap tema pelatihan yang terdapat pada website DTS.',\n",
        "        },{\n",
        "             'text_input': 'Apa saja kebutuhan perangkat komputer untuk bisa mengikuti pelatihan ini?',\n",
        "             'output': 'Spesifikasi Komputer dapat dilihat di dalam Silabus pada setiap tema pelatihan yang terdapat pada website DTS.',\n",
        "        },{\n",
        "             'text_input': 'Spesifikasi komputer apa yang direkomendasikan untuk pelatihan ini?',\n",
        "             'output': 'Spesifikasi Komputer dapat dilihat di dalam Silabus pada setiap tema pelatihan yang terdapat pada website DTS.',\n",
        "        },{\n",
        "             'text_input': 'Apakah ada persyaratan khusus untuk spesifikasi komputer dalam mengikuti pelatihan?',\n",
        "             'output': 'Spesifikasi Komputer dapat dilihat di dalam Silabus pada setiap tema pelatihan yang terdapat pada website DTS.',\n",
        "        },{\n",
        "             'text_input': 'Apakah sertifikat DTS memiliki nilai yang cukup untuk mendukung lamaran kerja?',\n",
        "             'output': 'Sertifikat DTS bisa digunakan untuk melamar pekerjaan sebagai pendukung portofolio peserta. Jika pelatihan terdapat program sertifikasi keahlian, sertifikasi dapat membantu peserta dalam melamar pekerjaan.',\n",
        "        },{\n",
        "             'text_input': 'Seberapa berharga sertifikat DTS dalam proses melamar pekerjaan?',\n",
        "             'output': 'Sertifikat DTS bisa digunakan untuk melamar pekerjaan sebagai pendukung portofolio peserta. Jika pelatihan terdapat program sertifikasi keahlian, sertifikasi dapat membantu peserta dalam melamar pekerjaan.',\n",
        "        },{\n",
        "             'text_input': 'Apakah sertifikat dari DTS bisa diandalkan saat melamar pekerjaan?',\n",
        "             'output': 'Sertifikat DTS bisa digunakan untuk melamar pekerjaan sebagai pendukung portofolio peserta. Jika pelatihan terdapat program sertifikasi keahlian, sertifikasi dapat membantu peserta dalam melamar pekerjaan.',\n",
        "        },{\n",
        "             'text_input': 'Apakah sertifikat yang diperoleh dari DTS cukup mendukung untuk melamar kerja?',\n",
        "             'output': 'Sertifikat DTS bisa digunakan untuk melamar pekerjaan sebagai pendukung portofolio peserta. Jika pelatihan terdapat program sertifikasi keahlian, sertifikasi dapat membantu peserta dalam melamar pekerjaan.',\n",
        "        },{\n",
        "             'text_input': 'Dapatkah sertifikat DTS digunakan sebagai bukti kompetensi untuk mencari kerja?',\n",
        "             'output': 'Sertifikat DTS bisa digunakan untuk melamar pekerjaan sebagai pendukung portofolio peserta. Jika pelatihan terdapat program sertifikasi keahlian, sertifikasi dapat membantu peserta dalam melamar pekerjaan.',\n",
        "        },{\n",
        "             'text_input': 'Apa langkah-langkah untuk mengunduh sertifikat dari program DTS?',\n",
        "             'output': 'Hi digiers, sertifikat pelatihan akan muncul pada dashboard profil setelah peserta mengisi survey ya.Tutorial unduh sertifikat pelatihan dapat dilihat pada video berikut ini https://youtu.be/RHoUuujve9UTutorial cek survey pelatihan dapat dilihat pada video berikut ini https://youtu.be/Hze3QluAd3s',\n",
        "        },{\n",
        "             'text_input': 'Bagaimana prosedur mengunduh sertifikat DTS?',\n",
        "             'output': 'Hi digiers, sertifikat pelatihan akan muncul pada dashboard profil setelah peserta mengisi survey ya.Tutorial unduh sertifikat pelatihan dapat dilihat pada video berikut ini https://youtu.be/RHoUuujve9UTutorial cek survey pelatihan dapat dilihat pada video berikut ini https://youtu.be/Hze3QluAd3s',\n",
        "        },{\n",
        "             'text_input': 'Di mana dan bagaimana cara mengunduh sertifikat dari pelatihan DTS?',\n",
        "             'output': 'Hi digiers, sertifikat pelatihan akan muncul pada dashboard profil setelah peserta mengisi survey ya.Tutorial unduh sertifikat pelatihan dapat dilihat pada video berikut ini https://youtu.be/RHoUuujve9UTutorial cek survey pelatihan dapat dilihat pada video berikut ini https://youtu.be/Hze3QluAd3s',\n",
        "        },{\n",
        "             'text_input': 'Apa cara untuk mendapatkan dan mengunduh sertifikat DTS?',\n",
        "             'output': 'Hi digiers, sertifikat pelatihan akan muncul pada dashboard profil setelah peserta mengisi survey ya.Tutorial unduh sertifikat pelatihan dapat dilihat pada video berikut ini https://youtu.be/RHoUuujve9UTutorial cek survey pelatihan dapat dilihat pada video berikut ini https://youtu.be/Hze3QluAd3s',\n",
        "        },{\n",
        "             'text_input': 'Bagaimana cara mengakses sertifikat DTS untuk diunduh?',\n",
        "             'output': 'Hi digiers, sertifikat pelatihan akan muncul pada dashboard profil setelah peserta mengisi survey ya.Tutorial unduh sertifikat pelatihan dapat dilihat pada video berikut ini https://youtu.be/RHoUuujve9UTutorial cek survey pelatihan dapat dilihat pada video berikut ini https://youtu.be/Hze3QluAd3s',\n",
        "        },{\n",
        "             'text_input': 'Apa langkah-langkah untuk mengunduh sertifikat dari pelatihan yang diikuti tahun lalu?',\n",
        "             'output': 'Silahkan login ke halaman website DTS menggunakan akun DTS pada website sebelumnya, lalu cari sertifikat pelatihan tahun sebelumnya. Silahkan download Sertifikat pada laman tersebut.',\n",
        "        },{\n",
        "             'text_input': 'Bagaimana cara mendapatkan kembali sertifikat DTS dari pelatihan sebelumnya?',\n",
        "             'output': 'Silahkan login ke halaman website DTS menggunakan akun DTS pada website sebelumnya, lalu cari sertifikat pelatihan tahun sebelumnya. Silahkan download Sertifikat pada laman tersebut.',\n",
        "        },{\n",
        "             'text_input': 'Bagaimana cara mengakses dan mengunduh sertifikat dari pelatihan tahun lalu?',\n",
        "             'output': 'Silahkan login ke halaman website DTS menggunakan akun DTS pada website sebelumnya, lalu cari sertifikat pelatihan tahun sebelumnya. Silahkan download Sertifikat pada laman tersebut.',\n",
        "        },{\n",
        "             'text_input': 'Di mana bisa mengunduh sertifikat dari pelatihan yang sudah diikuti tahun sebelumnya?',\n",
        "             'output': 'Silahkan login ke halaman website DTS menggunakan akun DTS pada website sebelumnya, lalu cari sertifikat pelatihan tahun sebelumnya. Silahkan download Sertifikat pada laman tersebut.',\n",
        "        },{\n",
        "             'text_input': 'Bagaimana cara mengunduh sertifikat dari pelatihan yang diambil tahun lalu?',\n",
        "             'output': 'Silahkan login ke halaman website DTS menggunakan akun DTS pada website sebelumnya, lalu cari sertifikat pelatihan tahun sebelumnya. Silahkan download Sertifikat pada laman tersebut.',\n",
        "        },{\n",
        "             'text_input': 'Apakah Platform Diploy bisa diakses oleh orang yang belum terdaftar atau yang belum mengikuti DTS?',\n",
        "             'output': 'Tidak bisa. Peserta harus lulus dari minimal 1 pelatihan DTS untuk dapat menggunakan platform Diploy',\n",
        "        },{\n",
        "             'text_input': 'Bagaimana jika sertifikat tidak segera diterbitkan setelah mengikuti pelatihan?',\n",
        "             'output': 'Silahkan melapor ke admin pelatihan dan pastikan juga sudah memenuhi syarat kelulusan (contoh: lulus tes substansi, kehadiran, nilai mid tes, dan sudah isi survey evaluasi)',\n",
        "        },{\n",
        "             'text_input': 'Apa tindakan yang perlu diambil jika sertifikat tidak tersedia setelah pelatihan?',\n",
        "             'output': 'Silahkan melapor ke admin pelatihan dan pastikan juga sudah memenuhi syarat kelulusan (contoh: lulus tes substansi, kehadiran, nilai mid tes, dan sudah isi survey evaluasi)',\n",
        "        },{\n",
        "             'text_input': 'Mengapa sertifikat belum diterima meski pelatihan sudah selesai, dan apa solusinya?',\n",
        "             'output': 'Mengapa sertifikat belum diterima meski pelatihan sudah selesai, dan apa solusinya?',\n",
        "        },{\n",
        "             'text_input': 'Apa langkah yang bisa dilakukan jika sertifikat tidak kunjung keluar setelah pelatihan?',\n",
        "             'output': 'Silahkan melapor ke admin pelatihan dan pastikan juga sudah memenuhi syarat kelulusan (contoh: lulus tes substansi, kehadiran, nilai mid tes, dan sudah isi survey evaluasi)',\n",
        "        },{\n",
        "             'text_input': 'Bagaimana informasi terkait sertifikat dalam program Digital Talent Scholarship?',\n",
        "             'output': 'Sertifikat tahun 2023 dan tahun sebelumnya, hanya dapat diunduh hingga bulan maret 2023, sesuai pada pengumuman berikut: Info Sertifikat DTS.Sertifikat pelatihan DTS hanya bisa diunduh selama 6 bulan sampai 1 tahun setelah dirilis, peserta disarankan segera mengunduh dan menyimpan sertifikat pelatihan yang diterima.',\n",
        "        },{\n",
        "             'text_input': 'Apa saja detail informasi mengenai sertifikat di DTS?',\n",
        "             'output': 'Sertifikat tahun 2023 dan tahun sebelumnya, hanya dapat diunduh hingga bulan maret 2023, sesuai pada pengumuman berikut: Info Sertifikat DTS.Sertifikat pelatihan DTS hanya bisa diunduh selama 6 bulan sampai 1 tahun setelah dirilis, peserta disarankan segera mengunduh dan menyimpan sertifikat pelatihan yang diterima.',\n",
        "        },{\n",
        "             'text_input': 'Di mana bisa menemukan informasi tentang sertifikat DTS?',\n",
        "             'output': 'Sertifikat tahun 2023 dan tahun sebelumnya, hanya dapat diunduh hingga bulan maret 2023, sesuai pada pengumuman berikut: Info Sertifikat DTS.Sertifikat pelatihan DTS hanya bisa diunduh selama 6 bulan sampai 1 tahun setelah dirilis, peserta disarankan segera mengunduh dan menyimpan sertifikat pelatihan yang diterima.',\n",
        "        },{\n",
        "             'text_input': 'Apakah ada informasi khusus tentang sertifikat yang diterima dari DTS?',\n",
        "             'output': 'Sertifikat tahun 2023 dan tahun sebelumnya, hanya dapat diunduh hingga bulan maret 2023, sesuai pada pengumuman berikut: Info Sertifikat DTS.Sertifikat pelatihan DTS hanya bisa diunduh selama 6 bulan sampai 1 tahun setelah dirilis, peserta disarankan segera mengunduh dan menyimpan sertifikat pelatihan yang diterima.',\n",
        "        },{\n",
        "             'text_input': 'Apa saja yang perlu diketahui tentang sertifikat program DTS?',\n",
        "             'output': 'Sertifikat tahun 2023 dan tahun sebelumnya, hanya dapat diunduh hingga bulan maret 2023, sesuai pada pengumuman berikut: Info Sertifikat DTS.Sertifikat pelatihan DTS hanya bisa diunduh selama 6 bulan sampai 1 tahun setelah dirilis, peserta disarankan segera mengunduh dan menyimpan sertifikat pelatihan yang diterima.',\n",
        "        },{\n",
        "             'text_input': 'Apakah ada peluang kerja setelah menyelesaikan pelatihan dari Digital Talent Scholarship?',\n",
        "             'output': 'Program DTS tidak menjamin peserta untuk mendapatkan pekerjaan, namun para alumni DTS memiliki kesempatan untuk magang dan direkomendasikan untuk bekerja melalui Platform Diploy (Digital Employment). Diploy dapat diakses melalui link berikut: https://diploy.id/. Platform Diploy (Digital Employment) akan mempertemukan alumni DTS yang sudah tersertifikasi ke Industri yang sedang mencari tenaga kerja handal dan bersertifikat. Diploy juga memiliki fitur terbaru yaitu Virtual Internship.',\n",
        "        },{\n",
        "             'text_input': 'Apakah DTS memberikan akses atau peluang kerja setelah pelatihan berakhir?',\n",
        "             'output': 'Program DTS tidak menjamin peserta untuk mendapatkan pekerjaan, namun para alumni DTS memiliki kesempatan untuk magang dan direkomendasikan untuk bekerja melalui Platform Diploy (Digital Employment). Diploy dapat diakses melalui link berikut: https://diploy.id/. Platform Diploy (Digital Employment) akan mempertemukan alumni DTS yang sudah tersertifikasi ke Industri yang sedang mencari tenaga kerja handal dan bersertifikat. Diploy juga memiliki fitur terbaru yaitu Virtual Internship.',\n",
        "        },{\n",
        "             'text_input': 'Apakah pelatihan DTS menawarkan bantuan untuk menemukan pekerjaan setelah selesai?',\n",
        "             'output': 'Program DTS tidak menjamin peserta untuk mendapatkan pekerjaan, namun para alumni DTS memiliki kesempatan untuk magang dan direkomendasikan untuk bekerja melalui Platform Diploy (Digital Employment). Diploy dapat diakses melalui link berikut: https://diploy.id/. Platform Diploy (Digital Employment) akan mempertemukan alumni DTS yang sudah tersertifikasi ke Industri yang sedang mencari tenaga kerja handal dan bersertifikat. Diploy juga memiliki fitur terbaru yaitu Virtual Internship.',\n",
        "        },{\n",
        "             'text_input': 'Setelah pelatihan DTS, apakah ada dukungan untuk mendapatkan pekerjaan?',\n",
        "             'output': 'Program DTS tidak menjamin peserta untuk mendapatkan pekerjaan, namun para alumni DTS memiliki kesempatan untuk magang dan direkomendasikan untuk bekerja melalui Platform Diploy (Digital Employment). Diploy dapat diakses melalui link berikut: https://diploy.id/. Platform Diploy (Digital Employment) akan mempertemukan alumni DTS yang sudah tersertifikasi ke Industri yang sedang mencari tenaga kerja handal dan bersertifikat. Diploy juga memiliki fitur terbaru yaitu Virtual Internship.',\n",
        "        },{\n",
        "             'text_input': 'Apakah program DTS membantu menyediakan kesempatan kerja setelah pelatihan selesai?',\n",
        "             'output': 'Program DTS tidak menjamin peserta untuk mendapatkan pekerjaan, namun para alumni DTS memiliki kesempatan untuk magang dan direkomendasikan untuk bekerja melalui Platform Diploy (Digital Employment). Diploy dapat diakses melalui link berikut: https://diploy.id/. Platform Diploy (Digital Employment) akan mempertemukan alumni DTS yang sudah tersertifikasi ke Industri yang sedang mencari tenaga kerja handal dan bersertifikat. Diploy juga memiliki fitur terbaru yaitu Virtual Internship.',\n",
        "        },{\n",
        "             'text_input': 'Apa langkah-langkah bagi alumni DTS untuk mendaftar di Platform Diploy?',\n",
        "             'output': 'Peserta dapat login ke Diploy.id dengan akun DTS karena kedua platform tersebut terintegrasi dengan single sign on',\n",
        "        },{\n",
        "             'text_input': 'Bagaimana proses pendaftaran akun di Diploy bagi alumni DTS?',\n",
        "             'output': 'Peserta dapat login ke Diploy.id dengan akun DTS karena kedua platform tersebut terintegrasi dengan single sign on',\n",
        "        },{\n",
        "             'text_input': 'Apa yang perlu dilakukan alumni DTS untuk membuat akun di Platform Diploy?',\n",
        "             'output': 'Peserta dapat login ke Diploy.id dengan akun DTS karena kedua platform tersebut terintegrasi dengan single sign on',\n",
        "        },{\n",
        "             'text_input': 'Bagaimana cara alumni DTS melakukan registrasi di Platform Diploy?',\n",
        "             'output': 'Peserta dapat login ke Diploy.id dengan akun DTS karena kedua platform tersebut terintegrasi dengan single sign on',\n",
        "        },{\n",
        "             'text_input': 'Apa prosedur bagi alumni DTS untuk mengakses dan membuat akun di Platform Diploy?',\n",
        "             'output': 'Peserta dapat login ke Diploy.id dengan akun DTS karena kedua platform tersebut terintegrasi dengan single sign on',\n",
        "        },{\n",
        "             'text_input': 'Apakah Platform Diploy terbuka untuk publik atau mereka yang belum mengikuti pelatihan DTS?',\n",
        "             'output': 'Tidak bisa. Peserta harus lulus dari minimal 1 pelatihan DTS untuk dapat menggunakan platform Diploy',\n",
        "        },{\n",
        "             'text_input': 'Bisakah mereka yang tidak mengikuti pelatihan DTS mengakses Platform Diploy?',\n",
        "             'output': 'Tidak bisa. Peserta harus lulus dari minimal 1 pelatihan DTS untuk dapat menggunakan platform Diploy',\n",
        "        },{\n",
        "             'text_input': 'Apakah Platform Diploy bisa digunakan oleh orang yang belum mengikuti pelatihan di DTS?',\n",
        "             'output': 'Tidak bisa. Peserta harus lulus dari minimal 1 pelatihan DTS untuk dapat menggunakan platform Diploy',\n",
        "        },{\n",
        "             'text_input': 'Apa langkah berikutnya setelah menyelesaikan pelatihan di DTS?',\n",
        "             'output': 'Peserta dapat melampirkan sertifikat pelatihan DTS dalam curriculum vitae dan juga dapat membuat akun pada portal lowongan pekerjaan seperti Diploy (Digital Employment), agar dapat mengapply lowongan dan bisa mengikuti program VIX.',\n",
        "        },{\n",
        "             'text_input': 'Setelah menyelesaikan pelatihan DTS, apa yang sebaiknya dilakukan?',\n",
        "             'output': 'Peserta dapat melampirkan sertifikat pelatihan DTS dalam curriculum vitae dan juga dapat membuat akun pada portal lowongan pekerjaan seperti Diploy (Digital Employment), agar dapat mengapply lowongan dan bisa mengikuti program VIX.',\n",
        "        },{\n",
        "             'text_input': 'Langkah apa yang perlu diambil setelah mengikuti pelatihan DTS?',\n",
        "             'output': 'Peserta dapat melampirkan sertifikat pelatihan DTS dalam curriculum vitae dan juga dapat membuat akun pada portal lowongan pekerjaan seperti Diploy (Digital Employment), agar dapat mengapply lowongan dan bisa mengikuti program VIX.',\n",
        "        },{\n",
        "             'text_input': 'Apa yang disarankan untuk dilakukan setelah pelatihan di DTS selesai?',\n",
        "             'output': 'Peserta dapat melampirkan sertifikat pelatihan DTS dalam curriculum vitae dan juga dapat membuat akun pada portal lowongan pekerjaan seperti Diploy (Digital Employment), agar dapat mengapply lowongan dan bisa mengikuti program VIX.',\n",
        "        },{\n",
        "             'text_input': 'Setelah pelatihan di DTS berakhir, tindakan apa yang harus saya ambil?',\n",
        "             'output': 'Peserta dapat melampirkan sertifikat pelatihan DTS dalam curriculum vitae dan juga dapat membuat akun pada portal lowongan pekerjaan seperti Diploy (Digital Employment), agar dapat mengapply lowongan dan bisa mengikuti program VIX.',\n",
        "        },{\n",
        "             'text_input': 'Ada berapa banyak beasiswa yang ditawarkan dalam Digital Talent Scholarship 2024?',\n",
        "             'output': 'Beasiswa yang akan diberikan kepada 100.000 talenta yang terpilih.',\n",
        "        },{\n",
        "             'text_input': 'Dimana lokasi BPSDMP Kominfo yogyakarta',\n",
        "             'output': 'Jl. Imogiri Barat No.km 5, Tanjung, Bangunharjo, Kec. Sewon, Kabupaten Bantul, Daerah Istimewa Yogyakarta 55188\\n\\n https://maps.app.goo.gl/h8mQMqxHFbxw2mD46',\n",
        "        },{\n",
        "             'text_input': 'Selamat pagi admin!',\n",
        "             'output': 'Hai, selamat pagi! Semoga hari Anda menyenangkan. Digeris, silahkan tanya pertanyaanmu di bawah ya...',\n",
        "        },{\n",
        "             'text_input': 'Sore Kak',\n",
        "             'output': 'Hai, selamat sore! Semoga hari Anda tetap menyenangkan sampai akhir. Digeris, silahkan tanya pertanyaanmu di bawah ya...',\n",
        "        },{\n",
        "             'text_input': 'apa itu dts',\n",
        "             'output': 'Digital Talent Scholarship (DTS) adalah program pelatihan pengembangan kompetensi yang telah diberikan kepada talenta digital Indonesia sejak tahun 2018. Program ini ditujukan untuk meningkatkan keterampilan dan daya saing, produktivitas, profesionalisme SDM bidang teknologi informasi dan komunikasi bagi angkatan kerja muda Indonesia, masyarakat umum, dan aparatur sipil negaradi bidang Komunikasi dan Informatika sehingga dapat meningkatkan produktivitas dan daya saing bangsa di era Industri 4.0, serta mampu memenuhi kebutuhan tenaga terampil di bidang teknologi. Program DTS secara garis besar dibagi menjadi delapan Akademi, yaitu: 1. Fresh Graduate Academy (FGA) - Lulusan Baru 2. Vocational School Graduate Academy (VSGA) - Lulusan Vokasi 3. Thematic Academy (TA) - Pelatihan Tematik 4. Professional Academy (ProA) - Pekerja Terampil 5. Government Transformation Academy (GTA) - Aparatur Sipil Negara 6. Digital Entrepreneurship Academy (DEA) - Wirausaha & UMKM 7. Digital Leadership Academy (DLA) - Pimpinan Digital 8. Talent Scouting Academy (TSA) - MahasiswaKementerian Komunikasi dan Informatika Republik Indonesia dalam hal ini berupaya untuk menciptakan ekosistem seimbang untuk memaksimalkan peran pentahelix (pemerintah, komunitas/masyarakat, institusi pendidikan tinggi, dunia usaha, dan media) untuk menjadi fasilitator dan akselerator pendukung ekonomi digital.',\n",
        "        },{\n",
        "             'text_input': 'Selamat pagi',\n",
        "             'output': 'Hai, selamat pagi! Semoga hari Anda menyenangkan. Digeris, silahkan tanya pertanyaanmu di bawah ya...',\n",
        "        },\n",
        "    ],\n",
        "    id = name,\n",
        "    epoch_count = 5,\n",
        "    batch_size=4,\n",
        "    learning_rate=0.001,\n",
        ")"
      ]
    },
    {
      "cell_type": "markdown",
      "metadata": {
        "id": "-As7ayWDK1w8"
      },
      "source": [
        "Your tuned model is immediately added to the list of tuned models, but its status is set to \"creating\" while the model is tuned."
      ]
    },
    {
      "cell_type": "code",
      "execution_count": 9,
      "metadata": {
        "id": "su64KgY4Uztj",
        "colab": {
          "base_uri": "https://localhost:8080/",
          "height": 344
        },
        "outputId": "3fb8fcd1-2331-4ce0-9dbb-972e6f83e135"
      },
      "outputs": [
        {
          "output_type": "execute_result",
          "data": {
            "text/plain": [
              "TunedModel(name='tunedModels/chatbot-num-61',\n",
              "           source_model='models/gemini-1.5-flash-001-tuning',\n",
              "           base_model='models/gemini-1.5-flash-001-tuning',\n",
              "           display_name='',\n",
              "           description='',\n",
              "           temperature=1.0,\n",
              "           top_p=0.95,\n",
              "           top_k=64,\n",
              "           state=<State.CREATING: 1>,\n",
              "           create_time=datetime.datetime(2025, 1, 23, 22, 32, 8, 82228, tzinfo=datetime.timezone.utc),\n",
              "           update_time=datetime.datetime(2025, 1, 23, 22, 32, 8, 82228, tzinfo=datetime.timezone.utc),\n",
              "           tuning_task=TuningTask(start_time=datetime.datetime(2025, 1, 23, 22, 32, 8, 470465, tzinfo=datetime.timezone.utc),\n",
              "                                  complete_time=None,\n",
              "                                  snapshots=[],\n",
              "                                  hyperparameters=Hyperparameters(epoch_count=5,\n",
              "                                                                  batch_size=4,\n",
              "                                                                  learning_rate=0.001)),\n",
              "           reader_project_numbers=None)"
            ]
          },
          "metadata": {},
          "execution_count": 9
        }
      ],
      "source": [
        "model = genai.get_tuned_model(f'tunedModels/{name}')\n",
        "\n",
        "model"
      ]
    },
    {
      "cell_type": "code",
      "execution_count": 10,
      "metadata": {
        "id": "EUodUwZkKPi-",
        "colab": {
          "base_uri": "https://localhost:8080/"
        },
        "outputId": "dd6912ff-7d28-41c7-fe02-219c7dee6500"
      },
      "outputs": [
        {
          "output_type": "execute_result",
          "data": {
            "text/plain": [
              "<State.CREATING: 1>"
            ]
          },
          "metadata": {},
          "execution_count": 10
        }
      ],
      "source": [
        "model.state"
      ]
    },
    {
      "cell_type": "markdown",
      "metadata": {
        "id": "Pi8X5vkQv-3_"
      },
      "source": [
        "### Check tuning progress"
      ]
    },
    {
      "cell_type": "markdown",
      "metadata": {
        "id": "tWI-vAh4LJIz"
      },
      "source": [
        "Use `metadata` to check the state:"
      ]
    },
    {
      "cell_type": "code",
      "execution_count": 11,
      "metadata": {
        "id": "g08vqtxYLMxT",
        "colab": {
          "base_uri": "https://localhost:8080/"
        },
        "outputId": "abd7af38-3e77-4fbb-9be2-a0a442ef581b"
      },
      "outputs": [
        {
          "output_type": "execute_result",
          "data": {
            "text/plain": [
              "tuned_model: \"tunedModels/chatbot-num-61\"\n",
              "total_steps: 452"
            ]
          },
          "metadata": {},
          "execution_count": 11
        }
      ],
      "source": [
        "operation.metadata"
      ]
    },
    {
      "cell_type": "markdown",
      "metadata": {
        "id": "3lQ6gSMgK-kz"
      },
      "source": [
        "Wait for the training to finish using `operation.result()`, or `operation.wait_bar()`"
      ]
    },
    {
      "cell_type": "code",
      "execution_count": 12,
      "metadata": {
        "id": "SOUowIv1HgSE",
        "colab": {
          "base_uri": "https://localhost:8080/",
          "height": 49,
          "referenced_widgets": [
            "ed5ba92f3916455b9c0880c975676b6b",
            "0b6a459433a94692bea693cb412d7cb0",
            "a7b97ea3df27428a858074fb2e36f087",
            "3585c617b0714f849b1ef12879a87410",
            "86c915381f864179af30238f361db583",
            "b8c440b5d05a46c38683f1bd6361edc6",
            "f9b6858cbe9f4e9fa49b144e95ea0dca",
            "275f78223da64c62b4128317f85245b8",
            "a435339120a54fe0bf388f1ce87148dd",
            "abd74a0b2d29480eb79e68cfa72fa840",
            "6e8db5d831714cfabbb55ac7695153e1"
          ]
        },
        "outputId": "81c1edde-210f-47dd-e69a-3f30d2209cde"
      },
      "outputs": [
        {
          "output_type": "display_data",
          "data": {
            "text/plain": [
              "  0%|          | 0/452 [00:00<?, ?it/s]"
            ],
            "application/vnd.jupyter.widget-view+json": {
              "version_major": 2,
              "version_minor": 0,
              "model_id": "ed5ba92f3916455b9c0880c975676b6b"
            }
          },
          "metadata": {}
        }
      ],
      "source": [
        "import time\n",
        "\n",
        "for status in operation.wait_bar():\n",
        "  time.sleep(30)"
      ]
    },
    {
      "cell_type": "markdown",
      "metadata": {
        "id": "4cg868HzqOx5"
      },
      "source": [
        "You can cancel your tuning job any time using the `cancel()` method. Uncomment the line below and run the code cell to cancel your job before it finishes."
      ]
    },
    {
      "cell_type": "code",
      "execution_count": null,
      "metadata": {
        "id": "oQuJ70_hqJi9"
      },
      "outputs": [],
      "source": [
        "# operation.cancel()"
      ]
    },
    {
      "cell_type": "markdown",
      "metadata": {
        "id": "lqiL0TWDqAPn"
      },
      "source": [
        "Once the tuning is complete, you can view the loss curve from the tuning results. The [loss curve](https://ai.google.dev/gemini-api/docs/model-tuning#recommended_configurations) shows how much the model's predictions deviate from the ideal outputs."
      ]
    },
    {
      "cell_type": "code",
      "execution_count": 19,
      "metadata": {
        "id": "bIiG57xWLhP7",
        "colab": {
          "base_uri": "https://localhost:8080/",
          "height": 485
        },
        "outputId": "5241719c-2308-4ac5-c3cf-21e5604e3dbe"
      },
      "outputs": [
        {
          "output_type": "stream",
          "name": "stdout",
          "text": [
            "Index(['step', 'mean_loss', 'compute_time', 'epoch'], dtype='object')\n"
          ]
        },
        {
          "output_type": "execute_result",
          "data": {
            "text/plain": [
              "<Axes: xlabel='epoch', ylabel='mean_loss'>"
            ]
          },
          "metadata": {},
          "execution_count": 19
        },
        {
          "output_type": "display_data",
          "data": {
            "text/plain": [
              "<Figure size 640x480 with 1 Axes>"
            ],
            "image/png": "[encoded data removed]"
          },
          "metadata": {}
        }
      ],
      "source": [
        "import pandas as pd\n",
        "import seaborn as sns\n",
        "\n",
        "model = operation.result()\n",
        "\n",
        "snapshots = pd.DataFrame(model.tuning_task.snapshots)\n",
        "\n",
        "print(snapshots.columns)\n",
        "\n",
        "sns.lineplot(data=snapshots, x='epoch', y='mean_loss', label='Training Loss')"
      ]
    },
    {
      "cell_type": "markdown",
      "metadata": {
        "id": "rkoQTXb1vSBC"
      },
      "source": [
        "## Evaluate your model\n",
        "\n",
        "You can use the `genai.generate_content` method and specify the name of your model to test your model performance."
      ]
    },
    {
      "cell_type": "code",
      "execution_count": 12,
      "metadata": {
        "id": "zO0YcuSyxydZ"
      },
      "outputs": [],
      "source": [
        "model = genai.GenerativeModel(model_name=f'tunedModels/{name}')"
      ]
    },
    {
      "cell_type": "code",
      "execution_count": 13,
      "metadata": {
        "id": "UwGrrj6hS_x2",
        "colab": {
          "base_uri": "https://localhost:8080/",
          "height": 108
        },
        "outputId": "0f72b1b6-aa4a-46be-da7a-e19fd9ff16a6"
      },
      "outputs": [
        {
          "output_type": "execute_result",
          "data": {
            "text/plain": [
              "'DTS adalah singkatan dari Digital Talent Scholarship, yaitu program pelatihan pengembangan kompetensi yang telah diberikan kepada talenta digital Indonesia sejak tahun 2018. Program ini ditujukan untuk meningkatkan keterampilan dan daya saing angkatan kerja muda Indonesia di bidang teknologi informasi dan komunikasi, sehingga dapat meningkatkan produktivitas dan daya saing bangsa di era industri 4.0. Program DTS secara garis besar dibagi menjadi delapan Akademi, yaitu: 1. Fresh Graduate Academy (FGA) - Lulusan Baru 2. Vocational School Graduate Academy (VGA) - Lulusan Vokasi 3. Thematic Academy (TA) - Pelaku Industri 4.0 4. Professional Academy (ProA) - Pekerja Terampil 5. Startup Academy (SA) - Wirausahawan Digital 6. Government Transformation Academy (GTA) - Aparatur Sipil Negara 7. Digital Entrepreneurship Academy (DEA) - Masyarakat Umum 8. Digital Leadership Academy (DLA) - Pimpinan Digital'"
            ],
            "application/vnd.google.colaboratory.intrinsic+json": {
              "type": "string"
            }
          },
          "metadata": {},
          "execution_count": 13
        }
      ],
      "source": [
        "result = model.generate_content('apa itu dts')\n",
        "result.text"
      ]
    },
    {
      "cell_type": "code",
      "execution_count": 14,
      "metadata": {
        "id": "YSNB2zjTx5SZ",
        "colab": {
          "base_uri": "https://localhost:8080/",
          "height": 36
        },
        "outputId": "52c69bf6-b305-4ed0-eb8f-61e8b3d82dc1"
      },
      "outputs": [
        {
          "output_type": "execute_result",
          "data": {
            "text/plain": [
              "'Tidak, pendaftaran DTS 2023 tidak dikenakan biaya apapun.'"
            ],
            "application/vnd.google.colaboratory.intrinsic+json": {
              "type": "string"
            }
          },
          "metadata": {},
          "execution_count": 14
        }
      ],
      "source": [
        "result = model.generate_content('apakah daftar dts berbayar')\n",
        "result.text"
      ]
    },
    {
      "cell_type": "code",
      "execution_count": 15,
      "metadata": {
        "id": "Y2YVO-m0Ut9H",
        "colab": {
          "base_uri": "https://localhost:8080/",
          "height": 90
        },
        "outputId": "52488681-faf9-49eb-c7f0-65e9b99f859f"
      },
      "outputs": [
        {
          "output_type": "execute_result",
          "data": {
            "text/plain": [
              "'Silahkan mengikuti langkah berikut untuk membuat akun DTS:Buat akun DTS terlebih dahulu pada tautan berikut: https://digitalent.kominfo.go.id/registerPenting! Silahkan memperhatikan beberapa hal berikut ini:Nama user minimal 6 karakterEmail dan konfirmasi email harus sama dengan alamat email aktif Anda, karena tautan reset password akan dikirimkan ke alamat email tersebutSilahkan membuat password yang cukup kuat dan susah ditebak, serta mengandung karakter spesialPenting untuk diingat kembali bahwa pendaftaran pelatihan hanya dapat dilakukan satu kali dengan akun yang telah dibuat. Silahkan melengkapi data diri pada profil dan melengkapi data akademik (bagi mahasiswa) selanjutnya dapat memilih pelatihan yang diminati.'"
            ],
            "application/vnd.google.colaboratory.intrinsic+json": {
              "type": "string"
            }
          },
          "metadata": {},
          "execution_count": 15
        }
      ],
      "source": [
        "result = model.generate_content('bagaimana cara saya mendaftar dts')\n",
        "result.text"
      ]
    },
    {
      "cell_type": "code",
      "execution_count": 16,
      "metadata": {
        "id": "h2MkTR0uTb6U",
        "colab": {
          "base_uri": "https://localhost:8080/",
          "height": 54
        },
        "outputId": "f991f997-dd51-413d-a5d6-e9c7e2a93515"
      },
      "outputs": [
        {
          "output_type": "execute_result",
          "data": {
            "text/plain": [
              "'Peserta tidak akan diterima dalam pelatihan jika mengundurkan diri. Sertifikat juga tidak akan diberikan kepada peserta yang mengundurkan diri. Jika ingin melanjutkan pelatihan kembali, silahkan daftar ulang kembali dan pastikan untuk melengkapi semua persyaratan yang dibutuhkan.'"
            ],
            "application/vnd.google.colaboratory.intrinsic+json": {
              "type": "string"
            }
          },
          "metadata": {},
          "execution_count": 16
        }
      ],
      "source": [
        "result = model.generate_content('bagaimana cara saya tidak jadi mendaftar dts')\n",
        "result.text"
      ]
    },
    {
      "cell_type": "code",
      "execution_count": 17,
      "metadata": {
        "id": "OruCW1zETsZw",
        "colab": {
          "base_uri": "https://localhost:8080/",
          "height": 54
        },
        "outputId": "dd709774-6c38-4ce6-9f81-4739c7f89649"
      },
      "outputs": [
        {
          "output_type": "execute_result",
          "data": {
            "text/plain": [
              "'Ya, lulusan SMK dapat mendaftar DTS. Peserta tidak hanya dituntut untuk memiliki gelar kesarjanaan, namun juga kompetensi. Silahkan cek pada Silabus setiap pelatihan, untuk mengetahui persyaratan akademik pada masing-masing pelatihan.'"
            ],
            "application/vnd.google.colaboratory.intrinsic+json": {
              "type": "string"
            }
          },
          "metadata": {},
          "execution_count": 17
        }
      ],
      "source": [
        "result = model.generate_content('apakah lulusan SMK bisa ikut dts')\n",
        "result.text"
      ]
    },
    {
      "cell_type": "code",
      "execution_count": 18,
      "metadata": {
        "id": "thDdSuUDUJOx",
        "colab": {
          "base_uri": "https://localhost:8080/",
          "height": 54
        },
        "outputId": "8bf01da2-7291-4f54-9028-7892fb984580"
      },
      "outputs": [
        {
          "output_type": "execute_result",
          "data": {
            "text/plain": [
              "'Peserta yang telah menyelesaikan pelatihan sampai selesai akan mendapatkan beberapa benefit:Sertifikat CompletionKesempatan Sertifikasi InternasionalAkses materi Mentor Class di Platform DiployAkses Virtual Internship di Platform DiployPenggantian Uang Pulsa*benefit yang diberikan tergantung akademi pelatihan dan tema pelatihan yang dipilih'"
            ],
            "application/vnd.google.colaboratory.intrinsic+json": {
              "type": "string"
            }
          },
          "metadata": {},
          "execution_count": 18
        }
      ],
      "source": [
        "result = model.generate_content('keuntungan apa yang saya dapatkan selama dts')\n",
        "result.text"
      ]
    },
    {
      "cell_type": "markdown",
      "metadata": {
        "id": "HpIA1IFevQQR"
      },
      "source": [
        "It really seems to have picked up the task despite the limited examples, but \"next\" is a simple concept, see the [tuning guide](https://ai.google.dev/gemini-api/docs/model-tuning) for more guidance on improving performance."
      ]
    },
    {
      "cell_type": "markdown",
      "metadata": {
        "id": "nmuQCbTYwIOx"
      },
      "source": [
        "## Update the description\n",
        "\n",
        "You can update the description of your tuned model any time using the `genai.update_tuned_model` method."
      ]
    },
    {
      "cell_type": "code",
      "execution_count": null,
      "metadata": {
        "id": "9gAVuXT_wG3x"
      },
      "outputs": [],
      "source": [
        "genai.update_tuned_model(f'tunedModels/{name}', {\"description\":\"This is my model.\"});"
      ]
    },
    {
      "cell_type": "code",
      "execution_count": null,
      "metadata": {
        "id": "d-c3YerBxVYs",
        "outputId": "bea9050a-3903-4ece-f06b-8c1e32a3656a"
      },
      "outputs": [
        {
          "data": {
            "application/vnd.google.colaboratory.intrinsic+json": {
              "type": "string"
            },
            "text/plain": [
              "'This is my model.'"
            ]
          },
          "execution_count": 22,
          "metadata": {},
          "output_type": "execute_result"
        }
      ],
      "source": [
        "model = genai.get_tuned_model(f'tunedModels/{name}')\n",
        "\n",
        "model.description"
      ]
    },
    {
      "cell_type": "markdown",
      "metadata": {
        "id": "i_TpwvBB4bQ7"
      },
      "source": [
        "## Delete the model\n",
        "\n",
        "You can clean up your tuned model list by deleting models you no longer need. Use the `genai.delete_tuned_model` method to delete a model. If you canceled any tuning jobs, you may want to delete those as their performance may be unpredictable."
      ]
    },
    {
      "cell_type": "code",
      "execution_count": null,
      "metadata": {
        "id": "cepfaUCvVGCo"
      },
      "outputs": [],
      "source": [
        "genai.delete_tuned_model(f'tunedModels/{name}')"
      ]
    },
    {
      "cell_type": "markdown",
      "metadata": {
        "id": "ljEssIshYDEr"
      },
      "source": [
        "The model no longer exists:"
      ]
    },
    {
      "cell_type": "code",
      "execution_count": null,
      "metadata": {
        "id": "kN_bkut_4ayL",
        "outputId": "d36f5a7b-385c-41c5-80bf-b66db7390aef"
      },
      "outputs": [
        {
          "name": "stdout",
          "output_type": "stream",
          "text": [
            "<class 'google.api_core.exceptions.NotFound'>: 404 GET https://generativelanguage.googleapis.com/v1beta/tunedModels/generate-num-8122?%24alt=json%3Benum-encoding%3Dint: Tuned model tunedModels/generate-num-8122 does not exist.\n"
          ]
        },
        {
          "name": "stderr",
          "output_type": "stream",
          "text": [
            "WARNING:tornado.access:404 GET /v1beta/tunedModels/generate-num-8122?%24alt=json%3Benum-encoding%3Dint (127.0.0.1) 838.85ms\n"
          ]
        }
      ],
      "source": [
        "try:\n",
        "  m = genai.get_tuned_model(f'tunedModels/{name}')\n",
        "  print(m)\n",
        "except Exception as e:\n",
        "  print(f\"{type(e)}: {e}\")"
      ]
    }
  ],
  "metadata": {
    "colab": {
      "name": "python.ipynb",
      "provenance": []
    },
    "kernelspec": {
      "display_name": "Python 3",
      "name": "python3"
    },
    "widgets": {
      "application/vnd.jupyter.widget-state+json": {
        "ed5ba92f3916455b9c0880c975676b6b": {
          "model_module": "@jupyter-widgets/controls",
          "model_name": "HBoxModel",
          "model_module_version": "1.5.0",
          "state": {
            "_dom_classes": [],
            "_model_module": "@jupyter-widgets/controls",
            "_model_module_version": "1.5.0",
            "_model_name": "HBoxModel",
            "_view_count": null,
            "_view_module": "@jupyter-widgets/controls",
            "_view_module_version": "1.5.0",
            "_view_name": "HBoxView",
            "box_style": "",
            "children": [
              "IPY_MODEL_0b6a459433a94692bea693cb412d7cb0",
              "IPY_MODEL_a7b97ea3df27428a858074fb2e36f087",
              "IPY_MODEL_3585c617b0714f849b1ef12879a87410"
            ],
            "layout": "IPY_MODEL_86c915381f864179af30238f361db583"
          }
        },
        "0b6a459433a94692bea693cb412d7cb0": {
          "model_module": "@jupyter-widgets/controls",
          "model_name": "HTMLModel",
          "model_module_version": "1.5.0",
          "state": {
            "_dom_classes": [],
            "_model_module": "@jupyter-widgets/controls",
            "_model_module_version": "1.5.0",
            "_model_name": "HTMLModel",
            "_view_count": null,
            "_view_module": "@jupyter-widgets/controls",
            "_view_module_version": "1.5.0",
            "_view_name": "HTMLView",
            "description": "",
            "description_tooltip": null,
            "layout": "IPY_MODEL_b8c440b5d05a46c38683f1bd6361edc6",
            "placeholder": "​",
            "style": "IPY_MODEL_f9b6858cbe9f4e9fa49b144e95ea0dca",
            "value": "100%"
          }
        },
        "a7b97ea3df27428a858074fb2e36f087": {
          "model_module": "@jupyter-widgets/controls",
          "model_name": "FloatProgressModel",
          "model_module_version": "1.5.0",
          "state": {
            "_dom_classes": [],
            "_model_module": "@jupyter-widgets/controls",
            "_model_module_version": "1.5.0",
            "_model_name": "FloatProgressModel",
            "_view_count": null,
            "_view_module": "@jupyter-widgets/controls",
            "_view_module_version": "1.5.0",
            "_view_name": "ProgressView",
            "bar_style": "",
            "description": "",
            "description_tooltip": null,
            "layout": "IPY_MODEL_275f78223da64c62b4128317f85245b8",
            "max": 452,
            "min": 0,
            "orientation": "horizontal",
            "style": "IPY_MODEL_a435339120a54fe0bf388f1ce87148dd",
            "value": 452
          }
        },
        "3585c617b0714f849b1ef12879a87410": {
          "model_module": "@jupyter-widgets/controls",
          "model_name": "HTMLModel",
          "model_module_version": "1.5.0",
          "state": {
            "_dom_classes": [],
            "_model_module": "@jupyter-widgets/controls",
            "_model_module_version": "1.5.0",
            "_model_name": "HTMLModel",
            "_view_count": null,
            "_view_module": "@jupyter-widgets/controls",
            "_view_module_version": "1.5.0",
            "_view_name": "HTMLView",
            "description": "",
            "description_tooltip": null,
            "layout": "IPY_MODEL_abd74a0b2d29480eb79e68cfa72fa840",
            "placeholder": "​",
            "style": "IPY_MODEL_6e8db5d831714cfabbb55ac7695153e1",
            "value": " 452/452 [20:52&lt;00:00,  3.01s/it]"
          }
        },
        "86c915381f864179af30238f361db583": {
          "model_module": "@jupyter-widgets/base",
          "model_name": "LayoutModel",
          "model_module_version": "1.2.0",
          "state": {
            "_model_module": "@jupyter-widgets/base",
            "_model_module_version": "1.2.0",
            "_model_name": "LayoutModel",
            "_view_count": null,
            "_view_module": "@jupyter-widgets/base",
            "_view_module_version": "1.2.0",
            "_view_name": "LayoutView",
            "align_content": null,
            "align_items": null,
            "align_self": null,
            "border": null,
            "bottom": null,
            "display": null,
            "flex": null,
            "flex_flow": null,
            "grid_area": null,
            "grid_auto_columns": null,
            "grid_auto_flow": null,
            "grid_auto_rows": null,
            "grid_column": null,
            "grid_gap": null,
            "grid_row": null,
            "grid_template_areas": null,
            "grid_template_columns": null,
            "grid_template_rows": null,
            "height": null,
            "justify_content": null,
            "justify_items": null,
            "left": null,
            "margin": null,
            "max_height": null,
            "max_width": null,
            "min_height": null,
            "min_width": null,
            "object_fit": null,
            "object_position": null,
            "order": null,
            "overflow": null,
            "overflow_x": null,
            "overflow_y": null,
            "padding": null,
            "right": null,
            "top": null,
            "visibility": null,
            "width": null
          }
        },
        "b8c440b5d05a46c38683f1bd6361edc6": {
          "model_module": "@jupyter-widgets/base",
          "model_name": "LayoutModel",
          "model_module_version": "1.2.0",
          "state": {
            "_model_module": "@jupyter-widgets/base",
            "_model_module_version": "1.2.0",
            "_model_name": "LayoutModel",
            "_view_count": null,
            "_view_module": "@jupyter-widgets/base",
            "_view_module_version": "1.2.0",
            "_view_name": "LayoutView",
            "align_content": null,
            "align_items": null,
            "align_self": null,
            "border": null,
            "bottom": null,
            "display": null,
            "flex": null,
            "flex_flow": null,
            "grid_area": null,
            "grid_auto_columns": null,
            "grid_auto_flow": null,
            "grid_auto_rows": null,
            "grid_column": null,
            "grid_gap": null,
            "grid_row": null,
            "grid_template_areas": null,
            "grid_template_columns": null,
            "grid_template_rows": null,
            "height": null,
            "justify_content": null,
            "justify_items": null,
            "left": null,
            "margin": null,
            "max_height": null,
            "max_width": null,
            "min_height": null,
            "min_width": null,
            "object_fit": null,
            "object_position": null,
            "order": null,
            "overflow": null,
            "overflow_x": null,
            "overflow_y": null,
            "padding": null,
            "right": null,
            "top": null,
            "visibility": null,
            "width": null
          }
        },
        "f9b6858cbe9f4e9fa49b144e95ea0dca": {
          "model_module": "@jupyter-widgets/controls",
          "model_name": "DescriptionStyleModel",
          "model_module_version": "1.5.0",
          "state": {
            "_model_module": "@jupyter-widgets/controls",
            "_model_module_version": "1.5.0",
            "_model_name": "DescriptionStyleModel",
            "_view_count": null,
            "_view_module": "@jupyter-widgets/base",
            "_view_module_version": "1.2.0",
            "_view_name": "StyleView",
            "description_width": ""
          }
        },
        "275f78223da64c62b4128317f85245b8": {
          "model_module": "@jupyter-widgets/base",
          "model_name": "LayoutModel",
          "model_module_version": "1.2.0",
          "state": {
            "_model_module": "@jupyter-widgets/base",
            "_model_module_version": "1.2.0",
            "_model_name": "LayoutModel",
            "_view_count": null,
            "_view_module": "@jupyter-widgets/base",
            "_view_module_version": "1.2.0",
            "_view_name": "LayoutView",
            "align_content": null,
            "align_items": null,
            "align_self": null,
            "border": null,
            "bottom": null,
            "display": null,
            "flex": null,
            "flex_flow": null,
            "grid_area": null,
            "grid_auto_columns": null,
            "grid_auto_flow": null,
            "grid_auto_rows": null,
            "grid_column": null,
            "grid_gap": null,
            "grid_row": null,
            "grid_template_areas": null,
            "grid_template_columns": null,
            "grid_template_rows": null,
            "height": null,
            "justify_content": null,
            "justify_items": null,
            "left": null,
            "margin": null,
            "max_height": null,
            "max_width": null,
            "min_height": null,
            "min_width": null,
            "object_fit": null,
            "object_position": null,
            "order": null,
            "overflow": null,
            "overflow_x": null,
            "overflow_y": null,
            "padding": null,
            "right": null,
            "top": null,
            "visibility": null,
            "width": null
          }
        },
        "a435339120a54fe0bf388f1ce87148dd": {
          "model_module": "@jupyter-widgets/controls",
          "model_name": "ProgressStyleModel",
          "model_module_version": "1.5.0",
          "state": {
            "_model_module": "@jupyter-widgets/controls",
            "_model_module_version": "1.5.0",
            "_model_name": "ProgressStyleModel",
            "_view_count": null,
            "_view_module": "@jupyter-widgets/base",
            "_view_module_version": "1.2.0",
            "_view_name": "StyleView",
            "bar_color": null,
            "description_width": ""
          }
        },
        "abd74a0b2d29480eb79e68cfa72fa840": {
          "model_module": "@jupyter-widgets/base",
          "model_name": "LayoutModel",
          "model_module_version": "1.2.0",
          "state": {
            "_model_module": "@jupyter-widgets/base",
            "_model_module_version": "1.2.0",
            "_model_name": "LayoutModel",
            "_view_count": null,
            "_view_module": "@jupyter-widgets/base",
            "_view_module_version": "1.2.0",
            "_view_name": "LayoutView",
            "align_content": null,
            "align_items": null,
            "align_self": null,
            "border": null,
            "bottom": null,
            "display": null,
            "flex": null,
            "flex_flow": null,
            "grid_area": null,
            "grid_auto_columns": null,
            "grid_auto_flow": null,
            "grid_auto_rows": null,
            "grid_column": null,
            "grid_gap": null,
            "grid_row": null,
            "grid_template_areas": null,
            "grid_template_columns": null,
            "grid_template_rows": null,
            "height": null,
            "justify_content": null,
            "justify_items": null,
            "left": null,
            "margin": null,
            "max_height": null,
            "max_width": null,
            "min_height": null,
            "min_width": null,
            "object_fit": null,
            "object_position": null,
            "order": null,
            "overflow": null,
            "overflow_x": null,
            "overflow_y": null,
            "padding": null,
            "right": null,
            "top": null,
            "visibility": null,
            "width": null
          }
        },
        "6e8db5d831714cfabbb55ac7695153e1": {
          "model_module": "@jupyter-widgets/controls",
          "model_name": "DescriptionStyleModel",
          "model_module_version": "1.5.0",
          "state": {
            "_model_module": "@jupyter-widgets/controls",
            "_model_module_version": "1.5.0",
            "_model_name": "DescriptionStyleModel",
            "_view_count": null,
            "_view_module": "@jupyter-widgets/base",
            "_view_module_version": "1.2.0",
            "_view_name": "StyleView",
            "description_width": ""
          }
        }
      }
    }
  },
  "nbformat": 4,
  "nbformat_minor": 0
}